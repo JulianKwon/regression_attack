{
 "cells": [
  {
   "cell_type": "code",
   "execution_count": 1,
   "metadata": {},
   "outputs": [],
   "source": [
    "import torch\n",
    "import torch.nn as nn\n",
    "from torch.autograd import Variable\n",
    "\n",
    "from torch import nn, optim\n",
    "from torch.utils.data import TensorDataset, DataLoader\n",
    "\n",
    "import pickle\n",
    "import numpy as np\n",
    "\n",
    "from tqdm import tnrange, tqdm_notebook\n",
    "from sklearn.model_selection import train_test_split\n",
    "import matplotlib.pyplot as plt"
   ]
  },
  {
   "cell_type": "markdown",
   "metadata": {},
   "source": [
    "## Import data and make dataset"
   ]
  },
  {
   "cell_type": "code",
   "execution_count": 2,
   "metadata": {},
   "outputs": [],
   "source": [
    "X_train = pickle.load(open('Data/classification/X_train.pkl', 'rb'))\n",
    "y_train = pickle.load(open('Data/classification/y_train.pkl', 'rb'))\n",
    "X_test = pickle.load(open('Data/classification/X_test.pkl', 'rb'))\n",
    "y_test = pickle.load(open('Data/classification/y_test.pkl', 'rb'))\n",
    "\n",
    "X_train, X_val, y_train, y_val = train_test_split(X_train, y_train, test_size=0.2)"
   ]
  },
  {
   "cell_type": "code",
   "execution_count": 3,
   "metadata": {},
   "outputs": [
    {
     "data": {
      "text/plain": [
       "(115779, 5, 200)"
      ]
     },
     "execution_count": 3,
     "metadata": {},
     "output_type": "execute_result"
    }
   ],
   "source": [
    "X_train.shape"
   ]
  },
  {
   "cell_type": "code",
   "execution_count": 4,
   "metadata": {
    "scrolled": true
   },
   "outputs": [
    {
     "data": {
      "text/plain": [
       "(28945, 5, 200)"
      ]
     },
     "execution_count": 4,
     "metadata": {},
     "output_type": "execute_result"
    }
   ],
   "source": [
    "X_val.shape"
   ]
  },
  {
   "cell_type": "code",
   "execution_count": 5,
   "metadata": {},
   "outputs": [],
   "source": [
    "X_train = torch.tensor(X_train, dtype=torch.float32)\n",
    "y_train = torch.tensor(y_train, dtype=torch.float32)\n",
    "X_test = torch.tensor(X_test, dtype=torch.float32)\n",
    "y_test = torch.tensor(y_test, dtype=torch.float32)\n",
    "X_val = torch.tensor(X_val, dtype=torch.float32)\n",
    "y_val = torch.tensor(y_val, dtype=torch.float32)\n",
    "\n",
    "train_ds = TensorDataset(X_train, y_train)\n",
    "test_ds = TensorDataset(X_test, y_test)\n",
    "val_ds = TensorDataset(X_val, y_val)"
   ]
  },
  {
   "cell_type": "code",
   "execution_count": 6,
   "metadata": {},
   "outputs": [],
   "source": [
    "test = X_train[0].unsqueeze(0)\n",
    "\n",
    "# conv1 = nn.Conv1d(5, 16, 5)\n",
    "# conv2 = nn.Conv1d(16, 32, 5)\n",
    "# nn.MaxPool1d(2)\n",
    "\n",
    "# result1 = conv1(test)\n",
    "\n",
    "# result2 = conv2(result1)\n",
    "\n",
    "# result1.shape, result2.shape\n",
    "\n",
    "# fc = nn.Linear(result2.shape[1]*result2.shape[2], 256)\n",
    "\n",
    "# final = fc(result2.view(result2.size(0), -1))\n",
    "\n",
    "# final.shape"
   ]
  },
  {
   "cell_type": "markdown",
   "metadata": {},
   "source": [
    "## Define regression model"
   ]
  },
  {
   "cell_type": "code",
   "execution_count": 6,
   "metadata": {},
   "outputs": [],
   "source": [
    "class LeNet_1D(nn.Module):\n",
    "    def __init__(self, input_channel=5, dropout=0):\n",
    "        super(LeNet_1D, self).__init__()\n",
    "\n",
    "        self.conv1 = nn.Conv1d(input_channel, 16, 5)\n",
    "        self.conv2 = nn.Conv1d(16, 32, 5)\n",
    "\n",
    "        self.fc1 = nn.Linear(32*47, 256)\n",
    "        self.fc2 = nn.Linear(256, 64)\n",
    "        self.fc3 = nn.Linear(64, 5)\n",
    "\n",
    "        self.convolutions = nn.Sequential(\n",
    "            self.conv1,  # 5 -> 16\n",
    "            nn.MaxPool1d(2),\n",
    "            self.conv2,  # 16 -> 32\n",
    "            nn.MaxPool1d(2)\n",
    "        )\n",
    "        self.linears = nn.Sequential(\n",
    "            self.fc1,\n",
    "            nn.LeakyReLU(),\n",
    "            self.fc2,\n",
    "            nn.LeakyReLU(),\n",
    "            self.fc3\n",
    "        )\n",
    "\n",
    "    def forward(self, x):\n",
    "        out = self.convolutions(x)\n",
    "        out = out.view(out.size(0), -1)\n",
    "        out = self.linears(out)\n",
    "        return out\n",
    "\n",
    "    def _initialize_weights(self):\n",
    "        for m in self.modules():\n",
    "            if isinstance(m, nn.Conv1d):\n",
    "                nn.init.kaiming_normal_(m.weight, mode='fan_out', nonlinearity='relu')\n",
    "                if m.bias is not None:\n",
    "                    nn.init.constant_(m.bias, 0)\n",
    "            elif isinstance(m, nn.BatchNorm2d):\n",
    "                nn.init.constant_(m.weight, 1)\n",
    "                nn.init.constant_(m.bias, 0)\n",
    "            elif isinstance(m, nn.Linear):\n",
    "                nn.init.normal_(m.weight, 0, 0.01)\n",
    "                nn.init.constant_(m.bias, 0)"
   ]
  },
  {
   "cell_type": "markdown",
   "metadata": {},
   "source": [
    "## training"
   ]
  },
  {
   "cell_type": "code",
   "execution_count": 7,
   "metadata": {},
   "outputs": [],
   "source": [
    "def train(net, trainloader):\n",
    "    net.train()\n",
    "    \n",
    "    lossSum = 0\n",
    "    idx = 0\n",
    "    \n",
    "    for X, y in tqdm_notebook(trainloader, desc='dataset loop:'):\n",
    "        X, y = X.to(device), y.to(device)\n",
    "        idx += 1\n",
    "        predict = net(X)\n",
    "        \n",
    "        optimizer.zero_grad()\n",
    "        loss = criterion(predict, y)\n",
    "        lossSum += loss.item()\n",
    "        loss.backward()\n",
    "        optimizer.step()\n",
    "    \n",
    "    return lossSum / idx\n",
    "\n",
    "\n",
    "def validation(net, validationloader):\n",
    "    net.eval()\n",
    "    \n",
    "    lossSum = 0\n",
    "    idx = 0\n",
    "    \n",
    "    for X, y in validationloader:\n",
    "        X, y = X.to(device), y.to(device)\n",
    "        idx += 1\n",
    "        predict = net(X)\n",
    "        loss = criterion(predict, y)\n",
    "        lossSum += loss.item()\n",
    "    \n",
    "    return lossSum / idx"
   ]
  },
  {
   "cell_type": "code",
   "execution_count": 8,
   "metadata": {
    "scrolled": true
   },
   "outputs": [],
   "source": [
    "net = LeNet_1D()\n",
    "EPOCH = 200\n",
    "gpu_idx = 0\n",
    "batch_size = 50\n",
    "learning_rate = 1e-3\n",
    "weight_decay = 5e-6\n",
    "tloss = []\n",
    "vloss = []\n",
    "\n",
    "device = 'cuda:%d' % gpu_idx if torch.cuda.is_available() else 'cpu'\n",
    "\n",
    "trainloader = DataLoader(train_ds, batch_size=batch_size, shuffle=True, num_workers=10)\n",
    "validationloader = DataLoader(val_ds, batch_size=batch_size, shuffle=True, num_workers=10)\n",
    "\n",
    "criterion = getattr(nn, 'MSELoss')()\n",
    "# criterion = nn.CrossEntropyLoss()\n",
    "optimizer = optim.Adam(net.parameters(), lr=learning_rate, weight_decay=weight_decay)"
   ]
  },
  {
   "cell_type": "markdown",
   "metadata": {},
   "source": [
    "## Training Code"
   ]
  },
  {
   "cell_type": "code",
   "execution_count": 9,
   "metadata": {},
   "outputs": [],
   "source": [
    "import copy"
   ]
  },
  {
   "cell_type": "code",
   "execution_count": 16,
   "metadata": {
    "scrolled": true
   },
   "outputs": [
    {
     "data": {
      "application/vnd.jupyter.widget-view+json": {
       "model_id": "f112c845ba8149b28672d9a1d1bd134c",
       "version_major": 2,
       "version_minor": 0
      },
      "text/plain": [
       "HBox(children=(IntProgress(value=0, description='epoch loop:', max=200, style=ProgressStyle(description_width=…"
      ]
     },
     "metadata": {},
     "output_type": "display_data"
    },
    {
     "data": {
      "application/vnd.jupyter.widget-view+json": {
       "model_id": "34d25305ada44b4aad1e014595c85741",
       "version_major": 2,
       "version_minor": 0
      },
      "text/plain": [
       "HBox(children=(IntProgress(value=0, description='dataset loop:', max=2316, style=ProgressStyle(description_wid…"
      ]
     },
     "metadata": {},
     "output_type": "display_data"
    },
    {
     "name": "stdout",
     "output_type": "stream",
     "text": [
      "\n"
     ]
    },
    {
     "data": {
      "application/vnd.jupyter.widget-view+json": {
       "model_id": "cbb397328ca549759a0f355235fa4262",
       "version_major": 2,
       "version_minor": 0
      },
      "text/plain": [
       "HBox(children=(IntProgress(value=0, description='dataset loop:', max=2316, style=ProgressStyle(description_wid…"
      ]
     },
     "metadata": {},
     "output_type": "display_data"
    },
    {
     "name": "stdout",
     "output_type": "stream",
     "text": [
      "\n"
     ]
    },
    {
     "data": {
      "application/vnd.jupyter.widget-view+json": {
       "model_id": "532e2ef801b2403fad6032cd711da606",
       "version_major": 2,
       "version_minor": 0
      },
      "text/plain": [
       "HBox(children=(IntProgress(value=0, description='dataset loop:', max=2316, style=ProgressStyle(description_wid…"
      ]
     },
     "metadata": {},
     "output_type": "display_data"
    },
    {
     "name": "stdout",
     "output_type": "stream",
     "text": [
      "\n"
     ]
    },
    {
     "data": {
      "application/vnd.jupyter.widget-view+json": {
       "model_id": "f567ce3eca434ce3aa373c7d1553fa17",
       "version_major": 2,
       "version_minor": 0
      },
      "text/plain": [
       "HBox(children=(IntProgress(value=0, description='dataset loop:', max=2316, style=ProgressStyle(description_wid…"
      ]
     },
     "metadata": {},
     "output_type": "display_data"
    },
    {
     "name": "stdout",
     "output_type": "stream",
     "text": [
      "\n"
     ]
    },
    {
     "data": {
      "application/vnd.jupyter.widget-view+json": {
       "model_id": "d6783f37ceca427288c0ac343058c474",
       "version_major": 2,
       "version_minor": 0
      },
      "text/plain": [
       "HBox(children=(IntProgress(value=0, description='dataset loop:', max=2316, style=ProgressStyle(description_wid…"
      ]
     },
     "metadata": {},
     "output_type": "display_data"
    },
    {
     "name": "stdout",
     "output_type": "stream",
     "text": [
      "\n"
     ]
    },
    {
     "data": {
      "application/vnd.jupyter.widget-view+json": {
       "model_id": "164d91ecb43641a0a9c4efd9b886ec4b",
       "version_major": 2,
       "version_minor": 0
      },
      "text/plain": [
       "HBox(children=(IntProgress(value=0, description='dataset loop:', max=2316, style=ProgressStyle(description_wid…"
      ]
     },
     "metadata": {},
     "output_type": "display_data"
    },
    {
     "name": "stdout",
     "output_type": "stream",
     "text": [
      "\n"
     ]
    },
    {
     "data": {
      "application/vnd.jupyter.widget-view+json": {
       "model_id": "3e313b41a5ec4ca6a2ce8c15369b3147",
       "version_major": 2,
       "version_minor": 0
      },
      "text/plain": [
       "HBox(children=(IntProgress(value=0, description='dataset loop:', max=2316, style=ProgressStyle(description_wid…"
      ]
     },
     "metadata": {},
     "output_type": "display_data"
    },
    {
     "name": "stdout",
     "output_type": "stream",
     "text": [
      "\n"
     ]
    },
    {
     "data": {
      "application/vnd.jupyter.widget-view+json": {
       "model_id": "0b72811a8991460083965e2b1fca3c94",
       "version_major": 2,
       "version_minor": 0
      },
      "text/plain": [
       "HBox(children=(IntProgress(value=0, description='dataset loop:', max=2316, style=ProgressStyle(description_wid…"
      ]
     },
     "metadata": {},
     "output_type": "display_data"
    },
    {
     "name": "stdout",
     "output_type": "stream",
     "text": [
      "\n"
     ]
    },
    {
     "data": {
      "application/vnd.jupyter.widget-view+json": {
       "model_id": "66e798d18b264be791c339dad7f63361",
       "version_major": 2,
       "version_minor": 0
      },
      "text/plain": [
       "HBox(children=(IntProgress(value=0, description='dataset loop:', max=2316, style=ProgressStyle(description_wid…"
      ]
     },
     "metadata": {},
     "output_type": "display_data"
    },
    {
     "name": "stdout",
     "output_type": "stream",
     "text": [
      "\n"
     ]
    },
    {
     "data": {
      "application/vnd.jupyter.widget-view+json": {
       "model_id": "1f80ab7d49e644c4b2c2609634bd9c2a",
       "version_major": 2,
       "version_minor": 0
      },
      "text/plain": [
       "HBox(children=(IntProgress(value=0, description='dataset loop:', max=2316, style=ProgressStyle(description_wid…"
      ]
     },
     "metadata": {},
     "output_type": "display_data"
    },
    {
     "name": "stdout",
     "output_type": "stream",
     "text": [
      "\n"
     ]
    },
    {
     "data": {
      "application/vnd.jupyter.widget-view+json": {
       "model_id": "ac061c74d93d4e4a81c02c33c427fe1b",
       "version_major": 2,
       "version_minor": 0
      },
      "text/plain": [
       "HBox(children=(IntProgress(value=0, description='dataset loop:', max=2316, style=ProgressStyle(description_wid…"
      ]
     },
     "metadata": {},
     "output_type": "display_data"
    },
    {
     "name": "stdout",
     "output_type": "stream",
     "text": [
      "\n"
     ]
    },
    {
     "data": {
      "application/vnd.jupyter.widget-view+json": {
       "model_id": "f7112335c94749ab9931f23648b75563",
       "version_major": 2,
       "version_minor": 0
      },
      "text/plain": [
       "HBox(children=(IntProgress(value=0, description='dataset loop:', max=2316, style=ProgressStyle(description_wid…"
      ]
     },
     "metadata": {},
     "output_type": "display_data"
    },
    {
     "name": "stdout",
     "output_type": "stream",
     "text": [
      "\n"
     ]
    },
    {
     "data": {
      "application/vnd.jupyter.widget-view+json": {
       "model_id": "d2b20d48079b4ebc97e6823ebb06b7ae",
       "version_major": 2,
       "version_minor": 0
      },
      "text/plain": [
       "HBox(children=(IntProgress(value=0, description='dataset loop:', max=2316, style=ProgressStyle(description_wid…"
      ]
     },
     "metadata": {},
     "output_type": "display_data"
    },
    {
     "name": "stdout",
     "output_type": "stream",
     "text": [
      "\n"
     ]
    },
    {
     "data": {
      "application/vnd.jupyter.widget-view+json": {
       "model_id": "f1caa571544046e1b932c80ed6d92d0f",
       "version_major": 2,
       "version_minor": 0
      },
      "text/plain": [
       "HBox(children=(IntProgress(value=0, description='dataset loop:', max=2316, style=ProgressStyle(description_wid…"
      ]
     },
     "metadata": {},
     "output_type": "display_data"
    },
    {
     "name": "stdout",
     "output_type": "stream",
     "text": [
      "\n"
     ]
    },
    {
     "data": {
      "application/vnd.jupyter.widget-view+json": {
       "model_id": "44eabf31f8504192a17b03021a9db345",
       "version_major": 2,
       "version_minor": 0
      },
      "text/plain": [
       "HBox(children=(IntProgress(value=0, description='dataset loop:', max=2316, style=ProgressStyle(description_wid…"
      ]
     },
     "metadata": {},
     "output_type": "display_data"
    },
    {
     "name": "stdout",
     "output_type": "stream",
     "text": [
      "\n"
     ]
    },
    {
     "data": {
      "application/vnd.jupyter.widget-view+json": {
       "model_id": "c88d915398a644ca860edc38111b291c",
       "version_major": 2,
       "version_minor": 0
      },
      "text/plain": [
       "HBox(children=(IntProgress(value=0, description='dataset loop:', max=2316, style=ProgressStyle(description_wid…"
      ]
     },
     "metadata": {},
     "output_type": "display_data"
    },
    {
     "name": "stdout",
     "output_type": "stream",
     "text": [
      "\n"
     ]
    },
    {
     "data": {
      "application/vnd.jupyter.widget-view+json": {
       "model_id": "43c5d14b47fd432fac8b195820c0ad93",
       "version_major": 2,
       "version_minor": 0
      },
      "text/plain": [
       "HBox(children=(IntProgress(value=0, description='dataset loop:', max=2316, style=ProgressStyle(description_wid…"
      ]
     },
     "metadata": {},
     "output_type": "display_data"
    },
    {
     "name": "stdout",
     "output_type": "stream",
     "text": [
      "\n"
     ]
    },
    {
     "data": {
      "application/vnd.jupyter.widget-view+json": {
       "model_id": "7b82691f458d4c74964fe7d55d095bfb",
       "version_major": 2,
       "version_minor": 0
      },
      "text/plain": [
       "HBox(children=(IntProgress(value=0, description='dataset loop:', max=2316, style=ProgressStyle(description_wid…"
      ]
     },
     "metadata": {},
     "output_type": "display_data"
    },
    {
     "name": "stdout",
     "output_type": "stream",
     "text": [
      "\n"
     ]
    },
    {
     "data": {
      "application/vnd.jupyter.widget-view+json": {
       "model_id": "aa326dad7eb94fd0863a8a83393c6ce5",
       "version_major": 2,
       "version_minor": 0
      },
      "text/plain": [
       "HBox(children=(IntProgress(value=0, description='dataset loop:', max=2316, style=ProgressStyle(description_wid…"
      ]
     },
     "metadata": {},
     "output_type": "display_data"
    },
    {
     "name": "stdout",
     "output_type": "stream",
     "text": [
      "\n"
     ]
    },
    {
     "data": {
      "application/vnd.jupyter.widget-view+json": {
       "model_id": "adf120733d3d439ab22f6c7791819dfe",
       "version_major": 2,
       "version_minor": 0
      },
      "text/plain": [
       "HBox(children=(IntProgress(value=0, description='dataset loop:', max=2316, style=ProgressStyle(description_wid…"
      ]
     },
     "metadata": {},
     "output_type": "display_data"
    },
    {
     "name": "stdout",
     "output_type": "stream",
     "text": [
      "\n"
     ]
    },
    {
     "data": {
      "application/vnd.jupyter.widget-view+json": {
       "model_id": "9e9760bb4d2943d28a723bfeffe45fde",
       "version_major": 2,
       "version_minor": 0
      },
      "text/plain": [
       "HBox(children=(IntProgress(value=0, description='dataset loop:', max=2316, style=ProgressStyle(description_wid…"
      ]
     },
     "metadata": {},
     "output_type": "display_data"
    },
    {
     "name": "stdout",
     "output_type": "stream",
     "text": [
      "\n"
     ]
    },
    {
     "data": {
      "application/vnd.jupyter.widget-view+json": {
       "model_id": "1c10e643c0af4caf998b27a8a58a82bd",
       "version_major": 2,
       "version_minor": 0
      },
      "text/plain": [
       "HBox(children=(IntProgress(value=0, description='dataset loop:', max=2316, style=ProgressStyle(description_wid…"
      ]
     },
     "metadata": {},
     "output_type": "display_data"
    },
    {
     "name": "stdout",
     "output_type": "stream",
     "text": [
      "\n"
     ]
    },
    {
     "data": {
      "application/vnd.jupyter.widget-view+json": {
       "model_id": "5f1924e1253d42e6a01ade216686d995",
       "version_major": 2,
       "version_minor": 0
      },
      "text/plain": [
       "HBox(children=(IntProgress(value=0, description='dataset loop:', max=2316, style=ProgressStyle(description_wid…"
      ]
     },
     "metadata": {},
     "output_type": "display_data"
    },
    {
     "name": "stdout",
     "output_type": "stream",
     "text": [
      "\n"
     ]
    },
    {
     "data": {
      "application/vnd.jupyter.widget-view+json": {
       "model_id": "bd552c2227c349ab8c996d11725d561e",
       "version_major": 2,
       "version_minor": 0
      },
      "text/plain": [
       "HBox(children=(IntProgress(value=0, description='dataset loop:', max=2316, style=ProgressStyle(description_wid…"
      ]
     },
     "metadata": {},
     "output_type": "display_data"
    },
    {
     "name": "stdout",
     "output_type": "stream",
     "text": [
      "\n"
     ]
    },
    {
     "data": {
      "application/vnd.jupyter.widget-view+json": {
       "model_id": "43316aa4991c4a5f8ca6eb0a4c7b50fa",
       "version_major": 2,
       "version_minor": 0
      },
      "text/plain": [
       "HBox(children=(IntProgress(value=0, description='dataset loop:', max=2316, style=ProgressStyle(description_wid…"
      ]
     },
     "metadata": {},
     "output_type": "display_data"
    },
    {
     "name": "stdout",
     "output_type": "stream",
     "text": [
      "\n"
     ]
    },
    {
     "data": {
      "application/vnd.jupyter.widget-view+json": {
       "model_id": "fa6562a2b28a460db9822cdc8504e947",
       "version_major": 2,
       "version_minor": 0
      },
      "text/plain": [
       "HBox(children=(IntProgress(value=0, description='dataset loop:', max=2316, style=ProgressStyle(description_wid…"
      ]
     },
     "metadata": {},
     "output_type": "display_data"
    },
    {
     "name": "stdout",
     "output_type": "stream",
     "text": [
      "\n"
     ]
    },
    {
     "data": {
      "application/vnd.jupyter.widget-view+json": {
       "model_id": "89a8e9c1e61b45a184d50f026758791c",
       "version_major": 2,
       "version_minor": 0
      },
      "text/plain": [
       "HBox(children=(IntProgress(value=0, description='dataset loop:', max=2316, style=ProgressStyle(description_wid…"
      ]
     },
     "metadata": {},
     "output_type": "display_data"
    },
    {
     "name": "stdout",
     "output_type": "stream",
     "text": [
      "\n"
     ]
    },
    {
     "data": {
      "application/vnd.jupyter.widget-view+json": {
       "model_id": "5e81362ed10948eda70508fc619ce941",
       "version_major": 2,
       "version_minor": 0
      },
      "text/plain": [
       "HBox(children=(IntProgress(value=0, description='dataset loop:', max=2316, style=ProgressStyle(description_wid…"
      ]
     },
     "metadata": {},
     "output_type": "display_data"
    },
    {
     "name": "stdout",
     "output_type": "stream",
     "text": [
      "\n"
     ]
    },
    {
     "data": {
      "application/vnd.jupyter.widget-view+json": {
       "model_id": "81b8643575e946a2aa6e8f5d7b1b4d65",
       "version_major": 2,
       "version_minor": 0
      },
      "text/plain": [
       "HBox(children=(IntProgress(value=0, description='dataset loop:', max=2316, style=ProgressStyle(description_wid…"
      ]
     },
     "metadata": {},
     "output_type": "display_data"
    },
    {
     "name": "stdout",
     "output_type": "stream",
     "text": [
      "\n"
     ]
    },
    {
     "data": {
      "application/vnd.jupyter.widget-view+json": {
       "model_id": "2aa28c5fcdbb44278ba832891177c207",
       "version_major": 2,
       "version_minor": 0
      },
      "text/plain": [
       "HBox(children=(IntProgress(value=0, description='dataset loop:', max=2316, style=ProgressStyle(description_wid…"
      ]
     },
     "metadata": {},
     "output_type": "display_data"
    },
    {
     "name": "stdout",
     "output_type": "stream",
     "text": [
      "\n"
     ]
    },
    {
     "data": {
      "application/vnd.jupyter.widget-view+json": {
       "model_id": "77d6b20b4f4a432baa9bb0c161cad7eb",
       "version_major": 2,
       "version_minor": 0
      },
      "text/plain": [
       "HBox(children=(IntProgress(value=0, description='dataset loop:', max=2316, style=ProgressStyle(description_wid…"
      ]
     },
     "metadata": {},
     "output_type": "display_data"
    },
    {
     "name": "stdout",
     "output_type": "stream",
     "text": [
      "\n"
     ]
    },
    {
     "data": {
      "application/vnd.jupyter.widget-view+json": {
       "model_id": "606e6d14bc814a2285bd132698f0f98f",
       "version_major": 2,
       "version_minor": 0
      },
      "text/plain": [
       "HBox(children=(IntProgress(value=0, description='dataset loop:', max=2316, style=ProgressStyle(description_wid…"
      ]
     },
     "metadata": {},
     "output_type": "display_data"
    },
    {
     "name": "stdout",
     "output_type": "stream",
     "text": [
      "\n"
     ]
    },
    {
     "data": {
      "application/vnd.jupyter.widget-view+json": {
       "model_id": "09e3ba717bad4b31b9410b68e041d206",
       "version_major": 2,
       "version_minor": 0
      },
      "text/plain": [
       "HBox(children=(IntProgress(value=0, description='dataset loop:', max=2316, style=ProgressStyle(description_wid…"
      ]
     },
     "metadata": {},
     "output_type": "display_data"
    },
    {
     "name": "stdout",
     "output_type": "stream",
     "text": [
      "\n"
     ]
    },
    {
     "data": {
      "application/vnd.jupyter.widget-view+json": {
       "model_id": "2a329a8b02c94b7f899b97e23d7db3c2",
       "version_major": 2,
       "version_minor": 0
      },
      "text/plain": [
       "HBox(children=(IntProgress(value=0, description='dataset loop:', max=2316, style=ProgressStyle(description_wid…"
      ]
     },
     "metadata": {},
     "output_type": "display_data"
    },
    {
     "name": "stdout",
     "output_type": "stream",
     "text": [
      "\n"
     ]
    },
    {
     "data": {
      "application/vnd.jupyter.widget-view+json": {
       "model_id": "174b92371ea34495a192332450479424",
       "version_major": 2,
       "version_minor": 0
      },
      "text/plain": [
       "HBox(children=(IntProgress(value=0, description='dataset loop:', max=2316, style=ProgressStyle(description_wid…"
      ]
     },
     "metadata": {},
     "output_type": "display_data"
    },
    {
     "name": "stdout",
     "output_type": "stream",
     "text": [
      "\n"
     ]
    },
    {
     "data": {
      "application/vnd.jupyter.widget-view+json": {
       "model_id": "f7bd1e9f97a74f32aa76e5c553de2cf1",
       "version_major": 2,
       "version_minor": 0
      },
      "text/plain": [
       "HBox(children=(IntProgress(value=0, description='dataset loop:', max=2316, style=ProgressStyle(description_wid…"
      ]
     },
     "metadata": {},
     "output_type": "display_data"
    },
    {
     "name": "stdout",
     "output_type": "stream",
     "text": [
      "\n"
     ]
    },
    {
     "data": {
      "application/vnd.jupyter.widget-view+json": {
       "model_id": "ff480b11a9a345c3a7bf870a1c403b0d",
       "version_major": 2,
       "version_minor": 0
      },
      "text/plain": [
       "HBox(children=(IntProgress(value=0, description='dataset loop:', max=2316, style=ProgressStyle(description_wid…"
      ]
     },
     "metadata": {},
     "output_type": "display_data"
    },
    {
     "name": "stdout",
     "output_type": "stream",
     "text": [
      "\n"
     ]
    },
    {
     "data": {
      "application/vnd.jupyter.widget-view+json": {
       "model_id": "16586e28f5414ee587c72b0a9f7b051c",
       "version_major": 2,
       "version_minor": 0
      },
      "text/plain": [
       "HBox(children=(IntProgress(value=0, description='dataset loop:', max=2316, style=ProgressStyle(description_wid…"
      ]
     },
     "metadata": {},
     "output_type": "display_data"
    },
    {
     "name": "stdout",
     "output_type": "stream",
     "text": [
      "\n"
     ]
    },
    {
     "data": {
      "application/vnd.jupyter.widget-view+json": {
       "model_id": "65ca56c76db64495b36ab7df6cb2758c",
       "version_major": 2,
       "version_minor": 0
      },
      "text/plain": [
       "HBox(children=(IntProgress(value=0, description='dataset loop:', max=2316, style=ProgressStyle(description_wid…"
      ]
     },
     "metadata": {},
     "output_type": "display_data"
    },
    {
     "name": "stdout",
     "output_type": "stream",
     "text": [
      "\n"
     ]
    },
    {
     "data": {
      "application/vnd.jupyter.widget-view+json": {
       "model_id": "62e094812b5e4339a6599297ba97fb42",
       "version_major": 2,
       "version_minor": 0
      },
      "text/plain": [
       "HBox(children=(IntProgress(value=0, description='dataset loop:', max=2316, style=ProgressStyle(description_wid…"
      ]
     },
     "metadata": {},
     "output_type": "display_data"
    },
    {
     "name": "stdout",
     "output_type": "stream",
     "text": [
      "\n"
     ]
    },
    {
     "data": {
      "application/vnd.jupyter.widget-view+json": {
       "model_id": "73ccc33837d643ac8eabf8e4391d9ab7",
       "version_major": 2,
       "version_minor": 0
      },
      "text/plain": [
       "HBox(children=(IntProgress(value=0, description='dataset loop:', max=2316, style=ProgressStyle(description_wid…"
      ]
     },
     "metadata": {},
     "output_type": "display_data"
    },
    {
     "name": "stdout",
     "output_type": "stream",
     "text": [
      "\n"
     ]
    },
    {
     "data": {
      "application/vnd.jupyter.widget-view+json": {
       "model_id": "f50f8244a6bb4e0289262d3986974f78",
       "version_major": 2,
       "version_minor": 0
      },
      "text/plain": [
       "HBox(children=(IntProgress(value=0, description='dataset loop:', max=2316, style=ProgressStyle(description_wid…"
      ]
     },
     "metadata": {},
     "output_type": "display_data"
    },
    {
     "name": "stdout",
     "output_type": "stream",
     "text": [
      "\n"
     ]
    },
    {
     "data": {
      "application/vnd.jupyter.widget-view+json": {
       "model_id": "ca2c6e9298ce4c06823df4410d4e6290",
       "version_major": 2,
       "version_minor": 0
      },
      "text/plain": [
       "HBox(children=(IntProgress(value=0, description='dataset loop:', max=2316, style=ProgressStyle(description_wid…"
      ]
     },
     "metadata": {},
     "output_type": "display_data"
    },
    {
     "name": "stdout",
     "output_type": "stream",
     "text": [
      "\n"
     ]
    },
    {
     "data": {
      "application/vnd.jupyter.widget-view+json": {
       "model_id": "d7339fc431a741cbba25e72af8e3e6b3",
       "version_major": 2,
       "version_minor": 0
      },
      "text/plain": [
       "HBox(children=(IntProgress(value=0, description='dataset loop:', max=2316, style=ProgressStyle(description_wid…"
      ]
     },
     "metadata": {},
     "output_type": "display_data"
    },
    {
     "name": "stdout",
     "output_type": "stream",
     "text": [
      "\n"
     ]
    },
    {
     "data": {
      "application/vnd.jupyter.widget-view+json": {
       "model_id": "2b6e913b600947e69ec5761ccf20db29",
       "version_major": 2,
       "version_minor": 0
      },
      "text/plain": [
       "HBox(children=(IntProgress(value=0, description='dataset loop:', max=2316, style=ProgressStyle(description_wid…"
      ]
     },
     "metadata": {},
     "output_type": "display_data"
    },
    {
     "name": "stdout",
     "output_type": "stream",
     "text": [
      "\n"
     ]
    },
    {
     "data": {
      "application/vnd.jupyter.widget-view+json": {
       "model_id": "8014b412ed58441daf96cffe22107c4b",
       "version_major": 2,
       "version_minor": 0
      },
      "text/plain": [
       "HBox(children=(IntProgress(value=0, description='dataset loop:', max=2316, style=ProgressStyle(description_wid…"
      ]
     },
     "metadata": {},
     "output_type": "display_data"
    },
    {
     "name": "stdout",
     "output_type": "stream",
     "text": [
      "\n"
     ]
    },
    {
     "data": {
      "application/vnd.jupyter.widget-view+json": {
       "model_id": "a8b904c37eff42f69e52222bb1b33fa1",
       "version_major": 2,
       "version_minor": 0
      },
      "text/plain": [
       "HBox(children=(IntProgress(value=0, description='dataset loop:', max=2316, style=ProgressStyle(description_wid…"
      ]
     },
     "metadata": {},
     "output_type": "display_data"
    },
    {
     "name": "stdout",
     "output_type": "stream",
     "text": [
      "\n"
     ]
    },
    {
     "data": {
      "application/vnd.jupyter.widget-view+json": {
       "model_id": "997ed6345c284183a0c10bc7bc11c594",
       "version_major": 2,
       "version_minor": 0
      },
      "text/plain": [
       "HBox(children=(IntProgress(value=0, description='dataset loop:', max=2316, style=ProgressStyle(description_wid…"
      ]
     },
     "metadata": {},
     "output_type": "display_data"
    },
    {
     "name": "stdout",
     "output_type": "stream",
     "text": [
      "\n"
     ]
    },
    {
     "data": {
      "application/vnd.jupyter.widget-view+json": {
       "model_id": "dcb7ab898a724457bb5639a6c31373ad",
       "version_major": 2,
       "version_minor": 0
      },
      "text/plain": [
       "HBox(children=(IntProgress(value=0, description='dataset loop:', max=2316, style=ProgressStyle(description_wid…"
      ]
     },
     "metadata": {},
     "output_type": "display_data"
    },
    {
     "name": "stdout",
     "output_type": "stream",
     "text": [
      "\n"
     ]
    },
    {
     "data": {
      "application/vnd.jupyter.widget-view+json": {
       "model_id": "cec7ae3f420f4421b491adf6af5e6238",
       "version_major": 2,
       "version_minor": 0
      },
      "text/plain": [
       "HBox(children=(IntProgress(value=0, description='dataset loop:', max=2316, style=ProgressStyle(description_wid…"
      ]
     },
     "metadata": {},
     "output_type": "display_data"
    },
    {
     "name": "stdout",
     "output_type": "stream",
     "text": [
      "\n"
     ]
    },
    {
     "data": {
      "application/vnd.jupyter.widget-view+json": {
       "model_id": "2fdc6679edfd41329e52687cf43c478a",
       "version_major": 2,
       "version_minor": 0
      },
      "text/plain": [
       "HBox(children=(IntProgress(value=0, description='dataset loop:', max=2316, style=ProgressStyle(description_wid…"
      ]
     },
     "metadata": {},
     "output_type": "display_data"
    },
    {
     "name": "stdout",
     "output_type": "stream",
     "text": [
      "\n"
     ]
    },
    {
     "data": {
      "application/vnd.jupyter.widget-view+json": {
       "model_id": "a66aa43817bb455f8d78d149ce1a45db",
       "version_major": 2,
       "version_minor": 0
      },
      "text/plain": [
       "HBox(children=(IntProgress(value=0, description='dataset loop:', max=2316, style=ProgressStyle(description_wid…"
      ]
     },
     "metadata": {},
     "output_type": "display_data"
    },
    {
     "name": "stdout",
     "output_type": "stream",
     "text": [
      "\n"
     ]
    },
    {
     "data": {
      "application/vnd.jupyter.widget-view+json": {
       "model_id": "a4f9d2dc0b11465681fe37b4631ba3f5",
       "version_major": 2,
       "version_minor": 0
      },
      "text/plain": [
       "HBox(children=(IntProgress(value=0, description='dataset loop:', max=2316, style=ProgressStyle(description_wid…"
      ]
     },
     "metadata": {},
     "output_type": "display_data"
    },
    {
     "name": "stdout",
     "output_type": "stream",
     "text": [
      "\n"
     ]
    },
    {
     "data": {
      "application/vnd.jupyter.widget-view+json": {
       "model_id": "2543d67af6b04575bcaf418f4a7c5573",
       "version_major": 2,
       "version_minor": 0
      },
      "text/plain": [
       "HBox(children=(IntProgress(value=0, description='dataset loop:', max=2316, style=ProgressStyle(description_wid…"
      ]
     },
     "metadata": {},
     "output_type": "display_data"
    },
    {
     "name": "stdout",
     "output_type": "stream",
     "text": [
      "\n"
     ]
    },
    {
     "data": {
      "application/vnd.jupyter.widget-view+json": {
       "model_id": "05b2ee2177c949d69f3d11103fcf1756",
       "version_major": 2,
       "version_minor": 0
      },
      "text/plain": [
       "HBox(children=(IntProgress(value=0, description='dataset loop:', max=2316, style=ProgressStyle(description_wid…"
      ]
     },
     "metadata": {},
     "output_type": "display_data"
    },
    {
     "name": "stdout",
     "output_type": "stream",
     "text": [
      "\n"
     ]
    },
    {
     "data": {
      "application/vnd.jupyter.widget-view+json": {
       "model_id": "57ed7e3a9a744c73afeb5b1ffd023d95",
       "version_major": 2,
       "version_minor": 0
      },
      "text/plain": [
       "HBox(children=(IntProgress(value=0, description='dataset loop:', max=2316, style=ProgressStyle(description_wid…"
      ]
     },
     "metadata": {},
     "output_type": "display_data"
    },
    {
     "name": "stdout",
     "output_type": "stream",
     "text": [
      "\n"
     ]
    },
    {
     "data": {
      "application/vnd.jupyter.widget-view+json": {
       "model_id": "27d35e2bd9f64af192f79d802b70f7fb",
       "version_major": 2,
       "version_minor": 0
      },
      "text/plain": [
       "HBox(children=(IntProgress(value=0, description='dataset loop:', max=2316, style=ProgressStyle(description_wid…"
      ]
     },
     "metadata": {},
     "output_type": "display_data"
    },
    {
     "name": "stdout",
     "output_type": "stream",
     "text": [
      "\n"
     ]
    },
    {
     "data": {
      "application/vnd.jupyter.widget-view+json": {
       "model_id": "856cadac40434a878c65c3736bd0c88c",
       "version_major": 2,
       "version_minor": 0
      },
      "text/plain": [
       "HBox(children=(IntProgress(value=0, description='dataset loop:', max=2316, style=ProgressStyle(description_wid…"
      ]
     },
     "metadata": {},
     "output_type": "display_data"
    },
    {
     "name": "stdout",
     "output_type": "stream",
     "text": [
      "\n"
     ]
    },
    {
     "data": {
      "application/vnd.jupyter.widget-view+json": {
       "model_id": "f1320df0733543dbbf2d3ebcaa24a2b7",
       "version_major": 2,
       "version_minor": 0
      },
      "text/plain": [
       "HBox(children=(IntProgress(value=0, description='dataset loop:', max=2316, style=ProgressStyle(description_wid…"
      ]
     },
     "metadata": {},
     "output_type": "display_data"
    },
    {
     "name": "stdout",
     "output_type": "stream",
     "text": [
      "\n"
     ]
    },
    {
     "data": {
      "application/vnd.jupyter.widget-view+json": {
       "model_id": "8163f1e6f3134950a78a6a7997475620",
       "version_major": 2,
       "version_minor": 0
      },
      "text/plain": [
       "HBox(children=(IntProgress(value=0, description='dataset loop:', max=2316, style=ProgressStyle(description_wid…"
      ]
     },
     "metadata": {},
     "output_type": "display_data"
    },
    {
     "name": "stdout",
     "output_type": "stream",
     "text": [
      "\n"
     ]
    },
    {
     "data": {
      "application/vnd.jupyter.widget-view+json": {
       "model_id": "a99bbaa7a63948b3873faa7c7ce3092d",
       "version_major": 2,
       "version_minor": 0
      },
      "text/plain": [
       "HBox(children=(IntProgress(value=0, description='dataset loop:', max=2316, style=ProgressStyle(description_wid…"
      ]
     },
     "metadata": {},
     "output_type": "display_data"
    },
    {
     "name": "stdout",
     "output_type": "stream",
     "text": [
      "\n"
     ]
    },
    {
     "data": {
      "application/vnd.jupyter.widget-view+json": {
       "model_id": "fba8b91fcee943c5a742298ef0e705db",
       "version_major": 2,
       "version_minor": 0
      },
      "text/plain": [
       "HBox(children=(IntProgress(value=0, description='dataset loop:', max=2316, style=ProgressStyle(description_wid…"
      ]
     },
     "metadata": {},
     "output_type": "display_data"
    },
    {
     "name": "stdout",
     "output_type": "stream",
     "text": [
      "\n"
     ]
    },
    {
     "data": {
      "application/vnd.jupyter.widget-view+json": {
       "model_id": "85b53c33ce75496383aeb666b5e697b5",
       "version_major": 2,
       "version_minor": 0
      },
      "text/plain": [
       "HBox(children=(IntProgress(value=0, description='dataset loop:', max=2316, style=ProgressStyle(description_wid…"
      ]
     },
     "metadata": {},
     "output_type": "display_data"
    },
    {
     "name": "stdout",
     "output_type": "stream",
     "text": [
      "\n"
     ]
    },
    {
     "data": {
      "application/vnd.jupyter.widget-view+json": {
       "model_id": "3a7b1dbf39814c26b8449cce1cf44ffe",
       "version_major": 2,
       "version_minor": 0
      },
      "text/plain": [
       "HBox(children=(IntProgress(value=0, description='dataset loop:', max=2316, style=ProgressStyle(description_wid…"
      ]
     },
     "metadata": {},
     "output_type": "display_data"
    },
    {
     "name": "stdout",
     "output_type": "stream",
     "text": [
      "\n"
     ]
    },
    {
     "data": {
      "application/vnd.jupyter.widget-view+json": {
       "model_id": "7b850fa3979d45468d3a96b1f24aa834",
       "version_major": 2,
       "version_minor": 0
      },
      "text/plain": [
       "HBox(children=(IntProgress(value=0, description='dataset loop:', max=2316, style=ProgressStyle(description_wid…"
      ]
     },
     "metadata": {},
     "output_type": "display_data"
    },
    {
     "name": "stdout",
     "output_type": "stream",
     "text": [
      "\n"
     ]
    },
    {
     "data": {
      "application/vnd.jupyter.widget-view+json": {
       "model_id": "f9f0254b79224b979d5365ef9d37fa83",
       "version_major": 2,
       "version_minor": 0
      },
      "text/plain": [
       "HBox(children=(IntProgress(value=0, description='dataset loop:', max=2316, style=ProgressStyle(description_wid…"
      ]
     },
     "metadata": {},
     "output_type": "display_data"
    },
    {
     "name": "stdout",
     "output_type": "stream",
     "text": [
      "\n"
     ]
    },
    {
     "data": {
      "application/vnd.jupyter.widget-view+json": {
       "model_id": "ed4c98f0eafb4ac1a35e313b34396659",
       "version_major": 2,
       "version_minor": 0
      },
      "text/plain": [
       "HBox(children=(IntProgress(value=0, description='dataset loop:', max=2316, style=ProgressStyle(description_wid…"
      ]
     },
     "metadata": {},
     "output_type": "display_data"
    },
    {
     "name": "stdout",
     "output_type": "stream",
     "text": [
      "\n"
     ]
    },
    {
     "data": {
      "application/vnd.jupyter.widget-view+json": {
       "model_id": "dbd10866543846b8a16a1b75b4d28813",
       "version_major": 2,
       "version_minor": 0
      },
      "text/plain": [
       "HBox(children=(IntProgress(value=0, description='dataset loop:', max=2316, style=ProgressStyle(description_wid…"
      ]
     },
     "metadata": {},
     "output_type": "display_data"
    },
    {
     "name": "stdout",
     "output_type": "stream",
     "text": [
      "\n"
     ]
    },
    {
     "data": {
      "application/vnd.jupyter.widget-view+json": {
       "model_id": "a0c5d1c714894325b8cdee2906f57e77",
       "version_major": 2,
       "version_minor": 0
      },
      "text/plain": [
       "HBox(children=(IntProgress(value=0, description='dataset loop:', max=2316, style=ProgressStyle(description_wid…"
      ]
     },
     "metadata": {},
     "output_type": "display_data"
    },
    {
     "name": "stdout",
     "output_type": "stream",
     "text": [
      "\n"
     ]
    },
    {
     "data": {
      "application/vnd.jupyter.widget-view+json": {
       "model_id": "f48cbf80ae3743bb9e98a344862d93f9",
       "version_major": 2,
       "version_minor": 0
      },
      "text/plain": [
       "HBox(children=(IntProgress(value=0, description='dataset loop:', max=2316, style=ProgressStyle(description_wid…"
      ]
     },
     "metadata": {},
     "output_type": "display_data"
    },
    {
     "name": "stdout",
     "output_type": "stream",
     "text": [
      "\n"
     ]
    },
    {
     "data": {
      "application/vnd.jupyter.widget-view+json": {
       "model_id": "4a991b9a04e04298997892f5da7b443f",
       "version_major": 2,
       "version_minor": 0
      },
      "text/plain": [
       "HBox(children=(IntProgress(value=0, description='dataset loop:', max=2316, style=ProgressStyle(description_wid…"
      ]
     },
     "metadata": {},
     "output_type": "display_data"
    },
    {
     "name": "stdout",
     "output_type": "stream",
     "text": [
      "\n"
     ]
    },
    {
     "data": {
      "application/vnd.jupyter.widget-view+json": {
       "model_id": "94d25ad6ba704b6d9c0d9424a821b37c",
       "version_major": 2,
       "version_minor": 0
      },
      "text/plain": [
       "HBox(children=(IntProgress(value=0, description='dataset loop:', max=2316, style=ProgressStyle(description_wid…"
      ]
     },
     "metadata": {},
     "output_type": "display_data"
    },
    {
     "name": "stdout",
     "output_type": "stream",
     "text": [
      "\n"
     ]
    },
    {
     "data": {
      "application/vnd.jupyter.widget-view+json": {
       "model_id": "2b4a47a70323441aa42cef93a891ab37",
       "version_major": 2,
       "version_minor": 0
      },
      "text/plain": [
       "HBox(children=(IntProgress(value=0, description='dataset loop:', max=2316, style=ProgressStyle(description_wid…"
      ]
     },
     "metadata": {},
     "output_type": "display_data"
    },
    {
     "name": "stdout",
     "output_type": "stream",
     "text": [
      "\n"
     ]
    },
    {
     "data": {
      "application/vnd.jupyter.widget-view+json": {
       "model_id": "e7706646f3834a25b3dd9e9571d00ec2",
       "version_major": 2,
       "version_minor": 0
      },
      "text/plain": [
       "HBox(children=(IntProgress(value=0, description='dataset loop:', max=2316, style=ProgressStyle(description_wid…"
      ]
     },
     "metadata": {},
     "output_type": "display_data"
    },
    {
     "name": "stdout",
     "output_type": "stream",
     "text": [
      "\n"
     ]
    },
    {
     "data": {
      "application/vnd.jupyter.widget-view+json": {
       "model_id": "360fced348e748379dc761667cf0d4fe",
       "version_major": 2,
       "version_minor": 0
      },
      "text/plain": [
       "HBox(children=(IntProgress(value=0, description='dataset loop:', max=2316, style=ProgressStyle(description_wid…"
      ]
     },
     "metadata": {},
     "output_type": "display_data"
    },
    {
     "name": "stdout",
     "output_type": "stream",
     "text": [
      "\n"
     ]
    },
    {
     "data": {
      "application/vnd.jupyter.widget-view+json": {
       "model_id": "21d11f5eef454dd1af40e1190e4c2937",
       "version_major": 2,
       "version_minor": 0
      },
      "text/plain": [
       "HBox(children=(IntProgress(value=0, description='dataset loop:', max=2316, style=ProgressStyle(description_wid…"
      ]
     },
     "metadata": {},
     "output_type": "display_data"
    },
    {
     "name": "stdout",
     "output_type": "stream",
     "text": [
      "\n"
     ]
    },
    {
     "data": {
      "application/vnd.jupyter.widget-view+json": {
       "model_id": "4497914cb31c4326ba0bf98a117e27ba",
       "version_major": 2,
       "version_minor": 0
      },
      "text/plain": [
       "HBox(children=(IntProgress(value=0, description='dataset loop:', max=2316, style=ProgressStyle(description_wid…"
      ]
     },
     "metadata": {},
     "output_type": "display_data"
    },
    {
     "name": "stdout",
     "output_type": "stream",
     "text": [
      "\n"
     ]
    },
    {
     "data": {
      "application/vnd.jupyter.widget-view+json": {
       "model_id": "b86641fc17024e628e6e28ab30b3aa8d",
       "version_major": 2,
       "version_minor": 0
      },
      "text/plain": [
       "HBox(children=(IntProgress(value=0, description='dataset loop:', max=2316, style=ProgressStyle(description_wid…"
      ]
     },
     "metadata": {},
     "output_type": "display_data"
    },
    {
     "name": "stdout",
     "output_type": "stream",
     "text": [
      "\n"
     ]
    },
    {
     "data": {
      "application/vnd.jupyter.widget-view+json": {
       "model_id": "465dc97292994230a94847fe00c830ca",
       "version_major": 2,
       "version_minor": 0
      },
      "text/plain": [
       "HBox(children=(IntProgress(value=0, description='dataset loop:', max=2316, style=ProgressStyle(description_wid…"
      ]
     },
     "metadata": {},
     "output_type": "display_data"
    },
    {
     "name": "stdout",
     "output_type": "stream",
     "text": [
      "\n"
     ]
    },
    {
     "data": {
      "application/vnd.jupyter.widget-view+json": {
       "model_id": "96232c9e31e4425f8ca833a79322dce0",
       "version_major": 2,
       "version_minor": 0
      },
      "text/plain": [
       "HBox(children=(IntProgress(value=0, description='dataset loop:', max=2316, style=ProgressStyle(description_wid…"
      ]
     },
     "metadata": {},
     "output_type": "display_data"
    },
    {
     "name": "stdout",
     "output_type": "stream",
     "text": [
      "\n"
     ]
    },
    {
     "data": {
      "application/vnd.jupyter.widget-view+json": {
       "model_id": "36ce4e8b4b824996b05629c1c807374a",
       "version_major": 2,
       "version_minor": 0
      },
      "text/plain": [
       "HBox(children=(IntProgress(value=0, description='dataset loop:', max=2316, style=ProgressStyle(description_wid…"
      ]
     },
     "metadata": {},
     "output_type": "display_data"
    },
    {
     "name": "stdout",
     "output_type": "stream",
     "text": [
      "\n"
     ]
    },
    {
     "data": {
      "application/vnd.jupyter.widget-view+json": {
       "model_id": "52b4d367c69d4e928b8f28bac2e1618a",
       "version_major": 2,
       "version_minor": 0
      },
      "text/plain": [
       "HBox(children=(IntProgress(value=0, description='dataset loop:', max=2316, style=ProgressStyle(description_wid…"
      ]
     },
     "metadata": {},
     "output_type": "display_data"
    },
    {
     "name": "stdout",
     "output_type": "stream",
     "text": [
      "\n"
     ]
    },
    {
     "data": {
      "application/vnd.jupyter.widget-view+json": {
       "model_id": "124d05a486b4470f9c0c0be151e0bfd8",
       "version_major": 2,
       "version_minor": 0
      },
      "text/plain": [
       "HBox(children=(IntProgress(value=0, description='dataset loop:', max=2316, style=ProgressStyle(description_wid…"
      ]
     },
     "metadata": {},
     "output_type": "display_data"
    },
    {
     "name": "stdout",
     "output_type": "stream",
     "text": [
      "\n"
     ]
    },
    {
     "data": {
      "application/vnd.jupyter.widget-view+json": {
       "model_id": "72acded841c746a292503cbe9be1ca9c",
       "version_major": 2,
       "version_minor": 0
      },
      "text/plain": [
       "HBox(children=(IntProgress(value=0, description='dataset loop:', max=2316, style=ProgressStyle(description_wid…"
      ]
     },
     "metadata": {},
     "output_type": "display_data"
    },
    {
     "name": "stdout",
     "output_type": "stream",
     "text": [
      "\n"
     ]
    },
    {
     "data": {
      "application/vnd.jupyter.widget-view+json": {
       "model_id": "cd6aed097f3a4d1e8393aeba5d57f372",
       "version_major": 2,
       "version_minor": 0
      },
      "text/plain": [
       "HBox(children=(IntProgress(value=0, description='dataset loop:', max=2316, style=ProgressStyle(description_wid…"
      ]
     },
     "metadata": {},
     "output_type": "display_data"
    },
    {
     "name": "stdout",
     "output_type": "stream",
     "text": [
      "\n"
     ]
    },
    {
     "data": {
      "application/vnd.jupyter.widget-view+json": {
       "model_id": "90eae0361afb49e3b5003d26846634bb",
       "version_major": 2,
       "version_minor": 0
      },
      "text/plain": [
       "HBox(children=(IntProgress(value=0, description='dataset loop:', max=2316, style=ProgressStyle(description_wid…"
      ]
     },
     "metadata": {},
     "output_type": "display_data"
    },
    {
     "name": "stdout",
     "output_type": "stream",
     "text": [
      "\n"
     ]
    },
    {
     "data": {
      "application/vnd.jupyter.widget-view+json": {
       "model_id": "f471f54c7f3342c8a0afc23290c8094f",
       "version_major": 2,
       "version_minor": 0
      },
      "text/plain": [
       "HBox(children=(IntProgress(value=0, description='dataset loop:', max=2316, style=ProgressStyle(description_wid…"
      ]
     },
     "metadata": {},
     "output_type": "display_data"
    },
    {
     "name": "stdout",
     "output_type": "stream",
     "text": [
      "\n"
     ]
    },
    {
     "data": {
      "application/vnd.jupyter.widget-view+json": {
       "model_id": "1a11e7b735844aa1948e026810afdc3b",
       "version_major": 2,
       "version_minor": 0
      },
      "text/plain": [
       "HBox(children=(IntProgress(value=0, description='dataset loop:', max=2316, style=ProgressStyle(description_wid…"
      ]
     },
     "metadata": {},
     "output_type": "display_data"
    },
    {
     "name": "stdout",
     "output_type": "stream",
     "text": [
      "\n"
     ]
    },
    {
     "data": {
      "application/vnd.jupyter.widget-view+json": {
       "model_id": "57cbe20362d64c1d982655c60567bc50",
       "version_major": 2,
       "version_minor": 0
      },
      "text/plain": [
       "HBox(children=(IntProgress(value=0, description='dataset loop:', max=2316, style=ProgressStyle(description_wid…"
      ]
     },
     "metadata": {},
     "output_type": "display_data"
    },
    {
     "name": "stdout",
     "output_type": "stream",
     "text": [
      "\n"
     ]
    },
    {
     "data": {
      "application/vnd.jupyter.widget-view+json": {
       "model_id": "1bd8ce5e5f5e4feb814421b3f673d14b",
       "version_major": 2,
       "version_minor": 0
      },
      "text/plain": [
       "HBox(children=(IntProgress(value=0, description='dataset loop:', max=2316, style=ProgressStyle(description_wid…"
      ]
     },
     "metadata": {},
     "output_type": "display_data"
    },
    {
     "name": "stdout",
     "output_type": "stream",
     "text": [
      "\n"
     ]
    },
    {
     "data": {
      "application/vnd.jupyter.widget-view+json": {
       "model_id": "b309cb8cf4844bab8d3ac8ae2ba829c8",
       "version_major": 2,
       "version_minor": 0
      },
      "text/plain": [
       "HBox(children=(IntProgress(value=0, description='dataset loop:', max=2316, style=ProgressStyle(description_wid…"
      ]
     },
     "metadata": {},
     "output_type": "display_data"
    },
    {
     "name": "stdout",
     "output_type": "stream",
     "text": [
      "\n"
     ]
    },
    {
     "data": {
      "application/vnd.jupyter.widget-view+json": {
       "model_id": "300f6fe7c3594d02abe796864cc3085d",
       "version_major": 2,
       "version_minor": 0
      },
      "text/plain": [
       "HBox(children=(IntProgress(value=0, description='dataset loop:', max=2316, style=ProgressStyle(description_wid…"
      ]
     },
     "metadata": {},
     "output_type": "display_data"
    },
    {
     "name": "stdout",
     "output_type": "stream",
     "text": [
      "\n"
     ]
    },
    {
     "data": {
      "application/vnd.jupyter.widget-view+json": {
       "model_id": "fc0bc50a647c427db2691d5d5a162d2e",
       "version_major": 2,
       "version_minor": 0
      },
      "text/plain": [
       "HBox(children=(IntProgress(value=0, description='dataset loop:', max=2316, style=ProgressStyle(description_wid…"
      ]
     },
     "metadata": {},
     "output_type": "display_data"
    },
    {
     "name": "stdout",
     "output_type": "stream",
     "text": [
      "\n"
     ]
    },
    {
     "data": {
      "application/vnd.jupyter.widget-view+json": {
       "model_id": "e01daddb8d3c4ac6b400343e56c6424e",
       "version_major": 2,
       "version_minor": 0
      },
      "text/plain": [
       "HBox(children=(IntProgress(value=0, description='dataset loop:', max=2316, style=ProgressStyle(description_wid…"
      ]
     },
     "metadata": {},
     "output_type": "display_data"
    },
    {
     "name": "stdout",
     "output_type": "stream",
     "text": [
      "\n"
     ]
    },
    {
     "data": {
      "application/vnd.jupyter.widget-view+json": {
       "model_id": "57413faba326430a847402c810a890a1",
       "version_major": 2,
       "version_minor": 0
      },
      "text/plain": [
       "HBox(children=(IntProgress(value=0, description='dataset loop:', max=2316, style=ProgressStyle(description_wid…"
      ]
     },
     "metadata": {},
     "output_type": "display_data"
    },
    {
     "name": "stdout",
     "output_type": "stream",
     "text": [
      "\n"
     ]
    },
    {
     "data": {
      "application/vnd.jupyter.widget-view+json": {
       "model_id": "a6992a1b85ae4c4fb01cbbe902795ea4",
       "version_major": 2,
       "version_minor": 0
      },
      "text/plain": [
       "HBox(children=(IntProgress(value=0, description='dataset loop:', max=2316, style=ProgressStyle(description_wid…"
      ]
     },
     "metadata": {},
     "output_type": "display_data"
    },
    {
     "name": "stdout",
     "output_type": "stream",
     "text": [
      "\n"
     ]
    },
    {
     "data": {
      "application/vnd.jupyter.widget-view+json": {
       "model_id": "c5fc96ff6e694233b4ed095b0c09a3ac",
       "version_major": 2,
       "version_minor": 0
      },
      "text/plain": [
       "HBox(children=(IntProgress(value=0, description='dataset loop:', max=2316, style=ProgressStyle(description_wid…"
      ]
     },
     "metadata": {},
     "output_type": "display_data"
    },
    {
     "name": "stdout",
     "output_type": "stream",
     "text": [
      "\n"
     ]
    },
    {
     "data": {
      "application/vnd.jupyter.widget-view+json": {
       "model_id": "6c1db2afa89f47a584b34b10f6130039",
       "version_major": 2,
       "version_minor": 0
      },
      "text/plain": [
       "HBox(children=(IntProgress(value=0, description='dataset loop:', max=2316, style=ProgressStyle(description_wid…"
      ]
     },
     "metadata": {},
     "output_type": "display_data"
    },
    {
     "name": "stdout",
     "output_type": "stream",
     "text": [
      "\n"
     ]
    },
    {
     "data": {
      "application/vnd.jupyter.widget-view+json": {
       "model_id": "667e702307994b6d9c2886630303d0ab",
       "version_major": 2,
       "version_minor": 0
      },
      "text/plain": [
       "HBox(children=(IntProgress(value=0, description='dataset loop:', max=2316, style=ProgressStyle(description_wid…"
      ]
     },
     "metadata": {},
     "output_type": "display_data"
    },
    {
     "name": "stdout",
     "output_type": "stream",
     "text": [
      "\n"
     ]
    },
    {
     "data": {
      "application/vnd.jupyter.widget-view+json": {
       "model_id": "352a6b96048f43d28a172cd414a231c7",
       "version_major": 2,
       "version_minor": 0
      },
      "text/plain": [
       "HBox(children=(IntProgress(value=0, description='dataset loop:', max=2316, style=ProgressStyle(description_wid…"
      ]
     },
     "metadata": {},
     "output_type": "display_data"
    },
    {
     "name": "stdout",
     "output_type": "stream",
     "text": [
      "\n"
     ]
    },
    {
     "data": {
      "application/vnd.jupyter.widget-view+json": {
       "model_id": "6f728357b23544a4a7ae3d6730e7a1d3",
       "version_major": 2,
       "version_minor": 0
      },
      "text/plain": [
       "HBox(children=(IntProgress(value=0, description='dataset loop:', max=2316, style=ProgressStyle(description_wid…"
      ]
     },
     "metadata": {},
     "output_type": "display_data"
    },
    {
     "name": "stdout",
     "output_type": "stream",
     "text": [
      "\n"
     ]
    },
    {
     "data": {
      "application/vnd.jupyter.widget-view+json": {
       "model_id": "927ff5f929034711a8766a6a40ded14d",
       "version_major": 2,
       "version_minor": 0
      },
      "text/plain": [
       "HBox(children=(IntProgress(value=0, description='dataset loop:', max=2316, style=ProgressStyle(description_wid…"
      ]
     },
     "metadata": {},
     "output_type": "display_data"
    },
    {
     "name": "stdout",
     "output_type": "stream",
     "text": [
      "\n"
     ]
    },
    {
     "data": {
      "application/vnd.jupyter.widget-view+json": {
       "model_id": "79f8b508fccf4eb396d5556199ee1675",
       "version_major": 2,
       "version_minor": 0
      },
      "text/plain": [
       "HBox(children=(IntProgress(value=0, description='dataset loop:', max=2316, style=ProgressStyle(description_wid…"
      ]
     },
     "metadata": {},
     "output_type": "display_data"
    },
    {
     "name": "stdout",
     "output_type": "stream",
     "text": [
      "\n"
     ]
    },
    {
     "data": {
      "application/vnd.jupyter.widget-view+json": {
       "model_id": "095214a9c31f4f918eb13db64aa6778f",
       "version_major": 2,
       "version_minor": 0
      },
      "text/plain": [
       "HBox(children=(IntProgress(value=0, description='dataset loop:', max=2316, style=ProgressStyle(description_wid…"
      ]
     },
     "metadata": {},
     "output_type": "display_data"
    },
    {
     "name": "stdout",
     "output_type": "stream",
     "text": [
      "\n"
     ]
    },
    {
     "data": {
      "application/vnd.jupyter.widget-view+json": {
       "model_id": "9733ce2e4e3a4fc7a08f2078868417a1",
       "version_major": 2,
       "version_minor": 0
      },
      "text/plain": [
       "HBox(children=(IntProgress(value=0, description='dataset loop:', max=2316, style=ProgressStyle(description_wid…"
      ]
     },
     "metadata": {},
     "output_type": "display_data"
    },
    {
     "name": "stdout",
     "output_type": "stream",
     "text": [
      "\n"
     ]
    },
    {
     "data": {
      "application/vnd.jupyter.widget-view+json": {
       "model_id": "5894ddf5fd074a5d8aad8dc1dab26b87",
       "version_major": 2,
       "version_minor": 0
      },
      "text/plain": [
       "HBox(children=(IntProgress(value=0, description='dataset loop:', max=2316, style=ProgressStyle(description_wid…"
      ]
     },
     "metadata": {},
     "output_type": "display_data"
    },
    {
     "name": "stdout",
     "output_type": "stream",
     "text": [
      "\n"
     ]
    },
    {
     "data": {
      "application/vnd.jupyter.widget-view+json": {
       "model_id": "5a6968693f0e44909fca832005763727",
       "version_major": 2,
       "version_minor": 0
      },
      "text/plain": [
       "HBox(children=(IntProgress(value=0, description='dataset loop:', max=2316, style=ProgressStyle(description_wid…"
      ]
     },
     "metadata": {},
     "output_type": "display_data"
    },
    {
     "name": "stdout",
     "output_type": "stream",
     "text": [
      "\n"
     ]
    },
    {
     "data": {
      "application/vnd.jupyter.widget-view+json": {
       "model_id": "939c6a2fd5f64399afea245e3ae1d876",
       "version_major": 2,
       "version_minor": 0
      },
      "text/plain": [
       "HBox(children=(IntProgress(value=0, description='dataset loop:', max=2316, style=ProgressStyle(description_wid…"
      ]
     },
     "metadata": {},
     "output_type": "display_data"
    },
    {
     "name": "stdout",
     "output_type": "stream",
     "text": [
      "\n"
     ]
    },
    {
     "data": {
      "application/vnd.jupyter.widget-view+json": {
       "model_id": "c3492f9ef585465ea16531ab36bf2cbe",
       "version_major": 2,
       "version_minor": 0
      },
      "text/plain": [
       "HBox(children=(IntProgress(value=0, description='dataset loop:', max=2316, style=ProgressStyle(description_wid…"
      ]
     },
     "metadata": {},
     "output_type": "display_data"
    },
    {
     "name": "stdout",
     "output_type": "stream",
     "text": [
      "\n"
     ]
    },
    {
     "data": {
      "application/vnd.jupyter.widget-view+json": {
       "model_id": "07c03e50c56e4556a049212080e49f1c",
       "version_major": 2,
       "version_minor": 0
      },
      "text/plain": [
       "HBox(children=(IntProgress(value=0, description='dataset loop:', max=2316, style=ProgressStyle(description_wid…"
      ]
     },
     "metadata": {},
     "output_type": "display_data"
    },
    {
     "name": "stdout",
     "output_type": "stream",
     "text": [
      "\n"
     ]
    },
    {
     "data": {
      "application/vnd.jupyter.widget-view+json": {
       "model_id": "847f67a619ec4772955b8a42cb77078a",
       "version_major": 2,
       "version_minor": 0
      },
      "text/plain": [
       "HBox(children=(IntProgress(value=0, description='dataset loop:', max=2316, style=ProgressStyle(description_wid…"
      ]
     },
     "metadata": {},
     "output_type": "display_data"
    },
    {
     "name": "stdout",
     "output_type": "stream",
     "text": [
      "\n"
     ]
    },
    {
     "data": {
      "application/vnd.jupyter.widget-view+json": {
       "model_id": "0b6c33e6eefd4b9ea880dea29377bdf3",
       "version_major": 2,
       "version_minor": 0
      },
      "text/plain": [
       "HBox(children=(IntProgress(value=0, description='dataset loop:', max=2316, style=ProgressStyle(description_wid…"
      ]
     },
     "metadata": {},
     "output_type": "display_data"
    },
    {
     "name": "stdout",
     "output_type": "stream",
     "text": [
      "\n"
     ]
    },
    {
     "data": {
      "application/vnd.jupyter.widget-view+json": {
       "model_id": "bd86400fe1b448dcb11d6daf993a197f",
       "version_major": 2,
       "version_minor": 0
      },
      "text/plain": [
       "HBox(children=(IntProgress(value=0, description='dataset loop:', max=2316, style=ProgressStyle(description_wid…"
      ]
     },
     "metadata": {},
     "output_type": "display_data"
    },
    {
     "name": "stdout",
     "output_type": "stream",
     "text": [
      "\n"
     ]
    },
    {
     "data": {
      "application/vnd.jupyter.widget-view+json": {
       "model_id": "58463d78b8d242b1919da8f2ecc6e338",
       "version_major": 2,
       "version_minor": 0
      },
      "text/plain": [
       "HBox(children=(IntProgress(value=0, description='dataset loop:', max=2316, style=ProgressStyle(description_wid…"
      ]
     },
     "metadata": {},
     "output_type": "display_data"
    },
    {
     "name": "stdout",
     "output_type": "stream",
     "text": [
      "\n"
     ]
    },
    {
     "data": {
      "application/vnd.jupyter.widget-view+json": {
       "model_id": "a175e9584a2d48fcb483d0909b8764fa",
       "version_major": 2,
       "version_minor": 0
      },
      "text/plain": [
       "HBox(children=(IntProgress(value=0, description='dataset loop:', max=2316, style=ProgressStyle(description_wid…"
      ]
     },
     "metadata": {},
     "output_type": "display_data"
    },
    {
     "name": "stdout",
     "output_type": "stream",
     "text": [
      "\n"
     ]
    },
    {
     "data": {
      "application/vnd.jupyter.widget-view+json": {
       "model_id": "c0985bbd6128433a8376facf4c59e65d",
       "version_major": 2,
       "version_minor": 0
      },
      "text/plain": [
       "HBox(children=(IntProgress(value=0, description='dataset loop:', max=2316, style=ProgressStyle(description_wid…"
      ]
     },
     "metadata": {},
     "output_type": "display_data"
    },
    {
     "name": "stdout",
     "output_type": "stream",
     "text": [
      "\n"
     ]
    },
    {
     "data": {
      "application/vnd.jupyter.widget-view+json": {
       "model_id": "e9e1443c67a94c689807deb051658317",
       "version_major": 2,
       "version_minor": 0
      },
      "text/plain": [
       "HBox(children=(IntProgress(value=0, description='dataset loop:', max=2316, style=ProgressStyle(description_wid…"
      ]
     },
     "metadata": {},
     "output_type": "display_data"
    },
    {
     "name": "stdout",
     "output_type": "stream",
     "text": [
      "\n"
     ]
    },
    {
     "data": {
      "application/vnd.jupyter.widget-view+json": {
       "model_id": "6b253433a13040f3bb526273c637657f",
       "version_major": 2,
       "version_minor": 0
      },
      "text/plain": [
       "HBox(children=(IntProgress(value=0, description='dataset loop:', max=2316, style=ProgressStyle(description_wid…"
      ]
     },
     "metadata": {},
     "output_type": "display_data"
    },
    {
     "name": "stdout",
     "output_type": "stream",
     "text": [
      "\n"
     ]
    },
    {
     "data": {
      "application/vnd.jupyter.widget-view+json": {
       "model_id": "84b4f360e7414e6384b1c6bb0c824611",
       "version_major": 2,
       "version_minor": 0
      },
      "text/plain": [
       "HBox(children=(IntProgress(value=0, description='dataset loop:', max=2316, style=ProgressStyle(description_wid…"
      ]
     },
     "metadata": {},
     "output_type": "display_data"
    },
    {
     "name": "stdout",
     "output_type": "stream",
     "text": [
      "\n"
     ]
    },
    {
     "data": {
      "application/vnd.jupyter.widget-view+json": {
       "model_id": "d726db4b41da413d87c190e20d52b76d",
       "version_major": 2,
       "version_minor": 0
      },
      "text/plain": [
       "HBox(children=(IntProgress(value=0, description='dataset loop:', max=2316, style=ProgressStyle(description_wid…"
      ]
     },
     "metadata": {},
     "output_type": "display_data"
    },
    {
     "name": "stdout",
     "output_type": "stream",
     "text": [
      "\n"
     ]
    },
    {
     "data": {
      "application/vnd.jupyter.widget-view+json": {
       "model_id": "b48523a9e3ec448fa49e9e8927089db6",
       "version_major": 2,
       "version_minor": 0
      },
      "text/plain": [
       "HBox(children=(IntProgress(value=0, description='dataset loop:', max=2316, style=ProgressStyle(description_wid…"
      ]
     },
     "metadata": {},
     "output_type": "display_data"
    },
    {
     "name": "stdout",
     "output_type": "stream",
     "text": [
      "\n"
     ]
    },
    {
     "data": {
      "application/vnd.jupyter.widget-view+json": {
       "model_id": "99ff1885849f447381375466f510d56e",
       "version_major": 2,
       "version_minor": 0
      },
      "text/plain": [
       "HBox(children=(IntProgress(value=0, description='dataset loop:', max=2316, style=ProgressStyle(description_wid…"
      ]
     },
     "metadata": {},
     "output_type": "display_data"
    },
    {
     "name": "stdout",
     "output_type": "stream",
     "text": [
      "\n"
     ]
    },
    {
     "data": {
      "application/vnd.jupyter.widget-view+json": {
       "model_id": "04c69aa400084fa288ebf0dc824b4cf4",
       "version_major": 2,
       "version_minor": 0
      },
      "text/plain": [
       "HBox(children=(IntProgress(value=0, description='dataset loop:', max=2316, style=ProgressStyle(description_wid…"
      ]
     },
     "metadata": {},
     "output_type": "display_data"
    },
    {
     "name": "stdout",
     "output_type": "stream",
     "text": [
      "\n"
     ]
    },
    {
     "data": {
      "application/vnd.jupyter.widget-view+json": {
       "model_id": "ab7f2615916747b799152c075bb65e50",
       "version_major": 2,
       "version_minor": 0
      },
      "text/plain": [
       "HBox(children=(IntProgress(value=0, description='dataset loop:', max=2316, style=ProgressStyle(description_wid…"
      ]
     },
     "metadata": {},
     "output_type": "display_data"
    },
    {
     "name": "stdout",
     "output_type": "stream",
     "text": [
      "\n"
     ]
    },
    {
     "data": {
      "application/vnd.jupyter.widget-view+json": {
       "model_id": "31754066145944e496138ead40709458",
       "version_major": 2,
       "version_minor": 0
      },
      "text/plain": [
       "HBox(children=(IntProgress(value=0, description='dataset loop:', max=2316, style=ProgressStyle(description_wid…"
      ]
     },
     "metadata": {},
     "output_type": "display_data"
    },
    {
     "name": "stdout",
     "output_type": "stream",
     "text": [
      "\n"
     ]
    },
    {
     "data": {
      "application/vnd.jupyter.widget-view+json": {
       "model_id": "197c63e63f0b4bc4b0bba296b59fc4ef",
       "version_major": 2,
       "version_minor": 0
      },
      "text/plain": [
       "HBox(children=(IntProgress(value=0, description='dataset loop:', max=2316, style=ProgressStyle(description_wid…"
      ]
     },
     "metadata": {},
     "output_type": "display_data"
    },
    {
     "name": "stdout",
     "output_type": "stream",
     "text": [
      "\n"
     ]
    },
    {
     "data": {
      "application/vnd.jupyter.widget-view+json": {
       "model_id": "0e719b076fd748929091955a68ae94a1",
       "version_major": 2,
       "version_minor": 0
      },
      "text/plain": [
       "HBox(children=(IntProgress(value=0, description='dataset loop:', max=2316, style=ProgressStyle(description_wid…"
      ]
     },
     "metadata": {},
     "output_type": "display_data"
    },
    {
     "name": "stdout",
     "output_type": "stream",
     "text": [
      "\n"
     ]
    },
    {
     "data": {
      "application/vnd.jupyter.widget-view+json": {
       "model_id": "9586bc35dd69473eb0dd7bf63b8c3c17",
       "version_major": 2,
       "version_minor": 0
      },
      "text/plain": [
       "HBox(children=(IntProgress(value=0, description='dataset loop:', max=2316, style=ProgressStyle(description_wid…"
      ]
     },
     "metadata": {},
     "output_type": "display_data"
    },
    {
     "name": "stdout",
     "output_type": "stream",
     "text": [
      "\n"
     ]
    },
    {
     "data": {
      "application/vnd.jupyter.widget-view+json": {
       "model_id": "001fe550085948a28585854b153c920a",
       "version_major": 2,
       "version_minor": 0
      },
      "text/plain": [
       "HBox(children=(IntProgress(value=0, description='dataset loop:', max=2316, style=ProgressStyle(description_wid…"
      ]
     },
     "metadata": {},
     "output_type": "display_data"
    },
    {
     "name": "stdout",
     "output_type": "stream",
     "text": [
      "\n"
     ]
    },
    {
     "data": {
      "application/vnd.jupyter.widget-view+json": {
       "model_id": "46f662a575824703b7f23982168c70ca",
       "version_major": 2,
       "version_minor": 0
      },
      "text/plain": [
       "HBox(children=(IntProgress(value=0, description='dataset loop:', max=2316, style=ProgressStyle(description_wid…"
      ]
     },
     "metadata": {},
     "output_type": "display_data"
    },
    {
     "name": "stdout",
     "output_type": "stream",
     "text": [
      "\n"
     ]
    },
    {
     "data": {
      "application/vnd.jupyter.widget-view+json": {
       "model_id": "abd72d30fbfa4d52a33c92125796cd1c",
       "version_major": 2,
       "version_minor": 0
      },
      "text/plain": [
       "HBox(children=(IntProgress(value=0, description='dataset loop:', max=2316, style=ProgressStyle(description_wid…"
      ]
     },
     "metadata": {},
     "output_type": "display_data"
    },
    {
     "name": "stdout",
     "output_type": "stream",
     "text": [
      "\n"
     ]
    },
    {
     "data": {
      "application/vnd.jupyter.widget-view+json": {
       "model_id": "d33699902cf141f2b40bd3d75c1acd05",
       "version_major": 2,
       "version_minor": 0
      },
      "text/plain": [
       "HBox(children=(IntProgress(value=0, description='dataset loop:', max=2316, style=ProgressStyle(description_wid…"
      ]
     },
     "metadata": {},
     "output_type": "display_data"
    },
    {
     "name": "stdout",
     "output_type": "stream",
     "text": [
      "\n"
     ]
    },
    {
     "data": {
      "application/vnd.jupyter.widget-view+json": {
       "model_id": "7d464fe13b2f428cadcc151b00363e7a",
       "version_major": 2,
       "version_minor": 0
      },
      "text/plain": [
       "HBox(children=(IntProgress(value=0, description='dataset loop:', max=2316, style=ProgressStyle(description_wid…"
      ]
     },
     "metadata": {},
     "output_type": "display_data"
    },
    {
     "name": "stdout",
     "output_type": "stream",
     "text": [
      "\n"
     ]
    },
    {
     "data": {
      "application/vnd.jupyter.widget-view+json": {
       "model_id": "801e6029b9c84b4f93e4f2fd53d6c9f9",
       "version_major": 2,
       "version_minor": 0
      },
      "text/plain": [
       "HBox(children=(IntProgress(value=0, description='dataset loop:', max=2316, style=ProgressStyle(description_wid…"
      ]
     },
     "metadata": {},
     "output_type": "display_data"
    },
    {
     "name": "stdout",
     "output_type": "stream",
     "text": [
      "\n"
     ]
    },
    {
     "data": {
      "application/vnd.jupyter.widget-view+json": {
       "model_id": "14c32768deeb4e27a0860b2ec525eca2",
       "version_major": 2,
       "version_minor": 0
      },
      "text/plain": [
       "HBox(children=(IntProgress(value=0, description='dataset loop:', max=2316, style=ProgressStyle(description_wid…"
      ]
     },
     "metadata": {},
     "output_type": "display_data"
    },
    {
     "name": "stdout",
     "output_type": "stream",
     "text": [
      "\n"
     ]
    },
    {
     "data": {
      "application/vnd.jupyter.widget-view+json": {
       "model_id": "6b1bd68b47be4d588983b1845a525f02",
       "version_major": 2,
       "version_minor": 0
      },
      "text/plain": [
       "HBox(children=(IntProgress(value=0, description='dataset loop:', max=2316, style=ProgressStyle(description_wid…"
      ]
     },
     "metadata": {},
     "output_type": "display_data"
    },
    {
     "name": "stdout",
     "output_type": "stream",
     "text": [
      "\n"
     ]
    },
    {
     "data": {
      "application/vnd.jupyter.widget-view+json": {
       "model_id": "e3a9d57c853e4b7faf153ba97d9e4e57",
       "version_major": 2,
       "version_minor": 0
      },
      "text/plain": [
       "HBox(children=(IntProgress(value=0, description='dataset loop:', max=2316, style=ProgressStyle(description_wid…"
      ]
     },
     "metadata": {},
     "output_type": "display_data"
    },
    {
     "name": "stdout",
     "output_type": "stream",
     "text": [
      "\n"
     ]
    },
    {
     "data": {
      "application/vnd.jupyter.widget-view+json": {
       "model_id": "eb6229a3582f49fe9adb36fbe747e4f9",
       "version_major": 2,
       "version_minor": 0
      },
      "text/plain": [
       "HBox(children=(IntProgress(value=0, description='dataset loop:', max=2316, style=ProgressStyle(description_wid…"
      ]
     },
     "metadata": {},
     "output_type": "display_data"
    },
    {
     "name": "stdout",
     "output_type": "stream",
     "text": [
      "\n"
     ]
    },
    {
     "data": {
      "application/vnd.jupyter.widget-view+json": {
       "model_id": "3610873fb35d4e0dba3fed857b263582",
       "version_major": 2,
       "version_minor": 0
      },
      "text/plain": [
       "HBox(children=(IntProgress(value=0, description='dataset loop:', max=2316, style=ProgressStyle(description_wid…"
      ]
     },
     "metadata": {},
     "output_type": "display_data"
    },
    {
     "name": "stdout",
     "output_type": "stream",
     "text": [
      "\n"
     ]
    },
    {
     "data": {
      "application/vnd.jupyter.widget-view+json": {
       "model_id": "c4086d2f949c4c10a7394df51d587d9a",
       "version_major": 2,
       "version_minor": 0
      },
      "text/plain": [
       "HBox(children=(IntProgress(value=0, description='dataset loop:', max=2316, style=ProgressStyle(description_wid…"
      ]
     },
     "metadata": {},
     "output_type": "display_data"
    },
    {
     "name": "stdout",
     "output_type": "stream",
     "text": [
      "\n"
     ]
    },
    {
     "data": {
      "application/vnd.jupyter.widget-view+json": {
       "model_id": "5b412c83f47b4606b0357497513ab6e9",
       "version_major": 2,
       "version_minor": 0
      },
      "text/plain": [
       "HBox(children=(IntProgress(value=0, description='dataset loop:', max=2316, style=ProgressStyle(description_wid…"
      ]
     },
     "metadata": {},
     "output_type": "display_data"
    },
    {
     "name": "stdout",
     "output_type": "stream",
     "text": [
      "\n"
     ]
    },
    {
     "data": {
      "application/vnd.jupyter.widget-view+json": {
       "model_id": "1d4899b3eb2d43f581cc6177ce90bdcb",
       "version_major": 2,
       "version_minor": 0
      },
      "text/plain": [
       "HBox(children=(IntProgress(value=0, description='dataset loop:', max=2316, style=ProgressStyle(description_wid…"
      ]
     },
     "metadata": {},
     "output_type": "display_data"
    },
    {
     "name": "stdout",
     "output_type": "stream",
     "text": [
      "\n"
     ]
    },
    {
     "data": {
      "application/vnd.jupyter.widget-view+json": {
       "model_id": "78ccdfa67e154868a353844686f24417",
       "version_major": 2,
       "version_minor": 0
      },
      "text/plain": [
       "HBox(children=(IntProgress(value=0, description='dataset loop:', max=2316, style=ProgressStyle(description_wid…"
      ]
     },
     "metadata": {},
     "output_type": "display_data"
    },
    {
     "name": "stdout",
     "output_type": "stream",
     "text": [
      "\n"
     ]
    },
    {
     "data": {
      "application/vnd.jupyter.widget-view+json": {
       "model_id": "1f784b535a5d4d24a60d4773371317ce",
       "version_major": 2,
       "version_minor": 0
      },
      "text/plain": [
       "HBox(children=(IntProgress(value=0, description='dataset loop:', max=2316, style=ProgressStyle(description_wid…"
      ]
     },
     "metadata": {},
     "output_type": "display_data"
    },
    {
     "name": "stdout",
     "output_type": "stream",
     "text": [
      "\n"
     ]
    },
    {
     "data": {
      "application/vnd.jupyter.widget-view+json": {
       "model_id": "8bac0a8ab8604fef8bed4c95d8b6bd02",
       "version_major": 2,
       "version_minor": 0
      },
      "text/plain": [
       "HBox(children=(IntProgress(value=0, description='dataset loop:', max=2316, style=ProgressStyle(description_wid…"
      ]
     },
     "metadata": {},
     "output_type": "display_data"
    },
    {
     "name": "stdout",
     "output_type": "stream",
     "text": [
      "\n"
     ]
    },
    {
     "data": {
      "application/vnd.jupyter.widget-view+json": {
       "model_id": "4f14d932dd114643887fd310d45d9e25",
       "version_major": 2,
       "version_minor": 0
      },
      "text/plain": [
       "HBox(children=(IntProgress(value=0, description='dataset loop:', max=2316, style=ProgressStyle(description_wid…"
      ]
     },
     "metadata": {},
     "output_type": "display_data"
    },
    {
     "name": "stdout",
     "output_type": "stream",
     "text": [
      "\n"
     ]
    },
    {
     "data": {
      "application/vnd.jupyter.widget-view+json": {
       "model_id": "d35ab84555a4409693137899703f7893",
       "version_major": 2,
       "version_minor": 0
      },
      "text/plain": [
       "HBox(children=(IntProgress(value=0, description='dataset loop:', max=2316, style=ProgressStyle(description_wid…"
      ]
     },
     "metadata": {},
     "output_type": "display_data"
    },
    {
     "name": "stdout",
     "output_type": "stream",
     "text": [
      "\n"
     ]
    },
    {
     "data": {
      "application/vnd.jupyter.widget-view+json": {
       "model_id": "e15abd8c78e9461ab1e389fb2754d440",
       "version_major": 2,
       "version_minor": 0
      },
      "text/plain": [
       "HBox(children=(IntProgress(value=0, description='dataset loop:', max=2316, style=ProgressStyle(description_wid…"
      ]
     },
     "metadata": {},
     "output_type": "display_data"
    },
    {
     "name": "stdout",
     "output_type": "stream",
     "text": [
      "\n"
     ]
    },
    {
     "data": {
      "application/vnd.jupyter.widget-view+json": {
       "model_id": "c06ba2e9ea52455cabf2cc19dd218e0c",
       "version_major": 2,
       "version_minor": 0
      },
      "text/plain": [
       "HBox(children=(IntProgress(value=0, description='dataset loop:', max=2316, style=ProgressStyle(description_wid…"
      ]
     },
     "metadata": {},
     "output_type": "display_data"
    },
    {
     "name": "stdout",
     "output_type": "stream",
     "text": [
      "\n"
     ]
    },
    {
     "data": {
      "application/vnd.jupyter.widget-view+json": {
       "model_id": "d0f8b3187a0844deb97d8b8ce85ff817",
       "version_major": 2,
       "version_minor": 0
      },
      "text/plain": [
       "HBox(children=(IntProgress(value=0, description='dataset loop:', max=2316, style=ProgressStyle(description_wid…"
      ]
     },
     "metadata": {},
     "output_type": "display_data"
    },
    {
     "name": "stdout",
     "output_type": "stream",
     "text": [
      "\n"
     ]
    },
    {
     "data": {
      "application/vnd.jupyter.widget-view+json": {
       "model_id": "49b9b6aa438e47f19f5dc2abf8fa5be9",
       "version_major": 2,
       "version_minor": 0
      },
      "text/plain": [
       "HBox(children=(IntProgress(value=0, description='dataset loop:', max=2316, style=ProgressStyle(description_wid…"
      ]
     },
     "metadata": {},
     "output_type": "display_data"
    },
    {
     "name": "stdout",
     "output_type": "stream",
     "text": [
      "\n"
     ]
    },
    {
     "data": {
      "application/vnd.jupyter.widget-view+json": {
       "model_id": "b42f531a9c8c487baaf94035e0f1409c",
       "version_major": 2,
       "version_minor": 0
      },
      "text/plain": [
       "HBox(children=(IntProgress(value=0, description='dataset loop:', max=2316, style=ProgressStyle(description_wid…"
      ]
     },
     "metadata": {},
     "output_type": "display_data"
    },
    {
     "name": "stdout",
     "output_type": "stream",
     "text": [
      "\n"
     ]
    },
    {
     "data": {
      "application/vnd.jupyter.widget-view+json": {
       "model_id": "ca283c9cfa62453c8786c28e45ade7f5",
       "version_major": 2,
       "version_minor": 0
      },
      "text/plain": [
       "HBox(children=(IntProgress(value=0, description='dataset loop:', max=2316, style=ProgressStyle(description_wid…"
      ]
     },
     "metadata": {},
     "output_type": "display_data"
    },
    {
     "name": "stdout",
     "output_type": "stream",
     "text": [
      "\n"
     ]
    },
    {
     "data": {
      "application/vnd.jupyter.widget-view+json": {
       "model_id": "14ba17a9bf5147dc88fd1e6945402990",
       "version_major": 2,
       "version_minor": 0
      },
      "text/plain": [
       "HBox(children=(IntProgress(value=0, description='dataset loop:', max=2316, style=ProgressStyle(description_wid…"
      ]
     },
     "metadata": {},
     "output_type": "display_data"
    },
    {
     "name": "stdout",
     "output_type": "stream",
     "text": [
      "\n"
     ]
    },
    {
     "data": {
      "application/vnd.jupyter.widget-view+json": {
       "model_id": "34c8466ac80448b6b16f01c275771bc0",
       "version_major": 2,
       "version_minor": 0
      },
      "text/plain": [
       "HBox(children=(IntProgress(value=0, description='dataset loop:', max=2316, style=ProgressStyle(description_wid…"
      ]
     },
     "metadata": {},
     "output_type": "display_data"
    },
    {
     "name": "stdout",
     "output_type": "stream",
     "text": [
      "\n"
     ]
    },
    {
     "data": {
      "application/vnd.jupyter.widget-view+json": {
       "model_id": "fb1f736a5b254cd694afd5bb08b3ed43",
       "version_major": 2,
       "version_minor": 0
      },
      "text/plain": [
       "HBox(children=(IntProgress(value=0, description='dataset loop:', max=2316, style=ProgressStyle(description_wid…"
      ]
     },
     "metadata": {},
     "output_type": "display_data"
    },
    {
     "name": "stdout",
     "output_type": "stream",
     "text": [
      "\n"
     ]
    },
    {
     "data": {
      "application/vnd.jupyter.widget-view+json": {
       "model_id": "98bafa4a062d48b0947f6b1992d48c9e",
       "version_major": 2,
       "version_minor": 0
      },
      "text/plain": [
       "HBox(children=(IntProgress(value=0, description='dataset loop:', max=2316, style=ProgressStyle(description_wid…"
      ]
     },
     "metadata": {},
     "output_type": "display_data"
    },
    {
     "name": "stdout",
     "output_type": "stream",
     "text": [
      "\n"
     ]
    },
    {
     "data": {
      "application/vnd.jupyter.widget-view+json": {
       "model_id": "759146d38acb45c09f1fdc08c8bf0596",
       "version_major": 2,
       "version_minor": 0
      },
      "text/plain": [
       "HBox(children=(IntProgress(value=0, description='dataset loop:', max=2316, style=ProgressStyle(description_wid…"
      ]
     },
     "metadata": {},
     "output_type": "display_data"
    },
    {
     "name": "stdout",
     "output_type": "stream",
     "text": [
      "\n"
     ]
    },
    {
     "data": {
      "application/vnd.jupyter.widget-view+json": {
       "model_id": "eecdd674cce744a9a3bdce1517d7bd17",
       "version_major": 2,
       "version_minor": 0
      },
      "text/plain": [
       "HBox(children=(IntProgress(value=0, description='dataset loop:', max=2316, style=ProgressStyle(description_wid…"
      ]
     },
     "metadata": {},
     "output_type": "display_data"
    },
    {
     "name": "stdout",
     "output_type": "stream",
     "text": [
      "\n"
     ]
    },
    {
     "data": {
      "application/vnd.jupyter.widget-view+json": {
       "model_id": "dc2bc9edf292414b9f5094be0d6398dc",
       "version_major": 2,
       "version_minor": 0
      },
      "text/plain": [
       "HBox(children=(IntProgress(value=0, description='dataset loop:', max=2316, style=ProgressStyle(description_wid…"
      ]
     },
     "metadata": {},
     "output_type": "display_data"
    },
    {
     "name": "stdout",
     "output_type": "stream",
     "text": [
      "\n"
     ]
    },
    {
     "data": {
      "application/vnd.jupyter.widget-view+json": {
       "model_id": "8cfdde8912b243bc88aa447a71b5549c",
       "version_major": 2,
       "version_minor": 0
      },
      "text/plain": [
       "HBox(children=(IntProgress(value=0, description='dataset loop:', max=2316, style=ProgressStyle(description_wid…"
      ]
     },
     "metadata": {},
     "output_type": "display_data"
    },
    {
     "name": "stdout",
     "output_type": "stream",
     "text": [
      "\n"
     ]
    },
    {
     "data": {
      "application/vnd.jupyter.widget-view+json": {
       "model_id": "eb8f7998cc7a48b4844b8f57a7841a4a",
       "version_major": 2,
       "version_minor": 0
      },
      "text/plain": [
       "HBox(children=(IntProgress(value=0, description='dataset loop:', max=2316, style=ProgressStyle(description_wid…"
      ]
     },
     "metadata": {},
     "output_type": "display_data"
    },
    {
     "name": "stdout",
     "output_type": "stream",
     "text": [
      "\n"
     ]
    },
    {
     "data": {
      "application/vnd.jupyter.widget-view+json": {
       "model_id": "2183181f2fee475db0c3e556bb17f6e2",
       "version_major": 2,
       "version_minor": 0
      },
      "text/plain": [
       "HBox(children=(IntProgress(value=0, description='dataset loop:', max=2316, style=ProgressStyle(description_wid…"
      ]
     },
     "metadata": {},
     "output_type": "display_data"
    },
    {
     "name": "stdout",
     "output_type": "stream",
     "text": [
      "\n"
     ]
    },
    {
     "data": {
      "application/vnd.jupyter.widget-view+json": {
       "model_id": "54f6dff66ba54b86bf406881dde0918b",
       "version_major": 2,
       "version_minor": 0
      },
      "text/plain": [
       "HBox(children=(IntProgress(value=0, description='dataset loop:', max=2316, style=ProgressStyle(description_wid…"
      ]
     },
     "metadata": {},
     "output_type": "display_data"
    },
    {
     "name": "stdout",
     "output_type": "stream",
     "text": [
      "\n"
     ]
    },
    {
     "data": {
      "application/vnd.jupyter.widget-view+json": {
       "model_id": "62e4674c976a48babbd68836ff49a7f6",
       "version_major": 2,
       "version_minor": 0
      },
      "text/plain": [
       "HBox(children=(IntProgress(value=0, description='dataset loop:', max=2316, style=ProgressStyle(description_wid…"
      ]
     },
     "metadata": {},
     "output_type": "display_data"
    },
    {
     "name": "stdout",
     "output_type": "stream",
     "text": [
      "\n"
     ]
    },
    {
     "data": {
      "application/vnd.jupyter.widget-view+json": {
       "model_id": "78f9856c8f194053805ace0a32801347",
       "version_major": 2,
       "version_minor": 0
      },
      "text/plain": [
       "HBox(children=(IntProgress(value=0, description='dataset loop:', max=2316, style=ProgressStyle(description_wid…"
      ]
     },
     "metadata": {},
     "output_type": "display_data"
    },
    {
     "name": "stdout",
     "output_type": "stream",
     "text": [
      "\n"
     ]
    },
    {
     "data": {
      "application/vnd.jupyter.widget-view+json": {
       "model_id": "db2b9392c7bb409c8e4cc48e4eed3f3c",
       "version_major": 2,
       "version_minor": 0
      },
      "text/plain": [
       "HBox(children=(IntProgress(value=0, description='dataset loop:', max=2316, style=ProgressStyle(description_wid…"
      ]
     },
     "metadata": {},
     "output_type": "display_data"
    },
    {
     "name": "stdout",
     "output_type": "stream",
     "text": [
      "\n"
     ]
    },
    {
     "data": {
      "application/vnd.jupyter.widget-view+json": {
       "model_id": "f4ef2016894749809f038333bc6a73dc",
       "version_major": 2,
       "version_minor": 0
      },
      "text/plain": [
       "HBox(children=(IntProgress(value=0, description='dataset loop:', max=2316, style=ProgressStyle(description_wid…"
      ]
     },
     "metadata": {},
     "output_type": "display_data"
    },
    {
     "name": "stdout",
     "output_type": "stream",
     "text": [
      "\n"
     ]
    },
    {
     "data": {
      "application/vnd.jupyter.widget-view+json": {
       "model_id": "2763f144f61e4466a1f3dbfd9a127272",
       "version_major": 2,
       "version_minor": 0
      },
      "text/plain": [
       "HBox(children=(IntProgress(value=0, description='dataset loop:', max=2316, style=ProgressStyle(description_wid…"
      ]
     },
     "metadata": {},
     "output_type": "display_data"
    },
    {
     "name": "stdout",
     "output_type": "stream",
     "text": [
      "\n"
     ]
    },
    {
     "data": {
      "application/vnd.jupyter.widget-view+json": {
       "model_id": "a2ad05cd4c0c4473b9a08f7a4bb0d29d",
       "version_major": 2,
       "version_minor": 0
      },
      "text/plain": [
       "HBox(children=(IntProgress(value=0, description='dataset loop:', max=2316, style=ProgressStyle(description_wid…"
      ]
     },
     "metadata": {},
     "output_type": "display_data"
    },
    {
     "name": "stdout",
     "output_type": "stream",
     "text": [
      "\n"
     ]
    },
    {
     "data": {
      "application/vnd.jupyter.widget-view+json": {
       "model_id": "b0af0edc6c4d4c7a8b3738c3d58c8903",
       "version_major": 2,
       "version_minor": 0
      },
      "text/plain": [
       "HBox(children=(IntProgress(value=0, description='dataset loop:', max=2316, style=ProgressStyle(description_wid…"
      ]
     },
     "metadata": {},
     "output_type": "display_data"
    },
    {
     "name": "stdout",
     "output_type": "stream",
     "text": [
      "\n"
     ]
    },
    {
     "data": {
      "application/vnd.jupyter.widget-view+json": {
       "model_id": "9fc81890cbe14b3bab2ae12a41f02e9b",
       "version_major": 2,
       "version_minor": 0
      },
      "text/plain": [
       "HBox(children=(IntProgress(value=0, description='dataset loop:', max=2316, style=ProgressStyle(description_wid…"
      ]
     },
     "metadata": {},
     "output_type": "display_data"
    },
    {
     "name": "stdout",
     "output_type": "stream",
     "text": [
      "\n"
     ]
    },
    {
     "data": {
      "application/vnd.jupyter.widget-view+json": {
       "model_id": "94df0a2fe0e54ee3bbee57be950a5c67",
       "version_major": 2,
       "version_minor": 0
      },
      "text/plain": [
       "HBox(children=(IntProgress(value=0, description='dataset loop:', max=2316, style=ProgressStyle(description_wid…"
      ]
     },
     "metadata": {},
     "output_type": "display_data"
    },
    {
     "name": "stdout",
     "output_type": "stream",
     "text": [
      "\n"
     ]
    },
    {
     "data": {
      "application/vnd.jupyter.widget-view+json": {
       "model_id": "a15cd6d58ad347ea891caf412d0051ff",
       "version_major": 2,
       "version_minor": 0
      },
      "text/plain": [
       "HBox(children=(IntProgress(value=0, description='dataset loop:', max=2316, style=ProgressStyle(description_wid…"
      ]
     },
     "metadata": {},
     "output_type": "display_data"
    },
    {
     "name": "stdout",
     "output_type": "stream",
     "text": [
      "\n"
     ]
    },
    {
     "data": {
      "application/vnd.jupyter.widget-view+json": {
       "model_id": "046dc2e47eba419f851b1e48fb1b8709",
       "version_major": 2,
       "version_minor": 0
      },
      "text/plain": [
       "HBox(children=(IntProgress(value=0, description='dataset loop:', max=2316, style=ProgressStyle(description_wid…"
      ]
     },
     "metadata": {},
     "output_type": "display_data"
    },
    {
     "name": "stdout",
     "output_type": "stream",
     "text": [
      "\n"
     ]
    },
    {
     "data": {
      "application/vnd.jupyter.widget-view+json": {
       "model_id": "5dcc5a967e374fcd9fe0600704485cab",
       "version_major": 2,
       "version_minor": 0
      },
      "text/plain": [
       "HBox(children=(IntProgress(value=0, description='dataset loop:', max=2316, style=ProgressStyle(description_wid…"
      ]
     },
     "metadata": {},
     "output_type": "display_data"
    },
    {
     "name": "stdout",
     "output_type": "stream",
     "text": [
      "\n"
     ]
    },
    {
     "data": {
      "application/vnd.jupyter.widget-view+json": {
       "model_id": "461079d6546c42e2b7aaa231d51e1c28",
       "version_major": 2,
       "version_minor": 0
      },
      "text/plain": [
       "HBox(children=(IntProgress(value=0, description='dataset loop:', max=2316, style=ProgressStyle(description_wid…"
      ]
     },
     "metadata": {},
     "output_type": "display_data"
    },
    {
     "name": "stdout",
     "output_type": "stream",
     "text": [
      "\n"
     ]
    },
    {
     "data": {
      "application/vnd.jupyter.widget-view+json": {
       "model_id": "2bfb251d6d0d4d9aaa12d4e491716d82",
       "version_major": 2,
       "version_minor": 0
      },
      "text/plain": [
       "HBox(children=(IntProgress(value=0, description='dataset loop:', max=2316, style=ProgressStyle(description_wid…"
      ]
     },
     "metadata": {},
     "output_type": "display_data"
    },
    {
     "name": "stdout",
     "output_type": "stream",
     "text": [
      "\n"
     ]
    },
    {
     "data": {
      "application/vnd.jupyter.widget-view+json": {
       "model_id": "e49aadd5be7c49a0a7abf0673a4770e2",
       "version_major": 2,
       "version_minor": 0
      },
      "text/plain": [
       "HBox(children=(IntProgress(value=0, description='dataset loop:', max=2316, style=ProgressStyle(description_wid…"
      ]
     },
     "metadata": {},
     "output_type": "display_data"
    },
    {
     "name": "stdout",
     "output_type": "stream",
     "text": [
      "\n"
     ]
    },
    {
     "data": {
      "application/vnd.jupyter.widget-view+json": {
       "model_id": "7df3de0ff5ec413fb0e3827d06eb1ea7",
       "version_major": 2,
       "version_minor": 0
      },
      "text/plain": [
       "HBox(children=(IntProgress(value=0, description='dataset loop:', max=2316, style=ProgressStyle(description_wid…"
      ]
     },
     "metadata": {},
     "output_type": "display_data"
    },
    {
     "name": "stdout",
     "output_type": "stream",
     "text": [
      "\n"
     ]
    },
    {
     "data": {
      "application/vnd.jupyter.widget-view+json": {
       "model_id": "05a7dccd3e3e474bbf4d817622c91b0e",
       "version_major": 2,
       "version_minor": 0
      },
      "text/plain": [
       "HBox(children=(IntProgress(value=0, description='dataset loop:', max=2316, style=ProgressStyle(description_wid…"
      ]
     },
     "metadata": {},
     "output_type": "display_data"
    },
    {
     "name": "stdout",
     "output_type": "stream",
     "text": [
      "\n"
     ]
    },
    {
     "data": {
      "application/vnd.jupyter.widget-view+json": {
       "model_id": "05f44eb5294641afa7c0af6295fd8c2d",
       "version_major": 2,
       "version_minor": 0
      },
      "text/plain": [
       "HBox(children=(IntProgress(value=0, description='dataset loop:', max=2316, style=ProgressStyle(description_wid…"
      ]
     },
     "metadata": {},
     "output_type": "display_data"
    },
    {
     "name": "stdout",
     "output_type": "stream",
     "text": [
      "\n"
     ]
    },
    {
     "data": {
      "application/vnd.jupyter.widget-view+json": {
       "model_id": "7f167e4c746e48cb9bb72bce681c7447",
       "version_major": 2,
       "version_minor": 0
      },
      "text/plain": [
       "HBox(children=(IntProgress(value=0, description='dataset loop:', max=2316, style=ProgressStyle(description_wid…"
      ]
     },
     "metadata": {},
     "output_type": "display_data"
    },
    {
     "name": "stdout",
     "output_type": "stream",
     "text": [
      "\n"
     ]
    },
    {
     "data": {
      "application/vnd.jupyter.widget-view+json": {
       "model_id": "085d7f6cb80a4da0bb392b41205fadb7",
       "version_major": 2,
       "version_minor": 0
      },
      "text/plain": [
       "HBox(children=(IntProgress(value=0, description='dataset loop:', max=2316, style=ProgressStyle(description_wid…"
      ]
     },
     "metadata": {},
     "output_type": "display_data"
    },
    {
     "name": "stdout",
     "output_type": "stream",
     "text": [
      "\n"
     ]
    },
    {
     "data": {
      "application/vnd.jupyter.widget-view+json": {
       "model_id": "6c9fda255794479587ca705d00ef8df2",
       "version_major": 2,
       "version_minor": 0
      },
      "text/plain": [
       "HBox(children=(IntProgress(value=0, description='dataset loop:', max=2316, style=ProgressStyle(description_wid…"
      ]
     },
     "metadata": {},
     "output_type": "display_data"
    },
    {
     "name": "stdout",
     "output_type": "stream",
     "text": [
      "\n"
     ]
    },
    {
     "data": {
      "application/vnd.jupyter.widget-view+json": {
       "model_id": "42c8999005e14fc39af7e512c8b4eb79",
       "version_major": 2,
       "version_minor": 0
      },
      "text/plain": [
       "HBox(children=(IntProgress(value=0, description='dataset loop:', max=2316, style=ProgressStyle(description_wid…"
      ]
     },
     "metadata": {},
     "output_type": "display_data"
    },
    {
     "name": "stdout",
     "output_type": "stream",
     "text": [
      "\n"
     ]
    },
    {
     "data": {
      "application/vnd.jupyter.widget-view+json": {
       "model_id": "6a96f935972b461396dd49df635bcc9c",
       "version_major": 2,
       "version_minor": 0
      },
      "text/plain": [
       "HBox(children=(IntProgress(value=0, description='dataset loop:', max=2316, style=ProgressStyle(description_wid…"
      ]
     },
     "metadata": {},
     "output_type": "display_data"
    },
    {
     "name": "stdout",
     "output_type": "stream",
     "text": [
      "\n"
     ]
    },
    {
     "data": {
      "application/vnd.jupyter.widget-view+json": {
       "model_id": "8cc5f1807f1341fb9bb11a0a9e23e607",
       "version_major": 2,
       "version_minor": 0
      },
      "text/plain": [
       "HBox(children=(IntProgress(value=0, description='dataset loop:', max=2316, style=ProgressStyle(description_wid…"
      ]
     },
     "metadata": {},
     "output_type": "display_data"
    },
    {
     "name": "stdout",
     "output_type": "stream",
     "text": [
      "\n"
     ]
    },
    {
     "data": {
      "application/vnd.jupyter.widget-view+json": {
       "model_id": "4c1fa8383ca3486ba9e12cf2c4b07be2",
       "version_major": 2,
       "version_minor": 0
      },
      "text/plain": [
       "HBox(children=(IntProgress(value=0, description='dataset loop:', max=2316, style=ProgressStyle(description_wid…"
      ]
     },
     "metadata": {},
     "output_type": "display_data"
    },
    {
     "name": "stdout",
     "output_type": "stream",
     "text": [
      "\n"
     ]
    },
    {
     "data": {
      "application/vnd.jupyter.widget-view+json": {
       "model_id": "328feaae88524d399245d364433b5de3",
       "version_major": 2,
       "version_minor": 0
      },
      "text/plain": [
       "HBox(children=(IntProgress(value=0, description='dataset loop:', max=2316, style=ProgressStyle(description_wid…"
      ]
     },
     "metadata": {},
     "output_type": "display_data"
    },
    {
     "name": "stdout",
     "output_type": "stream",
     "text": [
      "\n"
     ]
    },
    {
     "data": {
      "application/vnd.jupyter.widget-view+json": {
       "model_id": "41f763b12df24918a148aad263302d48",
       "version_major": 2,
       "version_minor": 0
      },
      "text/plain": [
       "HBox(children=(IntProgress(value=0, description='dataset loop:', max=2316, style=ProgressStyle(description_wid…"
      ]
     },
     "metadata": {},
     "output_type": "display_data"
    },
    {
     "name": "stdout",
     "output_type": "stream",
     "text": [
      "\n"
     ]
    },
    {
     "data": {
      "application/vnd.jupyter.widget-view+json": {
       "model_id": "ae0b6b0dccd34422bbf05c65188f804a",
       "version_major": 2,
       "version_minor": 0
      },
      "text/plain": [
       "HBox(children=(IntProgress(value=0, description='dataset loop:', max=2316, style=ProgressStyle(description_wid…"
      ]
     },
     "metadata": {},
     "output_type": "display_data"
    },
    {
     "name": "stdout",
     "output_type": "stream",
     "text": [
      "\n"
     ]
    },
    {
     "data": {
      "application/vnd.jupyter.widget-view+json": {
       "model_id": "c42d66f46ad3493f9d4da55ba494c122",
       "version_major": 2,
       "version_minor": 0
      },
      "text/plain": [
       "HBox(children=(IntProgress(value=0, description='dataset loop:', max=2316, style=ProgressStyle(description_wid…"
      ]
     },
     "metadata": {},
     "output_type": "display_data"
    },
    {
     "name": "stdout",
     "output_type": "stream",
     "text": [
      "\n"
     ]
    },
    {
     "data": {
      "application/vnd.jupyter.widget-view+json": {
       "model_id": "6f89f535691e456383a71c2cc05f27c4",
       "version_major": 2,
       "version_minor": 0
      },
      "text/plain": [
       "HBox(children=(IntProgress(value=0, description='dataset loop:', max=2316, style=ProgressStyle(description_wid…"
      ]
     },
     "metadata": {},
     "output_type": "display_data"
    },
    {
     "name": "stdout",
     "output_type": "stream",
     "text": [
      "\n"
     ]
    },
    {
     "data": {
      "application/vnd.jupyter.widget-view+json": {
       "model_id": "13146d2f47804781ac71f6550df8ec4a",
       "version_major": 2,
       "version_minor": 0
      },
      "text/plain": [
       "HBox(children=(IntProgress(value=0, description='dataset loop:', max=2316, style=ProgressStyle(description_wid…"
      ]
     },
     "metadata": {},
     "output_type": "display_data"
    },
    {
     "name": "stdout",
     "output_type": "stream",
     "text": [
      "\n"
     ]
    },
    {
     "data": {
      "application/vnd.jupyter.widget-view+json": {
       "model_id": "ef5790a952784739ac0d323a4fd421bc",
       "version_major": 2,
       "version_minor": 0
      },
      "text/plain": [
       "HBox(children=(IntProgress(value=0, description='dataset loop:', max=2316, style=ProgressStyle(description_wid…"
      ]
     },
     "metadata": {},
     "output_type": "display_data"
    },
    {
     "name": "stdout",
     "output_type": "stream",
     "text": [
      "\n"
     ]
    },
    {
     "data": {
      "application/vnd.jupyter.widget-view+json": {
       "model_id": "0fb6d05670ca4fdeb9135b639cf199a2",
       "version_major": 2,
       "version_minor": 0
      },
      "text/plain": [
       "HBox(children=(IntProgress(value=0, description='dataset loop:', max=2316, style=ProgressStyle(description_wid…"
      ]
     },
     "metadata": {},
     "output_type": "display_data"
    },
    {
     "name": "stdout",
     "output_type": "stream",
     "text": [
      "\n"
     ]
    },
    {
     "data": {
      "application/vnd.jupyter.widget-view+json": {
       "model_id": "9eeb96c187534dd398e4366a464d736c",
       "version_major": 2,
       "version_minor": 0
      },
      "text/plain": [
       "HBox(children=(IntProgress(value=0, description='dataset loop:', max=2316, style=ProgressStyle(description_wid…"
      ]
     },
     "metadata": {},
     "output_type": "display_data"
    },
    {
     "name": "stdout",
     "output_type": "stream",
     "text": [
      "\n"
     ]
    },
    {
     "data": {
      "application/vnd.jupyter.widget-view+json": {
       "model_id": "f2d32bdd5bb7461dbaa9c0a6c4de7899",
       "version_major": 2,
       "version_minor": 0
      },
      "text/plain": [
       "HBox(children=(IntProgress(value=0, description='dataset loop:', max=2316, style=ProgressStyle(description_wid…"
      ]
     },
     "metadata": {},
     "output_type": "display_data"
    },
    {
     "name": "stdout",
     "output_type": "stream",
     "text": [
      "\n"
     ]
    },
    {
     "data": {
      "application/vnd.jupyter.widget-view+json": {
       "model_id": "a078f19d4d0944b1a551418a4d611a29",
       "version_major": 2,
       "version_minor": 0
      },
      "text/plain": [
       "HBox(children=(IntProgress(value=0, description='dataset loop:', max=2316, style=ProgressStyle(description_wid…"
      ]
     },
     "metadata": {},
     "output_type": "display_data"
    },
    {
     "name": "stdout",
     "output_type": "stream",
     "text": [
      "\n",
      "\n"
     ]
    }
   ],
   "source": [
    "best_model = None\n",
    "best_val = 9999999\n",
    "for epoch in tnrange(EPOCH, desc='epoch loop:'):\n",
    "    net.to(device)\n",
    "    train_loss = train(net, trainloader)\n",
    "    val_loss = validation(net, validationloader)\n",
    "    tloss.append(train_loss)\n",
    "    vloss.append(val_loss)\n",
    "    if val_loss < best_val:\n",
    "        best_val = val_loss\n",
    "        best_model = copy.deepcopy(net.cpu())"
   ]
  },
  {
   "cell_type": "code",
   "execution_count": 18,
   "metadata": {},
   "outputs": [
    {
     "data": {
      "text/plain": [
       "<matplotlib.legend.Legend at 0x7fdf12c3c110>"
      ]
     },
     "execution_count": 18,
     "metadata": {},
     "output_type": "execute_result"
    },
    {
     "data": {
      "image/png": "[encoded data removed]",
      "text/plain": [
       "<Figure size 432x288 with 1 Axes>"
      ]
     },
     "metadata": {
      "needs_background": "light"
     },
     "output_type": "display_data"
    }
   ],
   "source": [
    "plt.plot(tloss, label='train')\n",
    "plt.plot(vloss, label='val')\n",
    "plt.legend()"
   ]
  },
  {
   "cell_type": "code",
   "execution_count": 19,
   "metadata": {},
   "outputs": [
    {
     "data": {
      "text/plain": [
       "154"
      ]
     },
     "execution_count": 19,
     "metadata": {},
     "output_type": "execute_result"
    }
   ],
   "source": [
    "np.argmin(vloss)"
   ]
  },
  {
   "cell_type": "code",
   "execution_count": 25,
   "metadata": {},
   "outputs": [
    {
     "data": {
      "text/plain": [
       "0.006655439393858656"
      ]
     },
     "execution_count": 25,
     "metadata": {},
     "output_type": "execute_result"
    }
   ],
   "source": [
    "np.min(vloss)"
   ]
  },
  {
   "cell_type": "code",
   "execution_count": 21,
   "metadata": {},
   "outputs": [],
   "source": [
    "torch.save(best_model.state_dict(), 'model_save/best_classification_model.pt')"
   ]
  },
  {
   "cell_type": "code",
   "execution_count": 23,
   "metadata": {},
   "outputs": [],
   "source": [
    "test_loader = DataLoader(val_ds, batch_size=1, shuffle=True, num_workers=10)"
   ]
  },
  {
   "cell_type": "code",
   "execution_count": 21,
   "metadata": {},
   "outputs": [],
   "source": [
    "state_dict = torch.load('model_save/best_classification_model.pt')"
   ]
  },
  {
   "cell_type": "code",
   "execution_count": 22,
   "metadata": {
    "scrolled": true
   },
   "outputs": [
    {
     "data": {
      "text/plain": [
       "OrderedDict([('conv1.weight',\n",
       "              tensor([[[-8.1744e-02, -1.7900e-02, -4.2454e-02, -7.2409e-02,  2.0614e-01],\n",
       "                       [-1.3506e-01, -1.0653e-01,  1.5693e-02,  9.2621e-02,  1.1218e-01],\n",
       "                       [ 1.2766e-02, -1.9916e-03, -1.1625e-01, -1.5355e-01,  2.4634e-01],\n",
       "                       [-2.4966e-02, -1.6224e-02,  2.3258e-03,  1.6022e-02,  2.3933e-02],\n",
       "                       [-2.6084e-02, -3.5043e-02,  5.5017e-03, -4.8033e-02,  1.8157e-02]],\n",
       "              \n",
       "                      [[ 1.0889e+00,  1.1501e+00,  8.2773e-02, -9.0991e-01, -1.4717e+00],\n",
       "                       [-4.8061e-02, -2.5630e-01, -1.2328e-01,  6.6861e-02,  2.7258e-01],\n",
       "                       [-1.6483e-01,  7.9645e-03,  5.4228e-02,  2.1428e-01, -1.2672e-01],\n",
       "                       [ 3.0293e-02,  2.3756e-03, -1.7295e-02, -3.6263e-02, -4.3474e-02],\n",
       "                       [-1.9742e-02,  4.2051e-02, -1.0715e-02, -5.6799e-03,  6.3125e-02]],\n",
       "              \n",
       "                      [[ 1.2821e-01,  2.1760e-01,  2.9326e-01,  2.8007e-01,  1.2798e-01],\n",
       "                       [ 2.1765e-01,  2.2887e-01,  1.8095e-01,  2.7970e-01,  4.6341e-01],\n",
       "                       [-9.0836e-01, -9.6329e-01, -1.5733e-01,  9.1429e-01,  1.2651e+00],\n",
       "                       [ 6.3391e-02, -8.1371e-02, -1.1672e-01,  1.2403e-01,  1.4549e-01],\n",
       "                       [-4.2091e-01, -2.3487e-01, -5.2842e-01, -3.9935e-01, -3.1408e-01]],\n",
       "              \n",
       "                      [[ 2.0258e-01,  2.8512e-01,  2.6997e-01,  1.9638e-01,  3.0992e-01],\n",
       "                       [ 1.5507e-01, -6.6764e-04, -1.9374e-01,  1.0422e-01, -2.3386e-01],\n",
       "                       [-9.0975e-02,  3.8979e-03,  1.2119e-01, -3.2560e-03,  4.6848e-01],\n",
       "                       [-1.7639e-01,  1.3122e-01,  2.1595e-01,  1.4016e-01,  4.4985e-01],\n",
       "                       [-5.2923e-02, -1.0244e-01, -2.1061e-01,  2.4293e-02, -2.1329e-01]],\n",
       "              \n",
       "                      [[ 4.7837e-01,  4.9112e-01, -1.5780e-01, -5.9231e-01, -2.0555e-01],\n",
       "                       [ 6.2473e-02,  9.3956e-03,  7.0793e-02,  8.0057e-02, -2.3753e-01],\n",
       "                       [ 1.7578e-01,  3.9333e-02, -5.5368e-02, -1.2134e-01, -4.3469e-02],\n",
       "                       [-2.1512e-02, -1.7370e-02, -4.4792e-04,  5.7878e-03,  8.1244e-03],\n",
       "                       [-2.0875e-02,  1.9557e-02, -1.5971e-02,  1.6350e-02, -3.4811e-02]],\n",
       "              \n",
       "                      [[ 4.2661e-02, -4.3157e-02, -1.9661e-01, -1.4273e-01,  3.1219e-01],\n",
       "                       [ 1.6626e-01,  8.9327e-02,  2.3757e-02, -2.6670e-02, -2.5313e-01],\n",
       "                       [ 1.5953e-01, -1.0519e-05, -1.2257e-01, -1.8316e-01,  1.6143e-01],\n",
       "                       [-4.6277e-02, -2.5672e-02, -4.4528e-04,  1.4910e-02,  3.9650e-02],\n",
       "                       [ 4.2018e-02, -2.1759e-02, -2.7753e-02,  3.6574e-02, -6.8654e-02]],\n",
       "              \n",
       "                      [[-5.8914e-01, -5.5349e-01, -8.1999e-01, -8.9741e-01, -7.6798e-01],\n",
       "                       [-7.9564e-02, -1.6942e-01, -1.9603e-01, -1.7285e-01, -1.6055e-01],\n",
       "                       [ 5.7984e-01,  7.6591e-01,  3.3631e-01, -5.5621e-02, -4.6854e-01],\n",
       "                       [-2.5171e-02, -2.5645e-01, -2.4291e-01, -5.0404e-02, -1.6970e-01],\n",
       "                       [ 4.5957e-01,  4.9702e-01,  4.9315e-01,  4.9663e-01,  4.2434e-01]],\n",
       "              \n",
       "                      [[ 2.1198e-01,  3.8227e-01,  3.1860e-01,  3.0501e-01,  6.8646e-02],\n",
       "                       [-4.7573e-02,  2.1144e-01,  9.8900e-03,  3.0300e-01,  1.8311e-01],\n",
       "                       [ 9.5200e-01,  7.4944e-01,  1.4677e-01, -6.2580e-01, -1.2806e+00],\n",
       "                       [ 3.0415e-02, -3.6741e-02,  3.4299e-02,  3.9001e-02, -2.1489e-03],\n",
       "                       [-1.7685e-01, -1.4344e-01, -2.7681e-01, -3.2226e-01, -2.4682e-01]],\n",
       "              \n",
       "                      [[-1.0518e-02,  3.1640e-03,  1.8787e-02,  3.1050e-02, -3.6132e-02],\n",
       "                       [ 1.2257e-01,  5.7568e-02, -6.7842e-02, -8.5859e-02, -1.6204e-02],\n",
       "                       [-1.0561e-02, -3.3260e-05,  4.4191e-02,  2.5474e-02, -4.1711e-02],\n",
       "                       [ 2.5351e-03, -2.5306e-04, -2.1956e-03, -3.1916e-03, -3.0530e-03],\n",
       "                       [-1.2394e-02,  2.0652e-03, -5.0837e-03,  7.9759e-03, -9.4228e-03]],\n",
       "              \n",
       "                      [[ 5.8010e-02, -1.5404e-01,  4.4761e-02, -1.6215e-01, -1.9945e-01],\n",
       "                       [-5.2248e-01, -3.8141e-01, -5.9286e-01, -4.0244e-01, -5.3304e-01],\n",
       "                       [ 3.5829e-02, -2.4125e-01, -2.7840e-01, -4.8612e-01, -4.7440e-01],\n",
       "                       [ 1.7936e-01, -4.3600e-02,  1.8110e-01, -7.3402e-02, -1.0210e-02],\n",
       "                       [ 3.6315e-01,  6.6117e-01,  6.1969e-01,  4.4124e-01,  6.6895e-01]],\n",
       "              \n",
       "                      [[-1.8064e-01, -1.4431e-01,  2.8181e-02,  2.0554e-01,  5.2868e-02],\n",
       "                       [-2.6751e-01, -1.5929e-01, -4.8396e-02,  1.0345e-01,  3.4414e-01],\n",
       "                       [-1.0558e-01, -1.4554e-03,  4.2508e-02,  3.4355e-02,  6.0932e-03],\n",
       "                       [ 1.0714e-03, -3.3473e-03, -7.8430e-03, -8.6983e-03, -2.5876e-03],\n",
       "                       [-1.7234e-02, -7.9771e-03, -6.6677e-03, -2.3715e-02,  3.5674e-02]],\n",
       "              \n",
       "                      [[ 3.8322e-02,  1.7593e-01,  2.2174e-01,  2.5758e-01,  5.4786e-01],\n",
       "                       [ 2.6468e-01,  4.2542e-01,  4.7448e-01,  3.4784e-01, -1.7798e-01],\n",
       "                       [-8.2398e-01, -6.0094e-01, -1.6005e-04,  6.2123e-01,  9.8399e-01],\n",
       "                       [ 7.5273e-02, -7.3523e-02, -4.6775e-02,  7.1602e-02,  8.4312e-02],\n",
       "                       [-4.0027e-01, -3.2980e-01, -3.1708e-01, -2.1770e-01, -5.0416e-01]],\n",
       "              \n",
       "                      [[ 1.0422e+00,  9.4394e-01, -1.1146e-01, -1.0051e+00, -8.7714e-01],\n",
       "                       [-1.3076e-01, -1.5697e-01,  1.1997e-01,  2.2728e-01, -1.3376e-01],\n",
       "                       [-1.3063e-01,  2.3944e-03, -6.7452e-02,  6.2131e-02,  9.8823e-02],\n",
       "                       [-2.1808e-02, -2.2271e-02, -1.3029e-02, -6.3177e-03, -3.7804e-03],\n",
       "                       [-1.3574e-02, -2.1267e-03,  3.0710e-02, -2.4791e-02, -3.6438e-02]],\n",
       "              \n",
       "                      [[ 3.0885e-01,  3.9894e-01,  4.2233e-01,  5.5855e-01,  8.1952e-01],\n",
       "                       [-4.2249e-02, -4.5354e-03, -1.5509e-01, -1.0486e-01, -5.7948e-01],\n",
       "                       [ 2.3897e-01,  8.2458e-02, -4.0940e-02, -3.3025e-01,  1.5851e-01],\n",
       "                       [ 7.1880e-02, -4.5141e-02, -1.9267e-01, -2.4220e-01, -1.4484e-01],\n",
       "                       [ 5.7036e-03, -7.7737e-02, -1.8723e-01, -1.5199e-01, -5.5337e-02]],\n",
       "              \n",
       "                      [[-1.1765e+00, -1.6154e+00, -3.2094e-01,  1.1331e+00,  1.9094e+00],\n",
       "                       [ 1.1179e-01,  1.8198e-01,  5.7800e-02,  7.9499e-03, -3.9052e-01],\n",
       "                       [ 1.1723e-01,  1.4280e-01, -7.0113e-02, -2.4856e-01,  7.0697e-02],\n",
       "                       [-5.2620e-02, -1.8302e-02, -1.8286e-02,  2.1769e-03,  3.8474e-02],\n",
       "                       [ 2.5388e-02,  2.8030e-02, -5.0278e-02, -1.0622e-02, -8.8986e-02]],\n",
       "              \n",
       "                      [[ 2.5253e-01,  2.9928e-01,  4.9501e-02, -2.2684e-01, -4.0213e-01],\n",
       "                       [-8.2387e-02, -5.5340e-02, -1.1181e-02,  1.8273e-02,  8.7506e-02],\n",
       "                       [-4.2036e-02, -2.0358e-03, -1.3272e-02,  3.3009e-02,  5.4397e-03],\n",
       "                       [ 3.0334e-03, -4.0777e-03, -8.3729e-03, -1.0855e-02, -1.0658e-02],\n",
       "                       [-2.5417e-02,  2.3540e-02, -1.9997e-03,  3.1974e-02, -3.0428e-02]]])),\n",
       "             ('conv1.bias',\n",
       "              tensor([ 0.0925,  0.0343,  0.1012,  0.0009,  0.0597,  0.0352, -0.0494, -0.0271,\n",
       "                      -0.0104, -0.1824,  0.0554, -0.0710,  0.1016,  0.2694,  0.1346,  0.0054])),\n",
       "             ('conv2.weight',\n",
       "              tensor([[[-5.5384e-03,  2.7300e-03,  1.8503e-03,  3.4527e-03, -5.8732e-04],\n",
       "                       [-7.1736e-03, -1.2826e-03,  6.0129e-04,  7.9511e-05, -9.0031e-03],\n",
       "                       [-1.1975e-02,  1.5288e-03, -9.0918e-03, -8.0531e-03, -1.2605e-02],\n",
       "                       ...,\n",
       "                       [-2.4555e-03,  5.1350e-05,  5.7156e-04,  5.5186e-03,  1.1800e-02],\n",
       "                       [ 1.6093e-02, -2.5242e-02,  1.2738e-02, -1.3837e-02, -3.8389e-03],\n",
       "                       [ 4.9498e-03,  7.5541e-03,  7.5379e-03,  6.2457e-03,  3.4151e-03]],\n",
       "              \n",
       "                      [[ 6.4428e-02, -4.1432e-02, -3.5186e-02, -1.6749e-02,  3.6164e-02],\n",
       "                       [-4.2950e-01, -2.5925e-01,  1.2149e+00, -3.8788e-01, -1.2227e-01],\n",
       "                       [-4.9287e-02,  2.3598e-02, -1.1503e-01,  1.2217e-02,  3.3135e-02],\n",
       "                       ...,\n",
       "                       [-2.3846e-01,  9.2466e-02, -1.1483e-01, -2.2010e-02,  4.2042e-01],\n",
       "                       [ 5.2229e-01, -1.1850e-01, -6.8501e-01, -5.8386e-01,  1.0953e+00],\n",
       "                       [-9.6048e-02, -7.4677e-02,  3.2080e-01, -1.0909e-01, -3.2688e-02]],\n",
       "              \n",
       "                      [[-4.3703e-02,  2.3191e-02, -8.2825e-02, -2.7549e-02,  1.2525e-01],\n",
       "                       [ 6.5567e-01, -6.6636e-01, -4.4759e-01,  1.4089e+00, -9.1025e-01],\n",
       "                       [-1.4899e-02, -7.9888e-02,  8.1588e-02, -1.9186e-02,  9.1459e-03],\n",
       "                       ...,\n",
       "                       [-7.2663e-02,  1.6300e-01,  1.7390e-01, -1.1283e-01,  1.3801e-01],\n",
       "                       [-1.1914e+00,  1.7173e+00, -4.2601e-01, -1.0208e+00,  9.1094e-01],\n",
       "                       [ 1.6411e-01, -1.8864e-01, -9.9694e-02,  3.6729e-01, -2.1950e-01]],\n",
       "              \n",
       "                      ...,\n",
       "              \n",
       "                      [[-1.0325e-02,  1.5295e-04, -6.4951e-03, -8.3148e-03,  3.5102e-03],\n",
       "                       [-1.3583e-02, -1.6965e-02, -1.8398e-02, -8.0125e-03,  7.5662e-05],\n",
       "                       [ 9.1266e-03, -1.9298e-02, -1.3578e-03, -9.6986e-03,  2.1843e-02],\n",
       "                       ...,\n",
       "                       [-4.6546e-04,  4.8055e-04,  1.5174e-03,  9.4433e-03,  6.2033e-03],\n",
       "                       [ 4.7197e-03,  1.1561e-02,  8.1227e-03,  2.2122e-02, -1.0875e-02],\n",
       "                       [-1.2679e-03, -5.1283e-04, -2.2025e-03, -2.0243e-03,  2.2080e-03]],\n",
       "              \n",
       "                      [[-1.3083e-02, -9.0307e-03, -1.1239e-02, -1.3288e-02, -1.0234e-02],\n",
       "                       [ 3.2944e-03, -1.8208e-02, -7.3692e-03, -2.1014e-03,  1.0585e-02],\n",
       "                       [-1.4489e-02,  1.2233e-02, -2.5142e-02, -5.1213e-03, -6.6117e-03],\n",
       "                       ...,\n",
       "                       [-1.0861e-02, -1.3793e-02, -3.8829e-03,  7.5521e-03,  3.2651e-03],\n",
       "                       [-2.6094e-02, -6.4431e-03, -1.1904e-02, -4.9849e-03, -2.7792e-02],\n",
       "                       [ 6.3387e-03,  1.2460e-03,  2.5528e-03,  3.6153e-03,  7.3768e-03]],\n",
       "              \n",
       "                      [[-2.6225e-03, -1.0514e-03,  7.8389e-03,  5.5865e-03,  2.1920e-03],\n",
       "                       [-1.4870e-02,  8.7967e-03, -4.6296e-03, -6.3908e-03,  3.6314e-03],\n",
       "                       [-2.9059e-03, -1.9339e-02, -2.1910e-04,  7.5834e-03, -1.4158e-03],\n",
       "                       ...,\n",
       "                       [-7.0592e-03,  1.0529e-03,  1.8311e-03,  9.0037e-03,  1.2706e-02],\n",
       "                       [ 1.0874e-02,  1.2869e-02,  1.5410e-02,  1.5606e-02,  2.3584e-02],\n",
       "                       [-2.0854e-03,  2.7740e-03,  8.4877e-04,  7.0238e-04,  2.7336e-03]]])),\n",
       "             ('conv2.bias',\n",
       "              tensor([-0.0048, -0.0350, -0.0523, -0.0015,  0.0041,  0.0037, -0.0015, -0.0021,\n",
       "                      -0.0016, -0.0043, -0.0004, -0.0024, -0.0025,  0.0012, -0.0054, -0.0045,\n",
       "                       0.1014, -0.0009, -0.0041, -0.0415, -0.0014,  0.0041, -0.1533,  0.0015,\n",
       "                      -0.0056, -0.1269,  0.0013, -0.0046, -0.0005, -0.0004, -0.0012, -0.0006])),\n",
       "             ('fc1.weight',\n",
       "              tensor([[ 2.2321e-03,  1.5890e-03,  1.5523e-03,  ..., -3.3203e-04,\n",
       "                        3.0282e-03,  1.8248e-03],\n",
       "                      [ 1.9667e-02,  1.0941e-02,  9.8407e-03,  ..., -3.1459e-02,\n",
       "                       -2.1540e-02, -2.4389e-02],\n",
       "                      [ 3.9750e-04,  3.4236e-04, -4.5197e-05,  ..., -3.5818e-04,\n",
       "                        9.0951e-06, -7.3619e-04],\n",
       "                      ...,\n",
       "                      [ 1.9527e-05,  8.4336e-05,  7.4950e-05,  ..., -9.0393e-05,\n",
       "                       -8.8857e-05, -1.0263e-04],\n",
       "                      [ 1.0435e-02, -1.4849e-03, -1.1703e-02,  ..., -1.8061e-02,\n",
       "                       -9.6984e-04,  7.9766e-04],\n",
       "                      [ 1.3834e-05,  8.8061e-05, -1.4967e-05,  ...,  1.1985e-04,\n",
       "                       -1.4084e-04, -2.1810e-04]])),\n",
       "             ('fc1.bias',\n",
       "              tensor([-0.0927, -0.1856, -0.0543, -0.5138, -0.0740, -0.4756, -0.0267, -0.2104,\n",
       "                      -0.0542, -0.2124, -0.0606, -0.1638, -0.1097, -0.3806, -0.2413,  0.1221,\n",
       "                      -0.1535, -0.8066,  0.0121, -0.2093, -0.2702, -0.2573, -0.1963, -0.4805,\n",
       "                      -0.0947, -0.2690, -0.0919, -0.3652, -0.2256, -0.2850, -0.2494, -0.0424,\n",
       "                      -0.0757, -0.0794, -0.4181, -0.5531, -0.1984, -0.2429, -0.5302, -0.0990,\n",
       "                      -0.3043, -0.3433, -0.8163, -0.0520, -0.3096, -0.0206, -0.2035, -0.4010,\n",
       "                      -0.0524, -0.0872, -0.2780, -0.9662, -0.1009, -0.0836, -0.2662, -0.2399,\n",
       "                      -0.0602, -0.0741, -0.0915, -0.1357, -0.5232, -0.1081, -0.0839, -0.1227,\n",
       "                      -0.0560,  0.3448, -0.1884, -0.2189, -0.4613, -0.3931, -0.3066, -0.3143,\n",
       "                      -0.0852, -0.1260, -0.2487, -0.3996, -0.7849, -0.0848, -0.1792, -0.5405,\n",
       "                      -0.4514, -0.1574, -0.0980, -0.1994, -0.0493, -0.2335, -0.2272, -0.4207,\n",
       "                      -0.2641, -0.1031, -0.0778, -0.5895, -0.0763, -0.1874, -0.0872, -0.5214,\n",
       "                      -0.1286, -0.3965, -0.3271, -0.2246, -0.0617, -0.4583,  0.3000, -0.1159,\n",
       "                      -0.0573, -0.1978, -0.9085, -0.2829, -0.2325, -0.3802,  0.0574, -0.0849,\n",
       "                      -0.4452, -0.1218, -0.0473, -0.2184, -0.5760, -0.7122,  0.0637, -0.0739,\n",
       "                      -0.0880, -0.3136, -0.0831, -0.2259, -0.2710, -0.4705, -0.1600, -0.0396,\n",
       "                      -0.2323, -0.3081, -0.2258, -0.0906, -0.0377, -0.0491,  0.4973, -0.7878,\n",
       "                      -0.0651, -0.0800, -0.0968,  0.1131,  0.0340, -0.1480, -0.2452, -0.2374,\n",
       "                      -0.3832, -0.3369, -0.0873, -0.2919, -0.1692, -0.2331, -0.3828, -0.4106,\n",
       "                      -0.3953, -0.2882, -0.2072, -0.1131, -0.3183, -0.0716, -0.2230, -0.0464,\n",
       "                      -0.1122, -0.0831, -0.2061, -0.3337, -0.1064, -0.4900, -0.4275,  0.4534,\n",
       "                      -0.5385, -0.0930, -0.0873, -0.5206, -0.1607, -0.5807, -0.0877, -0.1646,\n",
       "                      -0.5586, -0.5415, -0.2158, -0.2343, -0.1264, -0.0748,  0.0520, -0.4184,\n",
       "                      -0.1811, -0.2794, -0.1287, -0.3425, -0.0294,  0.1025, -0.0704, -0.1179,\n",
       "                      -0.8828, -0.5684, -0.0626, -0.1170, -0.1663, -0.1171, -0.2478, -0.1061,\n",
       "                      -0.1037, -0.4162, -0.2047, -0.1196, -0.4411,  0.2724, -0.0653, -0.1085,\n",
       "                      -0.2253, -0.3023, -0.1237, -0.6008, -0.3264, -0.1097, -0.0476, -0.0684,\n",
       "                       0.0522, -0.3219, -0.4471, -0.3585, -0.8472, -0.0215, -0.2425, -0.1998,\n",
       "                      -0.2197, -0.1061, -0.0837, -0.1311, -0.1877,  0.0288, -0.1441, -0.2133,\n",
       "                      -0.4271, -0.1860, -0.1430, -0.1087, -0.3740, -0.0482, -0.3764, -0.0951,\n",
       "                      -0.2279, -0.2140, -0.5018, -0.1202, -0.2199, -0.3186, -0.2951,  0.0104,\n",
       "                      -0.1481, -0.1003, -0.6315, -0.0680, -0.0705, -0.0324, -0.3871, -0.0695])),\n",
       "             ('fc2.weight',\n",
       "              tensor([[ 2.4181e-03,  9.4803e-02, -1.4608e-02,  ...,  4.3846e-04,\n",
       "                       -7.4206e-02,  1.6470e-03],\n",
       "                      [-1.3165e-02, -1.6433e-01, -3.8267e-03,  ...,  4.1128e-03,\n",
       "                        1.7988e-01,  2.0902e-02],\n",
       "                      [ 1.1028e-02, -2.5783e-01,  4.0221e-03,  ...,  4.0740e-05,\n",
       "                       -1.6671e-01,  4.7803e-03],\n",
       "                      ...,\n",
       "                      [ 1.3603e-02,  6.6378e-02, -3.8084e-04,  ...,  6.9498e-03,\n",
       "                       -4.4009e-02, -1.0951e-03],\n",
       "                      [-1.0222e-02,  3.1558e-02,  3.2352e-02,  ..., -3.3977e-03,\n",
       "                        5.1457e-02, -3.7486e-03],\n",
       "                      [-4.0138e-02,  6.4048e-02,  3.4578e-03,  ...,  1.2295e-02,\n",
       "                       -2.3689e-01, -1.4577e-02]])),\n",
       "             ('fc2.bias',\n",
       "              tensor([-0.2580,  1.1486,  0.2704, -0.1680,  0.0115,  0.0857,  0.1272, -0.2549,\n",
       "                      -0.3004,  0.1374,  0.0360, -0.0343, -0.0489, -0.1950,  0.2588, -0.0138,\n",
       "                       0.0926,  0.0681,  0.3354, -0.0463,  0.0231, -0.1705, -0.1997,  0.4152,\n",
       "                       0.2198, -0.0241, -0.2453, -0.0210,  0.0316,  0.2448,  0.4060,  0.1198,\n",
       "                      -0.0314,  0.2354, -0.0707,  0.2438,  0.1246, -0.2332,  0.0321, -0.6045,\n",
       "                       0.0779,  0.4804,  0.3554, -0.1071,  0.4137, -0.0776,  0.5609,  0.2382,\n",
       "                       0.0198, -0.1160, -0.0815, -0.2447,  0.2229,  0.1716,  0.0935,  0.2289,\n",
       "                       0.2761,  0.1471, -0.0427, -0.2135, -0.0752,  0.0495, -0.3740,  0.1755])),\n",
       "             ('fc3.weight',\n",
       "              tensor([[-1.7362e-01, -1.3340e-01,  1.7863e-01,  1.8321e-01, -1.5087e-01,\n",
       "                        2.6651e-01,  3.5720e-01, -1.7406e-01,  1.7175e-02,  2.3391e-02,\n",
       "                        3.7320e-01, -1.6757e-01,  1.4212e-01,  2.8592e-01,  3.2574e-01,\n",
       "                       -1.1943e-01,  1.8552e-01, -2.4443e-01, -1.5347e-01,  2.1884e-01,\n",
       "                       -1.7357e-02,  3.9027e-01, -1.0363e-01,  1.2110e-01, -2.0131e-01,\n",
       "                       -1.0164e-01, -1.9852e-01,  1.1176e-01, -1.3543e-01, -6.7224e-02,\n",
       "                        1.5932e-01,  8.1503e-02,  4.0369e-01,  1.3325e-01,  2.3906e-01,\n",
       "                       -1.4100e-01,  9.1934e-02,  2.7156e-01, -1.9178e-01, -1.3108e-01,\n",
       "                        1.9635e-01,  1.3013e-01,  8.2650e-02, -9.7428e-02, -2.1170e-01,\n",
       "                        5.9614e-02, -2.0188e-02, -2.5775e-01,  1.3217e-01,  3.2539e-01,\n",
       "                       -3.8268e-01,  1.4765e-01, -3.5533e-03,  1.1313e-01, -2.2004e-01,\n",
       "                       -2.2184e-01, -2.2705e-01, -1.5368e-01, -6.4556e-02,  3.6475e-02,\n",
       "                        4.4962e-01, -3.4301e-01,  2.2626e-01, -6.6985e-02],\n",
       "                      [-1.6080e-01, -1.3953e-01,  1.8828e-01,  1.8164e-01, -1.7129e-01,\n",
       "                        1.4313e-01,  4.0016e-01, -1.6105e-01,  1.2822e-02,  1.2896e-02,\n",
       "                        2.4659e-01, -2.2136e-01,  9.8431e-02,  2.8879e-01,  3.1483e-01,\n",
       "                       -6.8914e-02,  1.0029e-01, -2.3103e-01, -1.6081e-01,  2.4139e-01,\n",
       "                       -3.0488e-02,  3.7467e-01, -9.1157e-02,  1.1463e-01, -1.9637e-01,\n",
       "                       -1.2888e-01, -1.3040e-01,  1.5461e-01, -1.7354e-01, -2.8460e-02,\n",
       "                        1.7628e-01,  9.2993e-02,  3.6765e-01,  1.5232e-01,  2.5304e-01,\n",
       "                       -1.6527e-01,  9.3818e-02,  1.6520e-01, -1.3340e-01, -1.5495e-01,\n",
       "                        2.0631e-01,  1.3139e-01,  8.2674e-02, -1.6791e-03, -2.5501e-01,\n",
       "                        2.8618e-02, -8.8966e-03, -9.8149e-02,  2.9030e-01,  3.2248e-01,\n",
       "                       -3.3463e-01,  1.0918e-01, -7.7754e-02,  1.5356e-02, -2.2906e-01,\n",
       "                       -2.2053e-01, -2.1569e-01, -8.8477e-02,  1.3221e-02, -1.9311e-02,\n",
       "                        4.6407e-01, -3.0613e-01,  2.2006e-01, -6.0698e-02],\n",
       "                      [-1.3773e-01, -1.3471e-01,  1.6588e-01,  1.6766e-01, -1.6882e-01,\n",
       "                        1.3458e-02,  4.0922e-01, -1.4219e-01, -2.0009e-02,  5.4310e-03,\n",
       "                        7.3073e-02, -2.3152e-01,  3.3456e-02,  2.8016e-01,  2.8305e-01,\n",
       "                       -6.9136e-03, -2.0839e-02, -2.0778e-01, -1.5452e-01,  2.4579e-01,\n",
       "                       -3.8668e-03,  3.5415e-01, -7.2776e-02,  1.0068e-01, -1.7611e-01,\n",
       "                       -1.3527e-01, -1.7634e-02,  1.1570e-01, -2.1837e-01,  6.0291e-02,\n",
       "                        1.7940e-01,  1.0296e-01,  2.8680e-01,  2.0830e-01,  2.3237e-01,\n",
       "                       -1.7705e-01,  7.8248e-02, -7.1097e-03, -2.0948e-02, -1.6619e-01,\n",
       "                        2.0923e-01,  1.2370e-01,  8.5323e-02,  1.1997e-01, -2.9919e-01,\n",
       "                       -2.2390e-02, -4.4413e-04,  1.0443e-01,  4.6384e-01,  2.9294e-01,\n",
       "                       -2.1585e-01, -1.4423e-02, -1.5723e-01, -1.0715e-01, -2.2509e-01,\n",
       "                       -2.0881e-01, -1.9819e-01,  2.9805e-02,  1.0632e-01, -4.5101e-02,\n",
       "                        4.2456e-01, -2.3587e-01,  1.8895e-01, -3.1628e-02],\n",
       "                      [-1.0943e-01, -1.2128e-01,  1.3781e-01,  1.4297e-01, -1.5694e-01,\n",
       "                       -5.6819e-02,  3.5226e-01, -1.2167e-01, -7.9647e-02,  6.6681e-03,\n",
       "                       -8.5302e-02, -1.7321e-01, -2.8504e-02,  2.5246e-01,  2.4804e-01,\n",
       "                        4.2751e-02, -1.2749e-01, -1.8426e-01, -1.4042e-01,  2.2365e-01,\n",
       "                        7.9953e-02,  3.0391e-01, -6.3336e-03,  8.5114e-02, -1.5862e-01,\n",
       "                       -1.1231e-01,  8.2618e-02, -7.7638e-03, -2.1907e-01,  1.7344e-01,\n",
       "                        1.7232e-01,  1.0715e-01,  1.7121e-01,  2.5369e-01,  1.9363e-01,\n",
       "                       -1.7251e-01,  1.3432e-02, -1.6642e-01,  1.3098e-01, -1.5909e-01,\n",
       "                        1.9934e-01,  1.1274e-01,  8.3469e-02,  1.6325e-01, -3.3037e-01,\n",
       "                       -8.2276e-02,  8.8078e-03,  2.1749e-01,  5.8873e-01,  2.4725e-01,\n",
       "                       -4.7705e-02, -1.5656e-01, -2.0877e-01, -1.5351e-01, -2.2162e-01,\n",
       "                       -1.8552e-01, -1.8056e-01,  1.3046e-01,  1.4262e-01,  1.0864e-02,\n",
       "                        3.4171e-01, -1.3329e-01,  1.3249e-01,  5.9419e-02],\n",
       "                      [-7.8724e-02, -1.0097e-01,  9.5409e-02,  1.0574e-01, -1.3551e-01,\n",
       "                       -7.1894e-02,  2.5547e-01, -1.0749e-01, -1.7571e-01,  1.6235e-02,\n",
       "                       -1.6245e-01, -8.1504e-02, -6.7062e-02,  2.1150e-01,  2.0127e-01,\n",
       "                        7.7468e-02, -1.7939e-01, -1.6240e-01, -1.2179e-01,  1.9213e-01,\n",
       "                        1.9087e-01,  2.3097e-01,  8.9607e-02,  6.7079e-02, -1.4121e-01,\n",
       "                       -7.6928e-02,  1.4224e-01, -1.2893e-01, -1.7350e-01,  3.1239e-01,\n",
       "                        1.5751e-01,  9.8468e-02,  6.5685e-02,  2.7903e-01,  1.4327e-01,\n",
       "                       -1.6063e-01, -6.0634e-02, -2.5988e-01,  2.3099e-01, -1.4239e-01,\n",
       "                        1.7420e-01,  9.6326e-02,  8.0354e-02,  6.7517e-02, -3.3263e-01,\n",
       "                       -4.2906e-02,  2.2730e-02,  2.2510e-01,  5.7537e-01,  1.8786e-01,\n",
       "                        1.2347e-01, -1.2598e-01, -2.2733e-01, -8.0387e-02, -1.9834e-01,\n",
       "                       -1.4904e-01, -1.5209e-01,  1.5649e-01,  6.9836e-02,  1.3238e-01,\n",
       "                        2.2949e-01, -2.5906e-02,  6.1686e-02,  1.7327e-01],\n",
       "                      [-5.4843e-02, -7.9178e-02,  5.6010e-02,  5.0923e-02, -1.1265e-01,\n",
       "                       -7.0894e-02,  1.4983e-01, -9.0342e-02, -2.5484e-01,  3.4417e-02,\n",
       "                       -1.4384e-01, -2.8030e-02, -7.8536e-02,  1.6394e-01,  1.5268e-01,\n",
       "                        8.9282e-02, -1.9519e-01, -1.4484e-01, -9.0601e-02,  1.6037e-01,\n",
       "                        2.5009e-01,  1.3971e-01,  1.3356e-01,  4.7010e-02, -1.1793e-01,\n",
       "                       -4.7735e-02,  1.4866e-01, -1.1451e-01, -9.4767e-02,  3.7636e-01,\n",
       "                        1.1625e-01,  8.2379e-02,  1.3442e-02,  2.7432e-01,  7.3654e-02,\n",
       "                       -1.3553e-01, -1.3448e-01, -2.6349e-01,  2.7734e-01, -1.1623e-01,\n",
       "                        1.4268e-01,  7.2156e-02,  7.4328e-02, -8.6580e-02, -2.9280e-01,\n",
       "                        1.1127e-01,  4.8866e-02,  1.4874e-01,  4.8171e-01,  1.3045e-01,\n",
       "                        2.2701e-01,  6.2703e-02, -2.0625e-01,  7.4969e-02, -1.6639e-01,\n",
       "                       -1.2359e-01, -1.1143e-01,  1.1954e-01, -8.0057e-02,  2.2189e-01,\n",
       "                        1.5630e-01,  3.3459e-02,  6.1199e-03,  2.3030e-01],\n",
       "                      [-1.9378e-02, -5.5503e-02,  3.7797e-02,  1.4754e-02, -6.7259e-02,\n",
       "                       -6.2363e-02,  6.3881e-02, -6.0971e-02, -2.4159e-01,  5.5135e-02,\n",
       "                       -9.5988e-02,  1.7968e-02, -6.3962e-02,  1.0675e-01,  8.1683e-02,\n",
       "                        7.7976e-02, -1.9785e-01, -1.2168e-01, -5.5722e-02,  1.1905e-01,\n",
       "                        2.2264e-01,  5.7754e-02,  7.7763e-02,  2.7375e-02, -8.1844e-02,\n",
       "                       -2.7992e-02,  1.1429e-01,  3.8822e-03, -1.7154e-02,  3.3369e-01,\n",
       "                        8.1273e-02,  6.0370e-02,  1.0260e-02,  2.3182e-01,  3.1897e-02,\n",
       "                       -1.0584e-01, -1.8768e-01, -2.0260e-01,  2.7154e-01, -7.4078e-02,\n",
       "                        1.0215e-01,  4.1684e-02,  6.5794e-02, -1.6378e-01, -2.2122e-01,\n",
       "                        2.4643e-01,  8.7522e-02,  4.1832e-02,  3.2302e-01,  7.0595e-02,\n",
       "                        2.3863e-01,  2.3556e-01, -1.7553e-01,  2.0108e-01, -1.2265e-01,\n",
       "                       -9.4485e-02, -7.2074e-02,  3.1452e-02, -1.8635e-01,  2.2977e-01,\n",
       "                        1.0648e-01,  4.2134e-02, -9.6946e-03,  2.0351e-01],\n",
       "                      [ 8.7480e-03, -3.1114e-02,  1.1864e-02,  1.7319e-02, -2.6715e-02,\n",
       "                       -3.9954e-02,  2.1878e-02, -3.2480e-02, -1.3736e-01,  8.2855e-02,\n",
       "                       -3.9788e-02,  4.5960e-02, -4.0845e-02,  5.9113e-02,  1.0536e-02,\n",
       "                        5.9321e-02, -1.5035e-01, -7.5807e-02, -2.4325e-02,  6.7840e-02,\n",
       "                        1.5293e-01,  1.8462e-02, -2.6523e-03,  1.2790e-02, -4.3069e-02,\n",
       "                       -1.8108e-02,  6.8266e-02,  1.1902e-01,  1.8514e-02,  2.2239e-01,\n",
       "                        5.0845e-02,  3.5850e-02,  1.0032e-02,  1.5856e-01,  1.4683e-03,\n",
       "                       -7.0278e-02, -1.7328e-01, -1.0096e-01,  2.0848e-01, -2.8718e-02,\n",
       "                        4.8004e-02,  1.7198e-02,  5.2371e-02, -1.3862e-01, -1.2786e-01,\n",
       "                        2.0060e-01,  1.1855e-01, -2.2044e-03,  1.3253e-01,  2.8183e-02,\n",
       "                        1.7872e-01,  2.6447e-01, -1.0970e-01,  2.1116e-01, -7.1171e-02,\n",
       "                       -5.5332e-02, -4.9155e-02, -3.6646e-02, -1.6890e-01,  1.2105e-01,\n",
       "                        6.0717e-02,  2.4878e-02, -1.6367e-02,  1.2052e-01],\n",
       "                      [ 1.7707e-02, -1.0019e-02, -1.3189e-02,  1.1907e-02, -4.8253e-03,\n",
       "                       -1.4727e-02,  9.3501e-03, -1.3255e-02, -3.7650e-02,  1.3427e-01,\n",
       "                       -1.0098e-02,  2.7827e-02, -1.5159e-02,  9.1223e-03, -1.1779e-02,\n",
       "                        2.6337e-02, -4.2509e-02, -3.0466e-02, -6.5317e-03,  2.5787e-02,\n",
       "                        7.0181e-02,  1.4886e-02, -2.9463e-02, -2.1921e-03, -1.0259e-02,\n",
       "                       -1.5000e-02,  2.4627e-02,  1.1372e-01,  8.3703e-03,  7.3634e-02,\n",
       "                        1.5836e-02,  1.2055e-02,  2.5646e-03,  5.5991e-02, -2.9632e-03,\n",
       "                       -3.0627e-02, -9.6940e-02, -1.5899e-02,  9.1387e-02, -7.1461e-03,\n",
       "                        7.2067e-03,  1.7482e-03,  2.6498e-02, -5.8235e-02, -3.2487e-02,\n",
       "                        5.2950e-02,  9.4884e-02, -1.3888e-02,  1.4588e-02,  8.8822e-03,\n",
       "                        7.8668e-02,  1.2072e-01, -2.1768e-02,  1.0274e-01, -2.3184e-02,\n",
       "                       -1.3752e-02, -2.3064e-02, -2.3555e-02, -5.9618e-02,  1.5552e-02,\n",
       "                        1.3135e-02, -7.4183e-03, -1.7427e-02,  2.2720e-02],\n",
       "                      [ 2.5651e-04, -7.2880e-03,  5.8106e-04,  8.4160e-03, -1.0574e-02,\n",
       "                        2.2064e-03, -8.5863e-04,  1.9890e-03, -7.2334e-04,  1.9805e-01,\n",
       "                       -7.8693e-03, -1.1803e-04,  4.2637e-03, -3.6826e-03,  4.9304e-03,\n",
       "                       -3.0095e-03, -9.4250e-03,  8.0554e-03, -1.7279e-03,  7.2931e-04,\n",
       "                        6.8424e-04, -1.0916e-03,  2.4683e-03, -2.8181e-03,  1.1409e-02,\n",
       "                        1.0727e-02,  2.0180e-03,  7.4122e-03,  1.4925e-03,  9.0565e-03,\n",
       "                        3.0617e-03, -3.1424e-03, -1.3886e-04, -1.8467e-03,  3.5492e-03,\n",
       "                        1.5353e-03, -4.2888e-03,  7.7831e-03, -4.3341e-03, -5.2073e-03,\n",
       "                       -1.4037e-03, -2.4228e-03, -2.7399e-03,  1.1593e-02,  9.6371e-03,\n",
       "                       -1.6886e-02, -1.3604e-02, -1.5126e-03,  1.2615e-03, -2.4131e-03,\n",
       "                        1.4745e-02, -8.0020e-03, -4.3834e-03, -2.2554e-03,  1.4971e-02,\n",
       "                        8.6418e-03,  4.3477e-03, -1.0276e-03,  7.3011e-04, -3.3223e-04,\n",
       "                       -5.5561e-03, -1.3833e-02, -4.2586e-03, -4.1528e-03]])),\n",
       "             ('fc3.bias',\n",
       "              tensor([0.2876, 0.2932, 0.2848, 0.2605, 0.2241, 0.1780, 0.1267, 0.0703, 0.0222,\n",
       "                      0.0112])),\n",
       "             ('convolutions.0.weight',\n",
       "              tensor([[[-8.1744e-02, -1.7900e-02, -4.2454e-02, -7.2409e-02,  2.0614e-01],\n",
       "                       [-1.3506e-01, -1.0653e-01,  1.5693e-02,  9.2621e-02,  1.1218e-01],\n",
       "                       [ 1.2766e-02, -1.9916e-03, -1.1625e-01, -1.5355e-01,  2.4634e-01],\n",
       "                       [-2.4966e-02, -1.6224e-02,  2.3258e-03,  1.6022e-02,  2.3933e-02],\n",
       "                       [-2.6084e-02, -3.5043e-02,  5.5017e-03, -4.8033e-02,  1.8157e-02]],\n",
       "              \n",
       "                      [[ 1.0889e+00,  1.1501e+00,  8.2773e-02, -9.0991e-01, -1.4717e+00],\n",
       "                       [-4.8061e-02, -2.5630e-01, -1.2328e-01,  6.6861e-02,  2.7258e-01],\n",
       "                       [-1.6483e-01,  7.9645e-03,  5.4228e-02,  2.1428e-01, -1.2672e-01],\n",
       "                       [ 3.0293e-02,  2.3756e-03, -1.7295e-02, -3.6263e-02, -4.3474e-02],\n",
       "                       [-1.9742e-02,  4.2051e-02, -1.0715e-02, -5.6799e-03,  6.3125e-02]],\n",
       "              \n",
       "                      [[ 1.2821e-01,  2.1760e-01,  2.9326e-01,  2.8007e-01,  1.2798e-01],\n",
       "                       [ 2.1765e-01,  2.2887e-01,  1.8095e-01,  2.7970e-01,  4.6341e-01],\n",
       "                       [-9.0836e-01, -9.6329e-01, -1.5733e-01,  9.1429e-01,  1.2651e+00],\n",
       "                       [ 6.3391e-02, -8.1371e-02, -1.1672e-01,  1.2403e-01,  1.4549e-01],\n",
       "                       [-4.2091e-01, -2.3487e-01, -5.2842e-01, -3.9935e-01, -3.1408e-01]],\n",
       "              \n",
       "                      [[ 2.0258e-01,  2.8512e-01,  2.6997e-01,  1.9638e-01,  3.0992e-01],\n",
       "                       [ 1.5507e-01, -6.6764e-04, -1.9374e-01,  1.0422e-01, -2.3386e-01],\n",
       "                       [-9.0975e-02,  3.8979e-03,  1.2119e-01, -3.2560e-03,  4.6848e-01],\n",
       "                       [-1.7639e-01,  1.3122e-01,  2.1595e-01,  1.4016e-01,  4.4985e-01],\n",
       "                       [-5.2923e-02, -1.0244e-01, -2.1061e-01,  2.4293e-02, -2.1329e-01]],\n",
       "              \n",
       "                      [[ 4.7837e-01,  4.9112e-01, -1.5780e-01, -5.9231e-01, -2.0555e-01],\n",
       "                       [ 6.2473e-02,  9.3956e-03,  7.0793e-02,  8.0057e-02, -2.3753e-01],\n",
       "                       [ 1.7578e-01,  3.9333e-02, -5.5368e-02, -1.2134e-01, -4.3469e-02],\n",
       "                       [-2.1512e-02, -1.7370e-02, -4.4792e-04,  5.7878e-03,  8.1244e-03],\n",
       "                       [-2.0875e-02,  1.9557e-02, -1.5971e-02,  1.6350e-02, -3.4811e-02]],\n",
       "              \n",
       "                      [[ 4.2661e-02, -4.3157e-02, -1.9661e-01, -1.4273e-01,  3.1219e-01],\n",
       "                       [ 1.6626e-01,  8.9327e-02,  2.3757e-02, -2.6670e-02, -2.5313e-01],\n",
       "                       [ 1.5953e-01, -1.0519e-05, -1.2257e-01, -1.8316e-01,  1.6143e-01],\n",
       "                       [-4.6277e-02, -2.5672e-02, -4.4528e-04,  1.4910e-02,  3.9650e-02],\n",
       "                       [ 4.2018e-02, -2.1759e-02, -2.7753e-02,  3.6574e-02, -6.8654e-02]],\n",
       "              \n",
       "                      [[-5.8914e-01, -5.5349e-01, -8.1999e-01, -8.9741e-01, -7.6798e-01],\n",
       "                       [-7.9564e-02, -1.6942e-01, -1.9603e-01, -1.7285e-01, -1.6055e-01],\n",
       "                       [ 5.7984e-01,  7.6591e-01,  3.3631e-01, -5.5621e-02, -4.6854e-01],\n",
       "                       [-2.5171e-02, -2.5645e-01, -2.4291e-01, -5.0404e-02, -1.6970e-01],\n",
       "                       [ 4.5957e-01,  4.9702e-01,  4.9315e-01,  4.9663e-01,  4.2434e-01]],\n",
       "              \n",
       "                      [[ 2.1198e-01,  3.8227e-01,  3.1860e-01,  3.0501e-01,  6.8646e-02],\n",
       "                       [-4.7573e-02,  2.1144e-01,  9.8900e-03,  3.0300e-01,  1.8311e-01],\n",
       "                       [ 9.5200e-01,  7.4944e-01,  1.4677e-01, -6.2580e-01, -1.2806e+00],\n",
       "                       [ 3.0415e-02, -3.6741e-02,  3.4299e-02,  3.9001e-02, -2.1489e-03],\n",
       "                       [-1.7685e-01, -1.4344e-01, -2.7681e-01, -3.2226e-01, -2.4682e-01]],\n",
       "              \n",
       "                      [[-1.0518e-02,  3.1640e-03,  1.8787e-02,  3.1050e-02, -3.6132e-02],\n",
       "                       [ 1.2257e-01,  5.7568e-02, -6.7842e-02, -8.5859e-02, -1.6204e-02],\n",
       "                       [-1.0561e-02, -3.3260e-05,  4.4191e-02,  2.5474e-02, -4.1711e-02],\n",
       "                       [ 2.5351e-03, -2.5306e-04, -2.1956e-03, -3.1916e-03, -3.0530e-03],\n",
       "                       [-1.2394e-02,  2.0652e-03, -5.0837e-03,  7.9759e-03, -9.4228e-03]],\n",
       "              \n",
       "                      [[ 5.8010e-02, -1.5404e-01,  4.4761e-02, -1.6215e-01, -1.9945e-01],\n",
       "                       [-5.2248e-01, -3.8141e-01, -5.9286e-01, -4.0244e-01, -5.3304e-01],\n",
       "                       [ 3.5829e-02, -2.4125e-01, -2.7840e-01, -4.8612e-01, -4.7440e-01],\n",
       "                       [ 1.7936e-01, -4.3600e-02,  1.8110e-01, -7.3402e-02, -1.0210e-02],\n",
       "                       [ 3.6315e-01,  6.6117e-01,  6.1969e-01,  4.4124e-01,  6.6895e-01]],\n",
       "              \n",
       "                      [[-1.8064e-01, -1.4431e-01,  2.8181e-02,  2.0554e-01,  5.2868e-02],\n",
       "                       [-2.6751e-01, -1.5929e-01, -4.8396e-02,  1.0345e-01,  3.4414e-01],\n",
       "                       [-1.0558e-01, -1.4554e-03,  4.2508e-02,  3.4355e-02,  6.0932e-03],\n",
       "                       [ 1.0714e-03, -3.3473e-03, -7.8430e-03, -8.6983e-03, -2.5876e-03],\n",
       "                       [-1.7234e-02, -7.9771e-03, -6.6677e-03, -2.3715e-02,  3.5674e-02]],\n",
       "              \n",
       "                      [[ 3.8322e-02,  1.7593e-01,  2.2174e-01,  2.5758e-01,  5.4786e-01],\n",
       "                       [ 2.6468e-01,  4.2542e-01,  4.7448e-01,  3.4784e-01, -1.7798e-01],\n",
       "                       [-8.2398e-01, -6.0094e-01, -1.6005e-04,  6.2123e-01,  9.8399e-01],\n",
       "                       [ 7.5273e-02, -7.3523e-02, -4.6775e-02,  7.1602e-02,  8.4312e-02],\n",
       "                       [-4.0027e-01, -3.2980e-01, -3.1708e-01, -2.1770e-01, -5.0416e-01]],\n",
       "              \n",
       "                      [[ 1.0422e+00,  9.4394e-01, -1.1146e-01, -1.0051e+00, -8.7714e-01],\n",
       "                       [-1.3076e-01, -1.5697e-01,  1.1997e-01,  2.2728e-01, -1.3376e-01],\n",
       "                       [-1.3063e-01,  2.3944e-03, -6.7452e-02,  6.2131e-02,  9.8823e-02],\n",
       "                       [-2.1808e-02, -2.2271e-02, -1.3029e-02, -6.3177e-03, -3.7804e-03],\n",
       "                       [-1.3574e-02, -2.1267e-03,  3.0710e-02, -2.4791e-02, -3.6438e-02]],\n",
       "              \n",
       "                      [[ 3.0885e-01,  3.9894e-01,  4.2233e-01,  5.5855e-01,  8.1952e-01],\n",
       "                       [-4.2249e-02, -4.5354e-03, -1.5509e-01, -1.0486e-01, -5.7948e-01],\n",
       "                       [ 2.3897e-01,  8.2458e-02, -4.0940e-02, -3.3025e-01,  1.5851e-01],\n",
       "                       [ 7.1880e-02, -4.5141e-02, -1.9267e-01, -2.4220e-01, -1.4484e-01],\n",
       "                       [ 5.7036e-03, -7.7737e-02, -1.8723e-01, -1.5199e-01, -5.5337e-02]],\n",
       "              \n",
       "                      [[-1.1765e+00, -1.6154e+00, -3.2094e-01,  1.1331e+00,  1.9094e+00],\n",
       "                       [ 1.1179e-01,  1.8198e-01,  5.7800e-02,  7.9499e-03, -3.9052e-01],\n",
       "                       [ 1.1723e-01,  1.4280e-01, -7.0113e-02, -2.4856e-01,  7.0697e-02],\n",
       "                       [-5.2620e-02, -1.8302e-02, -1.8286e-02,  2.1769e-03,  3.8474e-02],\n",
       "                       [ 2.5388e-02,  2.8030e-02, -5.0278e-02, -1.0622e-02, -8.8986e-02]],\n",
       "              \n",
       "                      [[ 2.5253e-01,  2.9928e-01,  4.9501e-02, -2.2684e-01, -4.0213e-01],\n",
       "                       [-8.2387e-02, -5.5340e-02, -1.1181e-02,  1.8273e-02,  8.7506e-02],\n",
       "                       [-4.2036e-02, -2.0358e-03, -1.3272e-02,  3.3009e-02,  5.4397e-03],\n",
       "                       [ 3.0334e-03, -4.0777e-03, -8.3729e-03, -1.0855e-02, -1.0658e-02],\n",
       "                       [-2.5417e-02,  2.3540e-02, -1.9997e-03,  3.1974e-02, -3.0428e-02]]])),\n",
       "             ('convolutions.0.bias',\n",
       "              tensor([ 0.0925,  0.0343,  0.1012,  0.0009,  0.0597,  0.0352, -0.0494, -0.0271,\n",
       "                      -0.0104, -0.1824,  0.0554, -0.0710,  0.1016,  0.2694,  0.1346,  0.0054])),\n",
       "             ('convolutions.2.weight',\n",
       "              tensor([[[-5.5384e-03,  2.7300e-03,  1.8503e-03,  3.4527e-03, -5.8732e-04],\n",
       "                       [-7.1736e-03, -1.2826e-03,  6.0129e-04,  7.9511e-05, -9.0031e-03],\n",
       "                       [-1.1975e-02,  1.5288e-03, -9.0918e-03, -8.0531e-03, -1.2605e-02],\n",
       "                       ...,\n",
       "                       [-2.4555e-03,  5.1350e-05,  5.7156e-04,  5.5186e-03,  1.1800e-02],\n",
       "                       [ 1.6093e-02, -2.5242e-02,  1.2738e-02, -1.3837e-02, -3.8389e-03],\n",
       "                       [ 4.9498e-03,  7.5541e-03,  7.5379e-03,  6.2457e-03,  3.4151e-03]],\n",
       "              \n",
       "                      [[ 6.4428e-02, -4.1432e-02, -3.5186e-02, -1.6749e-02,  3.6164e-02],\n",
       "                       [-4.2950e-01, -2.5925e-01,  1.2149e+00, -3.8788e-01, -1.2227e-01],\n",
       "                       [-4.9287e-02,  2.3598e-02, -1.1503e-01,  1.2217e-02,  3.3135e-02],\n",
       "                       ...,\n",
       "                       [-2.3846e-01,  9.2466e-02, -1.1483e-01, -2.2010e-02,  4.2042e-01],\n",
       "                       [ 5.2229e-01, -1.1850e-01, -6.8501e-01, -5.8386e-01,  1.0953e+00],\n",
       "                       [-9.6048e-02, -7.4677e-02,  3.2080e-01, -1.0909e-01, -3.2688e-02]],\n",
       "              \n",
       "                      [[-4.3703e-02,  2.3191e-02, -8.2825e-02, -2.7549e-02,  1.2525e-01],\n",
       "                       [ 6.5567e-01, -6.6636e-01, -4.4759e-01,  1.4089e+00, -9.1025e-01],\n",
       "                       [-1.4899e-02, -7.9888e-02,  8.1588e-02, -1.9186e-02,  9.1459e-03],\n",
       "                       ...,\n",
       "                       [-7.2663e-02,  1.6300e-01,  1.7390e-01, -1.1283e-01,  1.3801e-01],\n",
       "                       [-1.1914e+00,  1.7173e+00, -4.2601e-01, -1.0208e+00,  9.1094e-01],\n",
       "                       [ 1.6411e-01, -1.8864e-01, -9.9694e-02,  3.6729e-01, -2.1950e-01]],\n",
       "              \n",
       "                      ...,\n",
       "              \n",
       "                      [[-1.0325e-02,  1.5295e-04, -6.4951e-03, -8.3148e-03,  3.5102e-03],\n",
       "                       [-1.3583e-02, -1.6965e-02, -1.8398e-02, -8.0125e-03,  7.5662e-05],\n",
       "                       [ 9.1266e-03, -1.9298e-02, -1.3578e-03, -9.6986e-03,  2.1843e-02],\n",
       "                       ...,\n",
       "                       [-4.6546e-04,  4.8055e-04,  1.5174e-03,  9.4433e-03,  6.2033e-03],\n",
       "                       [ 4.7197e-03,  1.1561e-02,  8.1227e-03,  2.2122e-02, -1.0875e-02],\n",
       "                       [-1.2679e-03, -5.1283e-04, -2.2025e-03, -2.0243e-03,  2.2080e-03]],\n",
       "              \n",
       "                      [[-1.3083e-02, -9.0307e-03, -1.1239e-02, -1.3288e-02, -1.0234e-02],\n",
       "                       [ 3.2944e-03, -1.8208e-02, -7.3692e-03, -2.1014e-03,  1.0585e-02],\n",
       "                       [-1.4489e-02,  1.2233e-02, -2.5142e-02, -5.1213e-03, -6.6117e-03],\n",
       "                       ...,\n",
       "                       [-1.0861e-02, -1.3793e-02, -3.8829e-03,  7.5521e-03,  3.2651e-03],\n",
       "                       [-2.6094e-02, -6.4431e-03, -1.1904e-02, -4.9849e-03, -2.7792e-02],\n",
       "                       [ 6.3387e-03,  1.2460e-03,  2.5528e-03,  3.6153e-03,  7.3768e-03]],\n",
       "              \n",
       "                      [[-2.6225e-03, -1.0514e-03,  7.8389e-03,  5.5865e-03,  2.1920e-03],\n",
       "                       [-1.4870e-02,  8.7967e-03, -4.6296e-03, -6.3908e-03,  3.6314e-03],\n",
       "                       [-2.9059e-03, -1.9339e-02, -2.1910e-04,  7.5834e-03, -1.4158e-03],\n",
       "                       ...,\n",
       "                       [-7.0592e-03,  1.0529e-03,  1.8311e-03,  9.0037e-03,  1.2706e-02],\n",
       "                       [ 1.0874e-02,  1.2869e-02,  1.5410e-02,  1.5606e-02,  2.3584e-02],\n",
       "                       [-2.0854e-03,  2.7740e-03,  8.4877e-04,  7.0238e-04,  2.7336e-03]]])),\n",
       "             ('convolutions.2.bias',\n",
       "              tensor([-0.0048, -0.0350, -0.0523, -0.0015,  0.0041,  0.0037, -0.0015, -0.0021,\n",
       "                      -0.0016, -0.0043, -0.0004, -0.0024, -0.0025,  0.0012, -0.0054, -0.0045,\n",
       "                       0.1014, -0.0009, -0.0041, -0.0415, -0.0014,  0.0041, -0.1533,  0.0015,\n",
       "                      -0.0056, -0.1269,  0.0013, -0.0046, -0.0005, -0.0004, -0.0012, -0.0006])),\n",
       "             ('linears.0.weight',\n",
       "              tensor([[ 2.2321e-03,  1.5890e-03,  1.5523e-03,  ..., -3.3203e-04,\n",
       "                        3.0282e-03,  1.8248e-03],\n",
       "                      [ 1.9667e-02,  1.0941e-02,  9.8407e-03,  ..., -3.1459e-02,\n",
       "                       -2.1540e-02, -2.4389e-02],\n",
       "                      [ 3.9750e-04,  3.4236e-04, -4.5197e-05,  ..., -3.5818e-04,\n",
       "                        9.0951e-06, -7.3619e-04],\n",
       "                      ...,\n",
       "                      [ 1.9527e-05,  8.4336e-05,  7.4950e-05,  ..., -9.0393e-05,\n",
       "                       -8.8857e-05, -1.0263e-04],\n",
       "                      [ 1.0435e-02, -1.4849e-03, -1.1703e-02,  ..., -1.8061e-02,\n",
       "                       -9.6984e-04,  7.9766e-04],\n",
       "                      [ 1.3834e-05,  8.8061e-05, -1.4967e-05,  ...,  1.1985e-04,\n",
       "                       -1.4084e-04, -2.1810e-04]])),\n",
       "             ('linears.0.bias',\n",
       "              tensor([-0.0927, -0.1856, -0.0543, -0.5138, -0.0740, -0.4756, -0.0267, -0.2104,\n",
       "                      -0.0542, -0.2124, -0.0606, -0.1638, -0.1097, -0.3806, -0.2413,  0.1221,\n",
       "                      -0.1535, -0.8066,  0.0121, -0.2093, -0.2702, -0.2573, -0.1963, -0.4805,\n",
       "                      -0.0947, -0.2690, -0.0919, -0.3652, -0.2256, -0.2850, -0.2494, -0.0424,\n",
       "                      -0.0757, -0.0794, -0.4181, -0.5531, -0.1984, -0.2429, -0.5302, -0.0990,\n",
       "                      -0.3043, -0.3433, -0.8163, -0.0520, -0.3096, -0.0206, -0.2035, -0.4010,\n",
       "                      -0.0524, -0.0872, -0.2780, -0.9662, -0.1009, -0.0836, -0.2662, -0.2399,\n",
       "                      -0.0602, -0.0741, -0.0915, -0.1357, -0.5232, -0.1081, -0.0839, -0.1227,\n",
       "                      -0.0560,  0.3448, -0.1884, -0.2189, -0.4613, -0.3931, -0.3066, -0.3143,\n",
       "                      -0.0852, -0.1260, -0.2487, -0.3996, -0.7849, -0.0848, -0.1792, -0.5405,\n",
       "                      -0.4514, -0.1574, -0.0980, -0.1994, -0.0493, -0.2335, -0.2272, -0.4207,\n",
       "                      -0.2641, -0.1031, -0.0778, -0.5895, -0.0763, -0.1874, -0.0872, -0.5214,\n",
       "                      -0.1286, -0.3965, -0.3271, -0.2246, -0.0617, -0.4583,  0.3000, -0.1159,\n",
       "                      -0.0573, -0.1978, -0.9085, -0.2829, -0.2325, -0.3802,  0.0574, -0.0849,\n",
       "                      -0.4452, -0.1218, -0.0473, -0.2184, -0.5760, -0.7122,  0.0637, -0.0739,\n",
       "                      -0.0880, -0.3136, -0.0831, -0.2259, -0.2710, -0.4705, -0.1600, -0.0396,\n",
       "                      -0.2323, -0.3081, -0.2258, -0.0906, -0.0377, -0.0491,  0.4973, -0.7878,\n",
       "                      -0.0651, -0.0800, -0.0968,  0.1131,  0.0340, -0.1480, -0.2452, -0.2374,\n",
       "                      -0.3832, -0.3369, -0.0873, -0.2919, -0.1692, -0.2331, -0.3828, -0.4106,\n",
       "                      -0.3953, -0.2882, -0.2072, -0.1131, -0.3183, -0.0716, -0.2230, -0.0464,\n",
       "                      -0.1122, -0.0831, -0.2061, -0.3337, -0.1064, -0.4900, -0.4275,  0.4534,\n",
       "                      -0.5385, -0.0930, -0.0873, -0.5206, -0.1607, -0.5807, -0.0877, -0.1646,\n",
       "                      -0.5586, -0.5415, -0.2158, -0.2343, -0.1264, -0.0748,  0.0520, -0.4184,\n",
       "                      -0.1811, -0.2794, -0.1287, -0.3425, -0.0294,  0.1025, -0.0704, -0.1179,\n",
       "                      -0.8828, -0.5684, -0.0626, -0.1170, -0.1663, -0.1171, -0.2478, -0.1061,\n",
       "                      -0.1037, -0.4162, -0.2047, -0.1196, -0.4411,  0.2724, -0.0653, -0.1085,\n",
       "                      -0.2253, -0.3023, -0.1237, -0.6008, -0.3264, -0.1097, -0.0476, -0.0684,\n",
       "                       0.0522, -0.3219, -0.4471, -0.3585, -0.8472, -0.0215, -0.2425, -0.1998,\n",
       "                      -0.2197, -0.1061, -0.0837, -0.1311, -0.1877,  0.0288, -0.1441, -0.2133,\n",
       "                      -0.4271, -0.1860, -0.1430, -0.1087, -0.3740, -0.0482, -0.3764, -0.0951,\n",
       "                      -0.2279, -0.2140, -0.5018, -0.1202, -0.2199, -0.3186, -0.2951,  0.0104,\n",
       "                      -0.1481, -0.1003, -0.6315, -0.0680, -0.0705, -0.0324, -0.3871, -0.0695])),\n",
       "             ('linears.2.weight',\n",
       "              tensor([[ 2.4181e-03,  9.4803e-02, -1.4608e-02,  ...,  4.3846e-04,\n",
       "                       -7.4206e-02,  1.6470e-03],\n",
       "                      [-1.3165e-02, -1.6433e-01, -3.8267e-03,  ...,  4.1128e-03,\n",
       "                        1.7988e-01,  2.0902e-02],\n",
       "                      [ 1.1028e-02, -2.5783e-01,  4.0221e-03,  ...,  4.0740e-05,\n",
       "                       -1.6671e-01,  4.7803e-03],\n",
       "                      ...,\n",
       "                      [ 1.3603e-02,  6.6378e-02, -3.8084e-04,  ...,  6.9498e-03,\n",
       "                       -4.4009e-02, -1.0951e-03],\n",
       "                      [-1.0222e-02,  3.1558e-02,  3.2352e-02,  ..., -3.3977e-03,\n",
       "                        5.1457e-02, -3.7486e-03],\n",
       "                      [-4.0138e-02,  6.4048e-02,  3.4578e-03,  ...,  1.2295e-02,\n",
       "                       -2.3689e-01, -1.4577e-02]])),\n",
       "             ('linears.2.bias',\n",
       "              tensor([-0.2580,  1.1486,  0.2704, -0.1680,  0.0115,  0.0857,  0.1272, -0.2549,\n",
       "                      -0.3004,  0.1374,  0.0360, -0.0343, -0.0489, -0.1950,  0.2588, -0.0138,\n",
       "                       0.0926,  0.0681,  0.3354, -0.0463,  0.0231, -0.1705, -0.1997,  0.4152,\n",
       "                       0.2198, -0.0241, -0.2453, -0.0210,  0.0316,  0.2448,  0.4060,  0.1198,\n",
       "                      -0.0314,  0.2354, -0.0707,  0.2438,  0.1246, -0.2332,  0.0321, -0.6045,\n",
       "                       0.0779,  0.4804,  0.3554, -0.1071,  0.4137, -0.0776,  0.5609,  0.2382,\n",
       "                       0.0198, -0.1160, -0.0815, -0.2447,  0.2229,  0.1716,  0.0935,  0.2289,\n",
       "                       0.2761,  0.1471, -0.0427, -0.2135, -0.0752,  0.0495, -0.3740,  0.1755])),\n",
       "             ('linears.4.weight',\n",
       "              tensor([[-1.7362e-01, -1.3340e-01,  1.7863e-01,  1.8321e-01, -1.5087e-01,\n",
       "                        2.6651e-01,  3.5720e-01, -1.7406e-01,  1.7175e-02,  2.3391e-02,\n",
       "                        3.7320e-01, -1.6757e-01,  1.4212e-01,  2.8592e-01,  3.2574e-01,\n",
       "                       -1.1943e-01,  1.8552e-01, -2.4443e-01, -1.5347e-01,  2.1884e-01,\n",
       "                       -1.7357e-02,  3.9027e-01, -1.0363e-01,  1.2110e-01, -2.0131e-01,\n",
       "                       -1.0164e-01, -1.9852e-01,  1.1176e-01, -1.3543e-01, -6.7224e-02,\n",
       "                        1.5932e-01,  8.1503e-02,  4.0369e-01,  1.3325e-01,  2.3906e-01,\n",
       "                       -1.4100e-01,  9.1934e-02,  2.7156e-01, -1.9178e-01, -1.3108e-01,\n",
       "                        1.9635e-01,  1.3013e-01,  8.2650e-02, -9.7428e-02, -2.1170e-01,\n",
       "                        5.9614e-02, -2.0188e-02, -2.5775e-01,  1.3217e-01,  3.2539e-01,\n",
       "                       -3.8268e-01,  1.4765e-01, -3.5533e-03,  1.1313e-01, -2.2004e-01,\n",
       "                       -2.2184e-01, -2.2705e-01, -1.5368e-01, -6.4556e-02,  3.6475e-02,\n",
       "                        4.4962e-01, -3.4301e-01,  2.2626e-01, -6.6985e-02],\n",
       "                      [-1.6080e-01, -1.3953e-01,  1.8828e-01,  1.8164e-01, -1.7129e-01,\n",
       "                        1.4313e-01,  4.0016e-01, -1.6105e-01,  1.2822e-02,  1.2896e-02,\n",
       "                        2.4659e-01, -2.2136e-01,  9.8431e-02,  2.8879e-01,  3.1483e-01,\n",
       "                       -6.8914e-02,  1.0029e-01, -2.3103e-01, -1.6081e-01,  2.4139e-01,\n",
       "                       -3.0488e-02,  3.7467e-01, -9.1157e-02,  1.1463e-01, -1.9637e-01,\n",
       "                       -1.2888e-01, -1.3040e-01,  1.5461e-01, -1.7354e-01, -2.8460e-02,\n",
       "                        1.7628e-01,  9.2993e-02,  3.6765e-01,  1.5232e-01,  2.5304e-01,\n",
       "                       -1.6527e-01,  9.3818e-02,  1.6520e-01, -1.3340e-01, -1.5495e-01,\n",
       "                        2.0631e-01,  1.3139e-01,  8.2674e-02, -1.6791e-03, -2.5501e-01,\n",
       "                        2.8618e-02, -8.8966e-03, -9.8149e-02,  2.9030e-01,  3.2248e-01,\n",
       "                       -3.3463e-01,  1.0918e-01, -7.7754e-02,  1.5356e-02, -2.2906e-01,\n",
       "                       -2.2053e-01, -2.1569e-01, -8.8477e-02,  1.3221e-02, -1.9311e-02,\n",
       "                        4.6407e-01, -3.0613e-01,  2.2006e-01, -6.0698e-02],\n",
       "                      [-1.3773e-01, -1.3471e-01,  1.6588e-01,  1.6766e-01, -1.6882e-01,\n",
       "                        1.3458e-02,  4.0922e-01, -1.4219e-01, -2.0009e-02,  5.4310e-03,\n",
       "                        7.3073e-02, -2.3152e-01,  3.3456e-02,  2.8016e-01,  2.8305e-01,\n",
       "                       -6.9136e-03, -2.0839e-02, -2.0778e-01, -1.5452e-01,  2.4579e-01,\n",
       "                       -3.8668e-03,  3.5415e-01, -7.2776e-02,  1.0068e-01, -1.7611e-01,\n",
       "                       -1.3527e-01, -1.7634e-02,  1.1570e-01, -2.1837e-01,  6.0291e-02,\n",
       "                        1.7940e-01,  1.0296e-01,  2.8680e-01,  2.0830e-01,  2.3237e-01,\n",
       "                       -1.7705e-01,  7.8248e-02, -7.1097e-03, -2.0948e-02, -1.6619e-01,\n",
       "                        2.0923e-01,  1.2370e-01,  8.5323e-02,  1.1997e-01, -2.9919e-01,\n",
       "                       -2.2390e-02, -4.4413e-04,  1.0443e-01,  4.6384e-01,  2.9294e-01,\n",
       "                       -2.1585e-01, -1.4423e-02, -1.5723e-01, -1.0715e-01, -2.2509e-01,\n",
       "                       -2.0881e-01, -1.9819e-01,  2.9805e-02,  1.0632e-01, -4.5101e-02,\n",
       "                        4.2456e-01, -2.3587e-01,  1.8895e-01, -3.1628e-02],\n",
       "                      [-1.0943e-01, -1.2128e-01,  1.3781e-01,  1.4297e-01, -1.5694e-01,\n",
       "                       -5.6819e-02,  3.5226e-01, -1.2167e-01, -7.9647e-02,  6.6681e-03,\n",
       "                       -8.5302e-02, -1.7321e-01, -2.8504e-02,  2.5246e-01,  2.4804e-01,\n",
       "                        4.2751e-02, -1.2749e-01, -1.8426e-01, -1.4042e-01,  2.2365e-01,\n",
       "                        7.9953e-02,  3.0391e-01, -6.3336e-03,  8.5114e-02, -1.5862e-01,\n",
       "                       -1.1231e-01,  8.2618e-02, -7.7638e-03, -2.1907e-01,  1.7344e-01,\n",
       "                        1.7232e-01,  1.0715e-01,  1.7121e-01,  2.5369e-01,  1.9363e-01,\n",
       "                       -1.7251e-01,  1.3432e-02, -1.6642e-01,  1.3098e-01, -1.5909e-01,\n",
       "                        1.9934e-01,  1.1274e-01,  8.3469e-02,  1.6325e-01, -3.3037e-01,\n",
       "                       -8.2276e-02,  8.8078e-03,  2.1749e-01,  5.8873e-01,  2.4725e-01,\n",
       "                       -4.7705e-02, -1.5656e-01, -2.0877e-01, -1.5351e-01, -2.2162e-01,\n",
       "                       -1.8552e-01, -1.8056e-01,  1.3046e-01,  1.4262e-01,  1.0864e-02,\n",
       "                        3.4171e-01, -1.3329e-01,  1.3249e-01,  5.9419e-02],\n",
       "                      [-7.8724e-02, -1.0097e-01,  9.5409e-02,  1.0574e-01, -1.3551e-01,\n",
       "                       -7.1894e-02,  2.5547e-01, -1.0749e-01, -1.7571e-01,  1.6235e-02,\n",
       "                       -1.6245e-01, -8.1504e-02, -6.7062e-02,  2.1150e-01,  2.0127e-01,\n",
       "                        7.7468e-02, -1.7939e-01, -1.6240e-01, -1.2179e-01,  1.9213e-01,\n",
       "                        1.9087e-01,  2.3097e-01,  8.9607e-02,  6.7079e-02, -1.4121e-01,\n",
       "                       -7.6928e-02,  1.4224e-01, -1.2893e-01, -1.7350e-01,  3.1239e-01,\n",
       "                        1.5751e-01,  9.8468e-02,  6.5685e-02,  2.7903e-01,  1.4327e-01,\n",
       "                       -1.6063e-01, -6.0634e-02, -2.5988e-01,  2.3099e-01, -1.4239e-01,\n",
       "                        1.7420e-01,  9.6326e-02,  8.0354e-02,  6.7517e-02, -3.3263e-01,\n",
       "                       -4.2906e-02,  2.2730e-02,  2.2510e-01,  5.7537e-01,  1.8786e-01,\n",
       "                        1.2347e-01, -1.2598e-01, -2.2733e-01, -8.0387e-02, -1.9834e-01,\n",
       "                       -1.4904e-01, -1.5209e-01,  1.5649e-01,  6.9836e-02,  1.3238e-01,\n",
       "                        2.2949e-01, -2.5906e-02,  6.1686e-02,  1.7327e-01],\n",
       "                      [-5.4843e-02, -7.9178e-02,  5.6010e-02,  5.0923e-02, -1.1265e-01,\n",
       "                       -7.0894e-02,  1.4983e-01, -9.0342e-02, -2.5484e-01,  3.4417e-02,\n",
       "                       -1.4384e-01, -2.8030e-02, -7.8536e-02,  1.6394e-01,  1.5268e-01,\n",
       "                        8.9282e-02, -1.9519e-01, -1.4484e-01, -9.0601e-02,  1.6037e-01,\n",
       "                        2.5009e-01,  1.3971e-01,  1.3356e-01,  4.7010e-02, -1.1793e-01,\n",
       "                       -4.7735e-02,  1.4866e-01, -1.1451e-01, -9.4767e-02,  3.7636e-01,\n",
       "                        1.1625e-01,  8.2379e-02,  1.3442e-02,  2.7432e-01,  7.3654e-02,\n",
       "                       -1.3553e-01, -1.3448e-01, -2.6349e-01,  2.7734e-01, -1.1623e-01,\n",
       "                        1.4268e-01,  7.2156e-02,  7.4328e-02, -8.6580e-02, -2.9280e-01,\n",
       "                        1.1127e-01,  4.8866e-02,  1.4874e-01,  4.8171e-01,  1.3045e-01,\n",
       "                        2.2701e-01,  6.2703e-02, -2.0625e-01,  7.4969e-02, -1.6639e-01,\n",
       "                       -1.2359e-01, -1.1143e-01,  1.1954e-01, -8.0057e-02,  2.2189e-01,\n",
       "                        1.5630e-01,  3.3459e-02,  6.1199e-03,  2.3030e-01],\n",
       "                      [-1.9378e-02, -5.5503e-02,  3.7797e-02,  1.4754e-02, -6.7259e-02,\n",
       "                       -6.2363e-02,  6.3881e-02, -6.0971e-02, -2.4159e-01,  5.5135e-02,\n",
       "                       -9.5988e-02,  1.7968e-02, -6.3962e-02,  1.0675e-01,  8.1683e-02,\n",
       "                        7.7976e-02, -1.9785e-01, -1.2168e-01, -5.5722e-02,  1.1905e-01,\n",
       "                        2.2264e-01,  5.7754e-02,  7.7763e-02,  2.7375e-02, -8.1844e-02,\n",
       "                       -2.7992e-02,  1.1429e-01,  3.8822e-03, -1.7154e-02,  3.3369e-01,\n",
       "                        8.1273e-02,  6.0370e-02,  1.0260e-02,  2.3182e-01,  3.1897e-02,\n",
       "                       -1.0584e-01, -1.8768e-01, -2.0260e-01,  2.7154e-01, -7.4078e-02,\n",
       "                        1.0215e-01,  4.1684e-02,  6.5794e-02, -1.6378e-01, -2.2122e-01,\n",
       "                        2.4643e-01,  8.7522e-02,  4.1832e-02,  3.2302e-01,  7.0595e-02,\n",
       "                        2.3863e-01,  2.3556e-01, -1.7553e-01,  2.0108e-01, -1.2265e-01,\n",
       "                       -9.4485e-02, -7.2074e-02,  3.1452e-02, -1.8635e-01,  2.2977e-01,\n",
       "                        1.0648e-01,  4.2134e-02, -9.6946e-03,  2.0351e-01],\n",
       "                      [ 8.7480e-03, -3.1114e-02,  1.1864e-02,  1.7319e-02, -2.6715e-02,\n",
       "                       -3.9954e-02,  2.1878e-02, -3.2480e-02, -1.3736e-01,  8.2855e-02,\n",
       "                       -3.9788e-02,  4.5960e-02, -4.0845e-02,  5.9113e-02,  1.0536e-02,\n",
       "                        5.9321e-02, -1.5035e-01, -7.5807e-02, -2.4325e-02,  6.7840e-02,\n",
       "                        1.5293e-01,  1.8462e-02, -2.6523e-03,  1.2790e-02, -4.3069e-02,\n",
       "                       -1.8108e-02,  6.8266e-02,  1.1902e-01,  1.8514e-02,  2.2239e-01,\n",
       "                        5.0845e-02,  3.5850e-02,  1.0032e-02,  1.5856e-01,  1.4683e-03,\n",
       "                       -7.0278e-02, -1.7328e-01, -1.0096e-01,  2.0848e-01, -2.8718e-02,\n",
       "                        4.8004e-02,  1.7198e-02,  5.2371e-02, -1.3862e-01, -1.2786e-01,\n",
       "                        2.0060e-01,  1.1855e-01, -2.2044e-03,  1.3253e-01,  2.8183e-02,\n",
       "                        1.7872e-01,  2.6447e-01, -1.0970e-01,  2.1116e-01, -7.1171e-02,\n",
       "                       -5.5332e-02, -4.9155e-02, -3.6646e-02, -1.6890e-01,  1.2105e-01,\n",
       "                        6.0717e-02,  2.4878e-02, -1.6367e-02,  1.2052e-01],\n",
       "                      [ 1.7707e-02, -1.0019e-02, -1.3189e-02,  1.1907e-02, -4.8253e-03,\n",
       "                       -1.4727e-02,  9.3501e-03, -1.3255e-02, -3.7650e-02,  1.3427e-01,\n",
       "                       -1.0098e-02,  2.7827e-02, -1.5159e-02,  9.1223e-03, -1.1779e-02,\n",
       "                        2.6337e-02, -4.2509e-02, -3.0466e-02, -6.5317e-03,  2.5787e-02,\n",
       "                        7.0181e-02,  1.4886e-02, -2.9463e-02, -2.1921e-03, -1.0259e-02,\n",
       "                       -1.5000e-02,  2.4627e-02,  1.1372e-01,  8.3703e-03,  7.3634e-02,\n",
       "                        1.5836e-02,  1.2055e-02,  2.5646e-03,  5.5991e-02, -2.9632e-03,\n",
       "                       -3.0627e-02, -9.6940e-02, -1.5899e-02,  9.1387e-02, -7.1461e-03,\n",
       "                        7.2067e-03,  1.7482e-03,  2.6498e-02, -5.8235e-02, -3.2487e-02,\n",
       "                        5.2950e-02,  9.4884e-02, -1.3888e-02,  1.4588e-02,  8.8822e-03,\n",
       "                        7.8668e-02,  1.2072e-01, -2.1768e-02,  1.0274e-01, -2.3184e-02,\n",
       "                       -1.3752e-02, -2.3064e-02, -2.3555e-02, -5.9618e-02,  1.5552e-02,\n",
       "                        1.3135e-02, -7.4183e-03, -1.7427e-02,  2.2720e-02],\n",
       "                      [ 2.5651e-04, -7.2880e-03,  5.8106e-04,  8.4160e-03, -1.0574e-02,\n",
       "                        2.2064e-03, -8.5863e-04,  1.9890e-03, -7.2334e-04,  1.9805e-01,\n",
       "                       -7.8693e-03, -1.1803e-04,  4.2637e-03, -3.6826e-03,  4.9304e-03,\n",
       "                       -3.0095e-03, -9.4250e-03,  8.0554e-03, -1.7279e-03,  7.2931e-04,\n",
       "                        6.8424e-04, -1.0916e-03,  2.4683e-03, -2.8181e-03,  1.1409e-02,\n",
       "                        1.0727e-02,  2.0180e-03,  7.4122e-03,  1.4925e-03,  9.0565e-03,\n",
       "                        3.0617e-03, -3.1424e-03, -1.3886e-04, -1.8467e-03,  3.5492e-03,\n",
       "                        1.5353e-03, -4.2888e-03,  7.7831e-03, -4.3341e-03, -5.2073e-03,\n",
       "                       -1.4037e-03, -2.4228e-03, -2.7399e-03,  1.1593e-02,  9.6371e-03,\n",
       "                       -1.6886e-02, -1.3604e-02, -1.5126e-03,  1.2615e-03, -2.4131e-03,\n",
       "                        1.4745e-02, -8.0020e-03, -4.3834e-03, -2.2554e-03,  1.4971e-02,\n",
       "                        8.6418e-03,  4.3477e-03, -1.0276e-03,  7.3011e-04, -3.3223e-04,\n",
       "                       -5.5561e-03, -1.3833e-02, -4.2586e-03, -4.1528e-03]])),\n",
       "             ('linears.4.bias',\n",
       "              tensor([0.2876, 0.2932, 0.2848, 0.2605, 0.2241, 0.1780, 0.1267, 0.0703, 0.0222,\n",
       "                      0.0112]))])"
      ]
     },
     "execution_count": 22,
     "metadata": {},
     "output_type": "execute_result"
    }
   ],
   "source": [
    "state_dict"
   ]
  },
  {
   "cell_type": "code",
   "execution_count": 24,
   "metadata": {},
   "outputs": [
    {
     "data": {
      "text/plain": [
       "<matplotlib.legend.Legend at 0x7fdf996a4ed0>"
      ]
     },
     "execution_count": 24,
     "metadata": {},
     "output_type": "execute_result"
    },
    {
     "data": {
      "image/png": "[encoded data removed]",
      "text/plain": [
       "<Figure size 432x288 with 1 Axes>"
      ]
     },
     "metadata": {
      "needs_background": "light"
     },
     "output_type": "display_data"
    }
   ],
   "source": [
    "best_model.to(device)\n",
    "best_model.eval()\n",
    "\n",
    "for X, y in test_loader:\n",
    "    X, y = X.to(device), y.to(device)\n",
    "    \n",
    "    predict = best_model(X)\n",
    "    \n",
    "    break\n",
    "\n",
    "plt.plot(predict.cpu().detach().numpy().squeeze(), label='predict')\n",
    "plt.plot(y.cpu().detach().numpy().squeeze(), label='true')\n",
    "plt.legend()"
   ]
  },
  {
   "cell_type": "markdown",
   "metadata": {},
   "source": [
    "## Adversarial Attack"
   ]
  },
  {
   "cell_type": "code",
   "execution_count": 26,
   "metadata": {},
   "outputs": [],
   "source": [
    "from advertorch.attacks import LinfPGDAttack"
   ]
  },
  {
   "cell_type": "code",
   "execution_count": null,
   "metadata": {},
   "outputs": [],
   "source": [
    "adversary = LinfPGDAttack(\n",
    "    best_model, loss_fn=nn.MSELoss(), eps=0.3,\n",
    "    nb_iter=40, eps_iter=0.01, rand_init=True, clip_min=0.0, clip_max=1.0,\n",
    "    targeted=False)\n",
    "\n",
    "adv_untargeted = adversary.perturb(cln_data, true_label)\n",
    "\n",
    "target = torch.ones_like(true_label) * 3"
   ]
  }
 ],
 "metadata": {
  "kernelspec": {
   "display_name": "Python 3",
   "language": "python",
   "name": "python3"
  },
  "language_info": {
   "codemirror_mode": {
    "name": "ipython",
    "version": 3
   },
   "file_extension": ".py",
   "mimetype": "text/x-python",
   "name": "python",
   "nbconvert_exporter": "python",
   "pygments_lexer": "ipython3",
   "version": "3.7.4"
  }
 },
 "nbformat": 4,
 "nbformat_minor": 4
}
