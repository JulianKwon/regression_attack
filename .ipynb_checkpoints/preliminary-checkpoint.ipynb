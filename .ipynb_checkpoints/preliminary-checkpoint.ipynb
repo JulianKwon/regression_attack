{
 "cells": [
  {
   "cell_type": "markdown",
   "metadata": {},
   "source": [
    "# A2D2 Dataset (Bus signal data)"
   ]
  },
  {
   "cell_type": "code",
   "execution_count": 1,
   "metadata": {},
   "outputs": [],
   "source": [
    "import json\n",
    "import pprint"
   ]
  },
  {
   "cell_type": "markdown",
   "metadata": {},
   "source": [
    "open dataset"
   ]
  },
  {
   "cell_type": "code",
   "execution_count": 2,
   "metadata": {},
   "outputs": [],
   "source": [
    "with open ('Dataset/20180810150607_bus_signals.json', 'r') as f:\n",
    "    sig = json.load(f)"
   ]
  },
  {
   "cell_type": "code",
   "execution_count": 6,
   "metadata": {},
   "outputs": [
    {
     "data": {
      "text/plain": [
       "dict_keys(['acceleration_x', 'acceleration_y', 'acceleration_z', 'accelerator_pedal', 'accelerator_pedal_gradient_sign', 'angular_velocity_omega_x', 'angular_velocity_omega_y', 'angular_velocity_omega_z', 'brake_pressure', 'distance_pulse_front_left', 'distance_pulse_front_right', 'distance_pulse_rear_left', 'distance_pulse_rear_right', 'latitude_degree', 'latitude_direction', 'longitude_degree', 'longitude_direction', 'pitch_angle', 'roll_angle', 'steering_angle_calculated', 'steering_angle_calculated_sign', 'vehicle_speed'])"
      ]
     },
     "execution_count": 6,
     "metadata": {},
     "output_type": "execute_result"
    }
   ],
   "source": [
    "sig.keys()"
   ]
  },
  {
   "cell_type": "markdown",
   "metadata": {},
   "source": [
    "- check null values in each column"
   ]
  },
  {
   "cell_type": "code",
   "execution_count": 13,
   "metadata": {},
   "outputs": [],
   "source": [
    "import numpy as np\n",
    "import pandas as pd"
   ]
  },
  {
   "cell_type": "code",
   "execution_count": 31,
   "metadata": {},
   "outputs": [],
   "source": [
    "import time, datetime"
   ]
  },
  {
   "cell_type": "code",
   "execution_count": 57,
   "metadata": {},
   "outputs": [],
   "source": [
    "new_dict = {}\n",
    "new_idx = np.array(sig['acceleration_x']['values'])[:, 0] * 1e-6\n",
    "# new_idx = datetime.datetime.fromtimestamp(new_idx.astype(np.datetime64))\n",
    "for key in sig.keys():\n",
    "    new_dict[key] = np.array(sig[key]['values'])[:,1]\n",
    "    "
   ]
  },
  {
   "cell_type": "code",
   "execution_count": 60,
   "metadata": {},
   "outputs": [
    {
     "data": {
      "text/plain": [
       "(105153,)"
      ]
     },
     "execution_count": 60,
     "metadata": {},
     "output_type": "execute_result"
    }
   ],
   "source": [
    "for key in new_dict."
   ]
  },
  {
   "cell_type": "code",
   "execution_count": 49,
   "metadata": {},
   "outputs": [
    {
     "ename": "AttributeError",
     "evalue": "'float' object has no attribute 'datetime64'",
     "output_type": "error",
     "traceback": [
      "\u001b[0;31m---------------------------------------------------------------------------\u001b[0m",
      "\u001b[0;31mAttributeError\u001b[0m                            Traceback (most recent call last)",
      "\u001b[0;32m<ipython-input-49-814bb04e2bae>\u001b[0m in \u001b[0;36m<module>\u001b[0;34m\u001b[0m\n\u001b[0;32m----> 1\u001b[0;31m \u001b[0mdatetime\u001b[0m\u001b[0;34m.\u001b[0m\u001b[0mdatetime\u001b[0m\u001b[0;34m.\u001b[0m\u001b[0mfromtimestamp\u001b[0m\u001b[0;34m(\u001b[0m\u001b[0mnp\u001b[0m\u001b[0;34m.\u001b[0m\u001b[0marray\u001b[0m\u001b[0;34m(\u001b[0m\u001b[0msig\u001b[0m\u001b[0;34m[\u001b[0m\u001b[0;34m'acceleration_x'\u001b[0m\u001b[0;34m]\u001b[0m\u001b[0;34m[\u001b[0m\u001b[0;34m'values'\u001b[0m\u001b[0;34m]\u001b[0m\u001b[0;34m)\u001b[0m\u001b[0;34m[\u001b[0m\u001b[0;34m:\u001b[0m\u001b[0;34m,\u001b[0m \u001b[0;36m0\u001b[0m\u001b[0;34m]\u001b[0m\u001b[0;34m*\u001b[0m\u001b[0;36m1e-6\u001b[0m\u001b[0;34m.\u001b[0m\u001b[0mdatetime64\u001b[0m\u001b[0;34m)\u001b[0m\u001b[0;34m\u001b[0m\u001b[0;34m\u001b[0m\u001b[0m\n\u001b[0m",
      "\u001b[0;31mAttributeError\u001b[0m: 'float' object has no attribute 'datetime64'"
     ]
    }
   ],
   "source": [
    "datetime.datetime.fromtimestamp(np.array(sig['acceleration_x']['values'])[:, 0]*1e-6)"
   ]
  },
  {
   "cell_type": "code",
   "execution_count": 51,
   "metadata": {},
   "outputs": [
    {
     "ename": "ValueError",
     "evalue": "Could not convert object to NumPy datetime",
     "output_type": "error",
     "traceback": [
      "\u001b[0;31m---------------------------------------------------------------------------\u001b[0m",
      "\u001b[0;31mValueError\u001b[0m                                Traceback (most recent call last)",
      "\u001b[0;32m<ipython-input-51-6af2442ac7d1>\u001b[0m in \u001b[0;36m<module>\u001b[0;34m\u001b[0m\n\u001b[0;32m----> 1\u001b[0;31m \u001b[0mnp\u001b[0m\u001b[0;34m.\u001b[0m\u001b[0mdatetime64\u001b[0m\u001b[0;34m(\u001b[0m\u001b[0mnp\u001b[0m\u001b[0;34m.\u001b[0m\u001b[0marray\u001b[0m\u001b[0;34m(\u001b[0m\u001b[0msig\u001b[0m\u001b[0;34m[\u001b[0m\u001b[0;34m'acceleration_x'\u001b[0m\u001b[0;34m]\u001b[0m\u001b[0;34m[\u001b[0m\u001b[0;34m'values'\u001b[0m\u001b[0;34m]\u001b[0m\u001b[0;34m)\u001b[0m\u001b[0;34m[\u001b[0m\u001b[0;34m:\u001b[0m\u001b[0;34m,\u001b[0m \u001b[0;36m0\u001b[0m\u001b[0;34m]\u001b[0m\u001b[0;34m*\u001b[0m\u001b[0;36m1e-6\u001b[0m\u001b[0;34m)\u001b[0m\u001b[0;34m\u001b[0m\u001b[0;34m\u001b[0m\u001b[0m\n\u001b[0m",
      "\u001b[0;31mValueError\u001b[0m: Could not convert object to NumPy datetime"
     ]
    }
   ],
   "source": [
    "np.datetime64(np.array(sig['acceleration_x']['values'])[:, 0]*1e-6)"
   ]
  },
  {
   "cell_type": "code",
   "execution_count": null,
   "metadata": {},
   "outputs": [],
   "source": []
  },
  {
   "cell_type": "code",
   "execution_count": null,
   "metadata": {},
   "outputs": [],
   "source": []
  },
  {
   "cell_type": "code",
   "execution_count": null,
   "metadata": {},
   "outputs": [],
   "source": []
  },
  {
   "cell_type": "code",
   "execution_count": null,
   "metadata": {},
   "outputs": [],
   "source": []
  },
  {
   "cell_type": "code",
   "execution_count": null,
   "metadata": {},
   "outputs": [],
   "source": []
  },
  {
   "cell_type": "code",
   "execution_count": 39,
   "metadata": {
    "scrolled": true
   },
   "outputs": [
    {
     "name": "stdout",
     "output_type": "stream",
     "text": [
      "2018-08-10 13:06:54.544846\n",
      "2018-08-10 13:06:54.549847\n",
      "2018-08-10 13:06:54.554847\n",
      "2018-08-10 13:06:54.559849\n",
      "2018-08-10 13:06:54.564848\n",
      "2018-08-10 13:06:54.569847\n",
      "2018-08-10 13:06:54.574847\n",
      "2018-08-10 13:06:54.579847\n",
      "2018-08-10 13:06:54.584847\n",
      "2018-08-10 13:06:54.589849\n",
      "2018-08-10 13:06:54.594849\n",
      "2018-08-10 13:06:54.599848\n",
      "2018-08-10 13:06:54.604848\n",
      "2018-08-10 13:06:54.609848\n",
      "2018-08-10 13:06:54.614851\n",
      "2018-08-10 13:06:54.619849\n",
      "2018-08-10 13:06:54.624848\n",
      "2018-08-10 13:06:54.629849\n",
      "2018-08-10 13:06:54.634849\n",
      "2018-08-10 13:06:54.639849\n",
      "2018-08-10 13:06:54.644849\n",
      "2018-08-10 13:06:54.649849\n",
      "2018-08-10 13:06:54.654849\n",
      "2018-08-10 13:06:54.659850\n",
      "2018-08-10 13:06:54.664850\n",
      "2018-08-10 13:06:54.669849\n",
      "2018-08-10 13:06:54.674850\n",
      "2018-08-10 13:06:54.679850\n",
      "2018-08-10 13:06:54.684854\n",
      "2018-08-10 13:06:54.689850\n",
      "2018-08-10 13:06:54.694850\n",
      "2018-08-10 13:06:54.699849\n",
      "2018-08-10 13:06:54.704850\n",
      "2018-08-10 13:06:54.709851\n",
      "2018-08-10 13:06:54.714851\n",
      "2018-08-10 13:06:54.719855\n",
      "2018-08-10 13:06:54.724854\n",
      "2018-08-10 13:06:54.729851\n",
      "2018-08-10 13:06:54.734850\n",
      "2018-08-10 13:06:54.739854\n",
      "2018-08-10 13:06:54.744851\n",
      "2018-08-10 13:06:54.749852\n",
      "2018-08-10 13:06:54.754852\n",
      "2018-08-10 13:06:54.759851\n",
      "2018-08-10 13:06:54.764852\n",
      "2018-08-10 13:06:54.769852\n",
      "2018-08-10 13:06:54.774852\n",
      "2018-08-10 13:06:54.779852\n",
      "2018-08-10 13:06:54.784852\n",
      "2018-08-10 13:06:54.789854\n",
      "2018-08-10 13:06:54.794853\n",
      "2018-08-10 13:06:54.799852\n",
      "2018-08-10 13:06:54.804852\n",
      "2018-08-10 13:06:54.809853\n",
      "2018-08-10 13:06:54.814853\n",
      "2018-08-10 13:06:54.819854\n",
      "2018-08-10 13:06:54.824853\n",
      "2018-08-10 13:06:54.829853\n",
      "2018-08-10 13:06:54.834854\n",
      "2018-08-10 13:06:54.839862\n",
      "2018-08-10 13:06:54.844853\n",
      "2018-08-10 13:06:54.849854\n",
      "2018-08-10 13:06:54.854855\n",
      "2018-08-10 13:06:54.859863\n",
      "2018-08-10 13:06:54.864854\n",
      "2018-08-10 13:06:54.869858\n",
      "2018-08-10 13:06:54.874854\n",
      "2018-08-10 13:06:54.879854\n",
      "2018-08-10 13:06:54.884855\n",
      "2018-08-10 13:06:54.889855\n",
      "2018-08-10 13:06:54.894855\n",
      "2018-08-10 13:06:54.899854\n",
      "2018-08-10 13:06:54.904855\n",
      "2018-08-10 13:06:54.909856\n",
      "2018-08-10 13:06:54.914856\n",
      "2018-08-10 13:06:54.919855\n",
      "2018-08-10 13:06:54.924856\n",
      "2018-08-10 13:06:54.929856\n",
      "2018-08-10 13:06:54.934856\n",
      "2018-08-10 13:06:54.939855\n",
      "2018-08-10 13:06:54.944857\n",
      "2018-08-10 13:06:54.949857\n",
      "2018-08-10 13:06:54.954856\n",
      "2018-08-10 13:06:54.959856\n",
      "2018-08-10 13:06:54.964857\n",
      "2018-08-10 13:06:54.969864\n",
      "2018-08-10 13:06:54.974857\n",
      "2018-08-10 13:06:54.979857\n",
      "2018-08-10 13:06:54.984857\n",
      "2018-08-10 13:06:54.989856\n",
      "2018-08-10 13:06:54.994858\n",
      "2018-08-10 13:06:54.999858\n",
      "2018-08-10 13:06:55.004861\n",
      "2018-08-10 13:06:55.009859\n",
      "2018-08-10 13:06:55.014858\n",
      "2018-08-10 13:06:55.019859\n",
      "2018-08-10 13:06:55.024858\n",
      "2018-08-10 13:06:55.029858\n",
      "2018-08-10 13:06:55.034858\n",
      "2018-08-10 13:06:55.039859\n"
     ]
    }
   ],
   "source": [
    "for i in range(100):\n",
    "    print(datetime.datetime.fromtimestamp(sig['acceleration_x']['values'][i][0] * 1e-6))\n",
    "\n",
    "    print(datetime.datetime.fromtimestamp(sig['acceleration_z']['values'][i][0] * 1e-6))"
   ]
  },
  {
   "cell_type": "code",
   "execution_count": 38,
   "metadata": {
    "scrolled": true
   },
   "outputs": [
    {
     "data": {
      "text/plain": [
       "datetime.datetime(2018, 8, 10, 13, 6, 54, 544846)"
      ]
     },
     "execution_count": 38,
     "metadata": {},
     "output_type": "execute_result"
    }
   ],
   "source": [
    "datetime.datetime.fromtimestamp(a * 1e-6)"
   ]
  },
  {
   "cell_type": "code",
   "execution_count": 13,
   "metadata": {
    "scrolled": false
   },
   "outputs": [
    {
     "data": {
      "text/plain": [
       "(2223, 188)"
      ]
     },
     "execution_count": 13,
     "metadata": {},
     "output_type": "execute_result"
    }
   ],
   "source": [
    "train_df.loc[train_df[187] == 1].shape"
   ]
  },
  {
   "cell_type": "code",
   "execution_count": 7,
   "metadata": {},
   "outputs": [
    {
     "data": {
      "text/plain": [
       "109446"
      ]
     },
     "execution_count": 7,
     "metadata": {},
     "output_type": "execute_result"
    }
   ],
   "source": [
    "87554+21892"
   ]
  },
  {
   "cell_type": "code",
   "execution_count": 8,
   "metadata": {},
   "outputs": [
    {
     "name": "stdout",
     "output_type": "stream",
     "text": [
      "0    72471\n",
      "4     6431\n",
      "2     5788\n",
      "1     2223\n",
      "3      641\n",
      "Name: 187, dtype: int64\n"
     ]
    }
   ],
   "source": [
    "train_df[187]=train_df[187].astype(int)\n",
    "equilibre=train_df[187].value_counts()\n",
    "print(equilibre)"
   ]
  },
  {
   "cell_type": "code",
   "execution_count": 14,
   "metadata": {},
   "outputs": [],
   "source": [
    "import seaborn as sns\n",
    "import matplotlib.pyplot as plt"
   ]
  },
  {
   "cell_type": "code",
   "execution_count": 15,
   "metadata": {},
   "outputs": [
    {
     "data": {
      "image/png": "[encoded data removed]",
      "text/plain": [
       "<Figure size 1440x720 with 1 Axes>"
      ]
     },
     "metadata": {},
     "output_type": "display_data"
    }
   ],
   "source": [
    "plt.figure(figsize=(20,10))\n",
    "my_circle=plt.Circle( (0,0), 0.7, color='white')\n",
    "plt.pie(equilibre, labels=['n','q','v','s','f'], colors=['red','green','blue','skyblue','orange'],autopct='%1.1f%%')\n",
    "p=plt.gcf()\n",
    "p.gca().add_artist(my_circle)\n",
    "plt.show()"
   ]
  },
  {
   "cell_type": "code",
   "execution_count": null,
   "metadata": {},
   "outputs": [],
   "source": []
  }
 ],
 "metadata": {
  "kernelspec": {
   "display_name": "Python 3",
   "language": "python",
   "name": "python3"
  },
  "language_info": {
   "codemirror_mode": {
    "name": "ipython",
    "version": 3
   },
   "file_extension": ".py",
   "mimetype": "text/x-python",
   "name": "python",
   "nbconvert_exporter": "python",
   "pygments_lexer": "ipython3",
   "version": "3.7.4"
  }
 },
 "nbformat": 4,
 "nbformat_minor": 4
}
